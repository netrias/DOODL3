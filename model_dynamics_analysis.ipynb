{
 "cells": [
  {
   "cell_type": "markdown",
   "metadata": {
    "toc": true
   },
   "source": [
    "<h1>Table of Contents<span class=\"tocSkip\"></span></h1>\n",
    "<div class=\"toc\"><ul class=\"toc-item\"></ul></div>"
   ]
  },
  {
   "cell_type": "markdown",
   "metadata": {},
   "source": [
    "This notebook focuses on computing statistics on the dynamics of the model. It will not use the extracted dynamics but the trajectories to determine how different the initial --> final state trajectories are."
   ]
  },
  {
   "cell_type": "code",
   "execution_count": 1,
   "metadata": {},
   "outputs": [],
   "source": [
    "from utils import train_model_iteratively, get_model_weights, convert_weight_dict_to_dataframe\n",
    "# plotting\n",
    "import matplotlib.pyplot as plt\n",
    "\n",
    "plt.style.use('ggplot')\n",
    "%matplotlib inline\n",
    "%load_ext autoreload\n",
    "%autoreload 2\n",
    "import seaborn as sns"
   ]
  },
  {
   "cell_type": "code",
   "execution_count": 2,
   "metadata": {},
   "outputs": [],
   "source": [
    "import pandas as pd"
   ]
  },
  {
   "cell_type": "code",
   "execution_count": 3,
   "metadata": {},
   "outputs": [],
   "source": [
    "df = convert_weight_dict_to_dataframe(get_model_weights('./data/example_mnist'))"
   ]
  },
  {
   "cell_type": "code",
   "execution_count": 4,
   "metadata": {},
   "outputs": [
    {
     "data": {
      "text/html": [
       "<div>\n",
       "<style scoped>\n",
       "    .dataframe tbody tr th:only-of-type {\n",
       "        vertical-align: middle;\n",
       "    }\n",
       "\n",
       "    .dataframe tbody tr th {\n",
       "        vertical-align: top;\n",
       "    }\n",
       "\n",
       "    .dataframe thead th {\n",
       "        text-align: right;\n",
       "    }\n",
       "</style>\n",
       "<table border=\"1\" class=\"dataframe\">\n",
       "  <thead>\n",
       "    <tr style=\"text-align: right;\">\n",
       "      <th></th>\n",
       "      <th>model_id</th>\n",
       "      <th>epoch</th>\n",
       "      <th>val_loss</th>\n",
       "      <th>conv_kernel_0_0</th>\n",
       "      <th>conv_kernel_0_1</th>\n",
       "      <th>conv_kernel_0_2</th>\n",
       "      <th>conv_kernel_0_3</th>\n",
       "      <th>conv_kernel_0_4</th>\n",
       "      <th>conv_kernel_0_5</th>\n",
       "      <th>conv_kernel_0_6</th>\n",
       "      <th>...</th>\n",
       "      <th>dense_kernel_0_26</th>\n",
       "      <th>dense_kernel_0_27</th>\n",
       "      <th>dense_kernel_0_28</th>\n",
       "      <th>dense_kernel_0_29</th>\n",
       "      <th>dense_kernel_0_30</th>\n",
       "      <th>dense_kernel_0_31</th>\n",
       "      <th>dense_kernel_0_32</th>\n",
       "      <th>dense_kernel_0_33</th>\n",
       "      <th>dense_kernel_0_34</th>\n",
       "      <th>dense_kernel_0_35</th>\n",
       "    </tr>\n",
       "  </thead>\n",
       "  <tbody>\n",
       "    <tr>\n",
       "      <th>model.1-4-114.58.hdf5</th>\n",
       "      <td>model.1</td>\n",
       "      <td>4</td>\n",
       "      <td>114.58</td>\n",
       "      <td>0.645444</td>\n",
       "      <td>1.379788</td>\n",
       "      <td>-0.217629</td>\n",
       "      <td>0.655645</td>\n",
       "      <td>1.030957</td>\n",
       "      <td>-1.105817</td>\n",
       "      <td>-0.860753</td>\n",
       "      <td>...</td>\n",
       "      <td>-1.521248</td>\n",
       "      <td>-1.221815</td>\n",
       "      <td>1.910476</td>\n",
       "      <td>-1.591048</td>\n",
       "      <td>0.174252</td>\n",
       "      <td>0.418886</td>\n",
       "      <td>2.074132</td>\n",
       "      <td>0.940226</td>\n",
       "      <td>-1.413859</td>\n",
       "      <td>1.404976</td>\n",
       "    </tr>\n",
       "    <tr>\n",
       "      <th>model.2-12-16.86.hdf5</th>\n",
       "      <td>model.2</td>\n",
       "      <td>12</td>\n",
       "      <td>16.86</td>\n",
       "      <td>-0.724952</td>\n",
       "      <td>-0.540934</td>\n",
       "      <td>1.262243</td>\n",
       "      <td>-0.875147</td>\n",
       "      <td>0.944796</td>\n",
       "      <td>0.551129</td>\n",
       "      <td>-0.693677</td>\n",
       "      <td>...</td>\n",
       "      <td>-1.445305</td>\n",
       "      <td>-2.449076</td>\n",
       "      <td>-0.127730</td>\n",
       "      <td>-1.078782</td>\n",
       "      <td>-1.207933</td>\n",
       "      <td>-0.248174</td>\n",
       "      <td>-0.894893</td>\n",
       "      <td>-0.624966</td>\n",
       "      <td>-0.785809</td>\n",
       "      <td>-1.692444</td>\n",
       "    </tr>\n",
       "    <tr>\n",
       "      <th>model.5-2-358.98.hdf5</th>\n",
       "      <td>model.5</td>\n",
       "      <td>2</td>\n",
       "      <td>358.98</td>\n",
       "      <td>-0.559430</td>\n",
       "      <td>-0.888182</td>\n",
       "      <td>-1.541573</td>\n",
       "      <td>0.160346</td>\n",
       "      <td>-0.581759</td>\n",
       "      <td>0.891427</td>\n",
       "      <td>-0.360268</td>\n",
       "      <td>...</td>\n",
       "      <td>0.425970</td>\n",
       "      <td>1.095307</td>\n",
       "      <td>0.931358</td>\n",
       "      <td>-0.312380</td>\n",
       "      <td>0.552291</td>\n",
       "      <td>0.820213</td>\n",
       "      <td>1.152580</td>\n",
       "      <td>-0.186319</td>\n",
       "      <td>-0.600931</td>\n",
       "      <td>0.996074</td>\n",
       "    </tr>\n",
       "    <tr>\n",
       "      <th>model.3-8-113.08.hdf5</th>\n",
       "      <td>model.3</td>\n",
       "      <td>8</td>\n",
       "      <td>113.08</td>\n",
       "      <td>0.937205</td>\n",
       "      <td>0.336779</td>\n",
       "      <td>-0.996337</td>\n",
       "      <td>-0.432330</td>\n",
       "      <td>-1.419278</td>\n",
       "      <td>-1.812614</td>\n",
       "      <td>-0.281635</td>\n",
       "      <td>...</td>\n",
       "      <td>-0.276534</td>\n",
       "      <td>1.362751</td>\n",
       "      <td>0.724427</td>\n",
       "      <td>0.919965</td>\n",
       "      <td>0.772994</td>\n",
       "      <td>-1.530842</td>\n",
       "      <td>-1.048829</td>\n",
       "      <td>-0.000871</td>\n",
       "      <td>-0.003852</td>\n",
       "      <td>0.307832</td>\n",
       "    </tr>\n",
       "  </tbody>\n",
       "</table>\n",
       "<p>4 rows × 57 columns</p>\n",
       "</div>"
      ],
      "text/plain": [
       "                      model_id epoch val_loss  conv_kernel_0_0  \\\n",
       "model.1-4-114.58.hdf5  model.1     4   114.58         0.645444   \n",
       "model.2-12-16.86.hdf5  model.2    12    16.86        -0.724952   \n",
       "model.5-2-358.98.hdf5  model.5     2   358.98        -0.559430   \n",
       "model.3-8-113.08.hdf5  model.3     8   113.08         0.937205   \n",
       "\n",
       "                       conv_kernel_0_1  conv_kernel_0_2  conv_kernel_0_3  \\\n",
       "model.1-4-114.58.hdf5         1.379788        -0.217629         0.655645   \n",
       "model.2-12-16.86.hdf5        -0.540934         1.262243        -0.875147   \n",
       "model.5-2-358.98.hdf5        -0.888182        -1.541573         0.160346   \n",
       "model.3-8-113.08.hdf5         0.336779        -0.996337        -0.432330   \n",
       "\n",
       "                       conv_kernel_0_4  conv_kernel_0_5  conv_kernel_0_6  ...  \\\n",
       "model.1-4-114.58.hdf5         1.030957        -1.105817        -0.860753  ...   \n",
       "model.2-12-16.86.hdf5         0.944796         0.551129        -0.693677  ...   \n",
       "model.5-2-358.98.hdf5        -0.581759         0.891427        -0.360268  ...   \n",
       "model.3-8-113.08.hdf5        -1.419278        -1.812614        -0.281635  ...   \n",
       "\n",
       "                       dense_kernel_0_26  dense_kernel_0_27  \\\n",
       "model.1-4-114.58.hdf5          -1.521248          -1.221815   \n",
       "model.2-12-16.86.hdf5          -1.445305          -2.449076   \n",
       "model.5-2-358.98.hdf5           0.425970           1.095307   \n",
       "model.3-8-113.08.hdf5          -0.276534           1.362751   \n",
       "\n",
       "                       dense_kernel_0_28  dense_kernel_0_29  \\\n",
       "model.1-4-114.58.hdf5           1.910476          -1.591048   \n",
       "model.2-12-16.86.hdf5          -0.127730          -1.078782   \n",
       "model.5-2-358.98.hdf5           0.931358          -0.312380   \n",
       "model.3-8-113.08.hdf5           0.724427           0.919965   \n",
       "\n",
       "                       dense_kernel_0_30  dense_kernel_0_31  \\\n",
       "model.1-4-114.58.hdf5           0.174252           0.418886   \n",
       "model.2-12-16.86.hdf5          -1.207933          -0.248174   \n",
       "model.5-2-358.98.hdf5           0.552291           0.820213   \n",
       "model.3-8-113.08.hdf5           0.772994          -1.530842   \n",
       "\n",
       "                       dense_kernel_0_32  dense_kernel_0_33  \\\n",
       "model.1-4-114.58.hdf5           2.074132           0.940226   \n",
       "model.2-12-16.86.hdf5          -0.894893          -0.624966   \n",
       "model.5-2-358.98.hdf5           1.152580          -0.186319   \n",
       "model.3-8-113.08.hdf5          -1.048829          -0.000871   \n",
       "\n",
       "                       dense_kernel_0_34  dense_kernel_0_35  \n",
       "model.1-4-114.58.hdf5          -1.413859           1.404976  \n",
       "model.2-12-16.86.hdf5          -0.785809          -1.692444  \n",
       "model.5-2-358.98.hdf5          -0.600931           0.996074  \n",
       "model.3-8-113.08.hdf5          -0.003852           0.307832  \n",
       "\n",
       "[4 rows x 57 columns]"
      ]
     },
     "execution_count": 4,
     "metadata": {},
     "output_type": "execute_result"
    }
   ],
   "source": [
    "df.head(4)"
   ]
  },
  {
   "cell_type": "code",
   "execution_count": 5,
   "metadata": {},
   "outputs": [],
   "source": [
    "df['epoch']=df['epoch'].astype(int)\n",
    "df['val_loss']=df['val_loss'].astype(float)"
   ]
  },
  {
   "cell_type": "code",
   "execution_count": 38,
   "metadata": {},
   "outputs": [
    {
     "data": {
      "text/plain": [
       "12"
      ]
     },
     "execution_count": 38,
     "metadata": {},
     "output_type": "execute_result"
    }
   ],
   "source": [
    "df['epoch'].max()"
   ]
  },
  {
   "cell_type": "code",
   "execution_count": 6,
   "metadata": {},
   "outputs": [],
   "source": [
    "from mg import gp, gp_tensorflow, compute_mse"
   ]
  },
  {
   "cell_type": "code",
   "execution_count": 7,
   "metadata": {},
   "outputs": [],
   "source": [
    "#Compute Gaussian\n",
    "cols = [x for x in df.columns if 'kernel' in x]\n",
    "X1 = df[df['epoch'] == df['epoch'].min()][cols]\n",
    "Y1 = df[df['epoch'] == df['epoch'].max()][cols]\n",
    "gp_instance = gp(X1, Y1)"
   ]
  },
  {
   "cell_type": "code",
   "execution_count": 8,
   "metadata": {},
   "outputs": [
    {
     "data": {
      "text/plain": [
       "0.009417309043139852"
      ]
     },
     "execution_count": 8,
     "metadata": {},
     "output_type": "execute_result"
    }
   ],
   "source": [
    "compute_mse(gp_instance.get_model().predict(X1.to_numpy()),Y1.to_numpy())"
   ]
  },
  {
   "cell_type": "code",
   "execution_count": 9,
   "metadata": {},
   "outputs": [
    {
     "data": {
      "image/png": "[encoded data removed]",
      "text/plain": [
       "<Figure size 432x288 with 1 Axes>"
      ]
     },
     "metadata": {
      "needs_background": "light"
     },
     "output_type": "display_data"
    }
   ],
   "source": [
    "\n",
    "plt.plot(X1.to_numpy()[:,0],gp_instance.get_model().predict(X1.to_numpy())[:,0], 'yo', label='Predicted-Dim0')\n",
    "plt.plot(X1.to_numpy()[:,1],gp_instance.get_model().predict(X1.to_numpy())[:,1], 'yo', label='Predicted-Dim1');\n",
    "\n",
    "plt.plot(X1.to_numpy()[:,0], Y1.to_numpy()[:,0], 'r.', label='Actual-Dim0');\n",
    "plt.plot(X1.to_numpy()[:,1], Y1.to_numpy()[:,1], 'b.', label='Actual-Dim1)');\n",
    "plt.legend(loc=\"upper left\");"
   ]
  },
  {
   "cell_type": "code",
   "execution_count": 10,
   "metadata": {},
   "outputs": [
    {
     "name": "stdout",
     "output_type": "stream",
     "text": [
      "WARNING:tensorflow:AutoGraph could not transform <function Scipy.eval_func.<locals>._tf_eval at 0x7feb74e5ae18> and will run it as-is.\n",
      "Please report this to the TensorFlow team. When filing the bug, set the verbosity to 10 (on Linux, `export AUTOGRAPH_VERBOSITY=10`) and attach the full output.\n",
      "Cause: module 'gast' has no attribute 'Index'\n",
      "To silence this warning, decorate the function with @tf.autograph.experimental.do_not_convert\n",
      "WARNING: AutoGraph could not transform <function Scipy.eval_func.<locals>._tf_eval at 0x7feb74e5ae18> and will run it as-is.\n",
      "Please report this to the TensorFlow team. When filing the bug, set the verbosity to 10 (on Linux, `export AUTOGRAPH_VERBOSITY=10`) and attach the full output.\n",
      "Cause: module 'gast' has no attribute 'Index'\n",
      "To silence this warning, decorate the function with @tf.autograph.experimental.do_not_convert\n"
     ]
    }
   ],
   "source": [
    "gpt = gp_tensorflow(X1, Y1)"
   ]
  },
  {
   "cell_type": "code",
   "execution_count": 11,
   "metadata": {},
   "outputs": [
    {
     "data": {
      "text/plain": [
       "0.275466636931196"
      ]
     },
     "execution_count": 11,
     "metadata": {},
     "output_type": "execute_result"
    }
   ],
   "source": [
    "compute_mse(gpt.get_model().predict_f(X1.to_numpy())[0].numpy(),Y1.to_numpy())"
   ]
  },
  {
   "cell_type": "code",
   "execution_count": 12,
   "metadata": {},
   "outputs": [
    {
     "data": {
      "image/png": "[encoded data removed]",
      "text/plain": [
       "<Figure size 432x288 with 1 Axes>"
      ]
     },
     "metadata": {
      "needs_background": "light"
     },
     "output_type": "display_data"
    }
   ],
   "source": [
    "plt.plot(X1.to_numpy()[:,0],gpt.get_model().predict_f(X1.to_numpy())[0].numpy()[:,0], 'yo', label='Predicted-Dim0')\n",
    "plt.plot(X1.to_numpy()[:,1],gpt.get_model().predict_f(X1.to_numpy())[0].numpy()[:,1], 'yo', label='Predicted-Dim1');\n",
    "\n",
    "plt.plot(X1.to_numpy()[:,0], Y1.to_numpy()[:,0], 'r.', label='Actual-Dim0');\n",
    "plt.plot(X1.to_numpy()[:,1], Y1.to_numpy()[:,1], 'b.', label='Actual-Dim1)');\n",
    "plt.legend(loc=\"upper left\");"
   ]
  },
  {
   "cell_type": "code",
   "execution_count": 13,
   "metadata": {},
   "outputs": [],
   "source": [
    "from sklearn.decomposition import PCA"
   ]
  },
  {
   "cell_type": "code",
   "execution_count": 42,
   "metadata": {},
   "outputs": [
    {
     "data": {
      "image/png": "[encoded data removed]",
      "text/plain": [
       "<Figure size 1152x149.333 with 1 Axes>"
      ]
     },
     "metadata": {
      "needs_background": "light"
     },
     "output_type": "display_data"
    },
    {
     "data": {
      "image/png": "[encoded data removed]",
      "text/plain": [
       "<Figure size 1152x149.333 with 1 Axes>"
      ]
     },
     "metadata": {
      "needs_background": "light"
     },
     "output_type": "display_data"
    },
    {
     "data": {
      "image/png": "[encoded data removed]",
      "text/plain": [
       "<Figure size 1152x149.333 with 1 Axes>"
      ]
     },
     "metadata": {
      "needs_background": "light"
     },
     "output_type": "display_data"
    },
    {
     "data": {
      "image/png": "[encoded data removed]",
      "text/plain": [
       "<Figure size 1152x149.333 with 1 Axes>"
      ]
     },
     "metadata": {
      "needs_background": "light"
     },
     "output_type": "display_data"
    },
    {
     "data": {
      "image/png": "[encoded data removed]",
      "text/plain": [
       "<Figure size 1152x149.333 with 1 Axes>"
      ]
     },
     "metadata": {
      "needs_background": "light"
     },
     "output_type": "display_data"
    },
    {
     "data": {
      "image/png": "[encoded data removed]",
      "text/plain": [
       "<Figure size 1152x149.333 with 1 Axes>"
      ]
     },
     "metadata": {
      "needs_background": "light"
     },
     "output_type": "display_data"
    },
    {
     "data": {
      "image/png": "[encoded data removed]",
      "text/plain": [
       "<Figure size 1152x149.333 with 1 Axes>"
      ]
     },
     "metadata": {
      "needs_background": "light"
     },
     "output_type": "display_data"
    },
    {
     "data": {
      "image/png": "[encoded data removed]",
      "text/plain": [
       "<Figure size 1152x149.333 with 1 Axes>"
      ]
     },
     "metadata": {
      "needs_background": "light"
     },
     "output_type": "display_data"
    },
    {
     "data": {
      "image/png": "[encoded data removed]",
      "text/plain": [
       "<Figure size 1152x149.333 with 1 Axes>"
      ]
     },
     "metadata": {
      "needs_background": "light"
     },
     "output_type": "display_data"
    },
    {
     "data": {
      "image/png": "[encoded data removed]",
      "text/plain": [
       "<Figure size 1152x149.333 with 1 Axes>"
      ]
     },
     "metadata": {
      "needs_background": "light"
     },
     "output_type": "display_data"
    }
   ],
   "source": [
    "import numpy as np\n",
    "df_list = []\n",
    "pc_list = []\n",
    "for model in df['model_id'].unique():\n",
    "    df_model = df[df['model_id']==model]\n",
    "    pca = PCA()\n",
    "    pca.fit_transform(df_model[cols])\n",
    "    sum_of_rows = np.abs(pca.components_).sum(axis=1)\n",
    "#     normalized_array = pca.components_ / sum_of_rows[:, np.newaxis]\n",
    "    normalized_array = pca.components_ \n",
    "    plt.matshow(normalized_array,cmap='viridis')\n",
    "    df_temp = pd.DataFrame(normalized_array)\n",
    "    df_temp['model']=model\n",
    "    df_list.append(df_temp)\n",
    "    plt.ylabel('principle components')\n",
    "    plt.xlabel('original features')\n",
    "    plt.title(model)\n",
    "    plt.show()#\n",
    "    pc_list.append(pca.explained_variance_ratio_)\n",
    "df_pc_ex_components = pd.DataFrame(pc_list)"
   ]
  },
  {
   "cell_type": "code",
   "execution_count": 41,
   "metadata": {},
   "outputs": [
    {
     "data": {
      "text/plain": [
       "0.9596333229015759"
      ]
     },
     "execution_count": 41,
     "metadata": {},
     "output_type": "execute_result"
    }
   ],
   "source": [
    "df_pc_ex_components.loc[:,0].mean()"
   ]
  },
  {
   "cell_type": "code",
   "execution_count": 15,
   "metadata": {},
   "outputs": [
    {
     "data": {
      "text/plain": [
       "(7, 54)"
      ]
     },
     "execution_count": 15,
     "metadata": {},
     "output_type": "execute_result"
    }
   ],
   "source": [
    "pca.components_.shape"
   ]
  },
  {
   "cell_type": "code",
   "execution_count": 16,
   "metadata": {},
   "outputs": [],
   "source": [
    "df_tot = pd.concat(df_list)"
   ]
  },
  {
   "cell_type": "code",
   "execution_count": 17,
   "metadata": {},
   "outputs": [
    {
     "data": {
      "text/html": [
       "<div>\n",
       "<style scoped>\n",
       "    .dataframe tbody tr th:only-of-type {\n",
       "        vertical-align: middle;\n",
       "    }\n",
       "\n",
       "    .dataframe tbody tr th {\n",
       "        vertical-align: top;\n",
       "    }\n",
       "\n",
       "    .dataframe thead th {\n",
       "        text-align: right;\n",
       "    }\n",
       "</style>\n",
       "<table border=\"1\" class=\"dataframe\">\n",
       "  <thead>\n",
       "    <tr style=\"text-align: right;\">\n",
       "      <th></th>\n",
       "      <th>index</th>\n",
       "      <th>weight_0</th>\n",
       "      <th>weight_1</th>\n",
       "      <th>weight_2</th>\n",
       "      <th>weight_3</th>\n",
       "      <th>weight_4</th>\n",
       "      <th>weight_5</th>\n",
       "      <th>weight_6</th>\n",
       "      <th>weight_7</th>\n",
       "      <th>weight_8</th>\n",
       "      <th>...</th>\n",
       "      <th>weight_45</th>\n",
       "      <th>weight_46</th>\n",
       "      <th>weight_47</th>\n",
       "      <th>weight_48</th>\n",
       "      <th>weight_49</th>\n",
       "      <th>weight_50</th>\n",
       "      <th>weight_51</th>\n",
       "      <th>weight_52</th>\n",
       "      <th>weight_53</th>\n",
       "      <th>weight_model</th>\n",
       "    </tr>\n",
       "  </thead>\n",
       "  <tbody>\n",
       "    <tr>\n",
       "      <th>0</th>\n",
       "      <td>0</td>\n",
       "      <td>-0.084746</td>\n",
       "      <td>0.092760</td>\n",
       "      <td>0.015720</td>\n",
       "      <td>0.104968</td>\n",
       "      <td>0.099587</td>\n",
       "      <td>0.120345</td>\n",
       "      <td>-0.119383</td>\n",
       "      <td>0.100025</td>\n",
       "      <td>0.037835</td>\n",
       "      <td>...</td>\n",
       "      <td>0.172098</td>\n",
       "      <td>0.264491</td>\n",
       "      <td>-0.264490</td>\n",
       "      <td>0.003161</td>\n",
       "      <td>-0.003161</td>\n",
       "      <td>-0.224395</td>\n",
       "      <td>0.224394</td>\n",
       "      <td>-0.186575</td>\n",
       "      <td>0.186575</td>\n",
       "      <td>model.1</td>\n",
       "    </tr>\n",
       "    <tr>\n",
       "      <th>1</th>\n",
       "      <td>1</td>\n",
       "      <td>-0.175685</td>\n",
       "      <td>0.045171</td>\n",
       "      <td>-0.186942</td>\n",
       "      <td>0.042321</td>\n",
       "      <td>-0.219151</td>\n",
       "      <td>0.048615</td>\n",
       "      <td>-0.167312</td>\n",
       "      <td>0.042217</td>\n",
       "      <td>-0.189038</td>\n",
       "      <td>...</td>\n",
       "      <td>0.026802</td>\n",
       "      <td>-0.298696</td>\n",
       "      <td>0.298698</td>\n",
       "      <td>-0.102531</td>\n",
       "      <td>0.102531</td>\n",
       "      <td>-0.104265</td>\n",
       "      <td>0.104264</td>\n",
       "      <td>-0.001073</td>\n",
       "      <td>0.001073</td>\n",
       "      <td>model.1</td>\n",
       "    </tr>\n",
       "    <tr>\n",
       "      <th>2</th>\n",
       "      <td>2</td>\n",
       "      <td>-0.160731</td>\n",
       "      <td>-0.154493</td>\n",
       "      <td>0.126476</td>\n",
       "      <td>-0.117355</td>\n",
       "      <td>0.065949</td>\n",
       "      <td>-0.001311</td>\n",
       "      <td>-0.071624</td>\n",
       "      <td>-0.143798</td>\n",
       "      <td>0.151294</td>\n",
       "      <td>...</td>\n",
       "      <td>-0.005132</td>\n",
       "      <td>0.035113</td>\n",
       "      <td>-0.035110</td>\n",
       "      <td>0.031695</td>\n",
       "      <td>-0.031694</td>\n",
       "      <td>-0.110695</td>\n",
       "      <td>0.110693</td>\n",
       "      <td>0.254574</td>\n",
       "      <td>-0.254574</td>\n",
       "      <td>model.1</td>\n",
       "    </tr>\n",
       "    <tr>\n",
       "      <th>3</th>\n",
       "      <td>3</td>\n",
       "      <td>0.211648</td>\n",
       "      <td>0.049401</td>\n",
       "      <td>0.122454</td>\n",
       "      <td>0.093635</td>\n",
       "      <td>0.060816</td>\n",
       "      <td>0.086987</td>\n",
       "      <td>0.238529</td>\n",
       "      <td>0.058434</td>\n",
       "      <td>0.016198</td>\n",
       "      <td>...</td>\n",
       "      <td>0.062728</td>\n",
       "      <td>0.013395</td>\n",
       "      <td>-0.013411</td>\n",
       "      <td>0.043716</td>\n",
       "      <td>-0.043718</td>\n",
       "      <td>0.046518</td>\n",
       "      <td>-0.046474</td>\n",
       "      <td>-0.133751</td>\n",
       "      <td>0.133751</td>\n",
       "      <td>model.1</td>\n",
       "    </tr>\n",
       "    <tr>\n",
       "      <th>4</th>\n",
       "      <td>4</td>\n",
       "      <td>0.076579</td>\n",
       "      <td>-0.044898</td>\n",
       "      <td>0.286486</td>\n",
       "      <td>0.015838</td>\n",
       "      <td>-0.039293</td>\n",
       "      <td>0.212529</td>\n",
       "      <td>0.151076</td>\n",
       "      <td>-0.027346</td>\n",
       "      <td>0.123880</td>\n",
       "      <td>...</td>\n",
       "      <td>0.148697</td>\n",
       "      <td>-0.212459</td>\n",
       "      <td>0.212423</td>\n",
       "      <td>-0.036601</td>\n",
       "      <td>0.036577</td>\n",
       "      <td>-0.050269</td>\n",
       "      <td>0.050305</td>\n",
       "      <td>0.137823</td>\n",
       "      <td>-0.137823</td>\n",
       "      <td>model.1</td>\n",
       "    </tr>\n",
       "    <tr>\n",
       "      <th>...</th>\n",
       "      <td>...</td>\n",
       "      <td>...</td>\n",
       "      <td>...</td>\n",
       "      <td>...</td>\n",
       "      <td>...</td>\n",
       "      <td>...</td>\n",
       "      <td>...</td>\n",
       "      <td>...</td>\n",
       "      <td>...</td>\n",
       "      <td>...</td>\n",
       "      <td>...</td>\n",
       "      <td>...</td>\n",
       "      <td>...</td>\n",
       "      <td>...</td>\n",
       "      <td>...</td>\n",
       "      <td>...</td>\n",
       "      <td>...</td>\n",
       "      <td>...</td>\n",
       "      <td>...</td>\n",
       "      <td>...</td>\n",
       "      <td>...</td>\n",
       "    </tr>\n",
       "    <tr>\n",
       "      <th>65</th>\n",
       "      <td>2</td>\n",
       "      <td>0.026794</td>\n",
       "      <td>-0.013491</td>\n",
       "      <td>0.067772</td>\n",
       "      <td>0.000212</td>\n",
       "      <td>0.227343</td>\n",
       "      <td>-0.040366</td>\n",
       "      <td>0.070797</td>\n",
       "      <td>0.122105</td>\n",
       "      <td>0.021248</td>\n",
       "      <td>...</td>\n",
       "      <td>0.060158</td>\n",
       "      <td>-0.091086</td>\n",
       "      <td>0.091091</td>\n",
       "      <td>-0.085763</td>\n",
       "      <td>0.085769</td>\n",
       "      <td>-0.021725</td>\n",
       "      <td>0.021733</td>\n",
       "      <td>0.092813</td>\n",
       "      <td>-0.092804</td>\n",
       "      <td>model.7</td>\n",
       "    </tr>\n",
       "    <tr>\n",
       "      <th>66</th>\n",
       "      <td>3</td>\n",
       "      <td>0.010609</td>\n",
       "      <td>0.092095</td>\n",
       "      <td>-0.036405</td>\n",
       "      <td>0.116791</td>\n",
       "      <td>-0.101642</td>\n",
       "      <td>-0.182546</td>\n",
       "      <td>0.029792</td>\n",
       "      <td>0.055661</td>\n",
       "      <td>-0.036816</td>\n",
       "      <td>...</td>\n",
       "      <td>0.038308</td>\n",
       "      <td>0.055434</td>\n",
       "      <td>-0.055414</td>\n",
       "      <td>0.009625</td>\n",
       "      <td>-0.009623</td>\n",
       "      <td>0.019174</td>\n",
       "      <td>-0.019185</td>\n",
       "      <td>0.050310</td>\n",
       "      <td>-0.050317</td>\n",
       "      <td>model.7</td>\n",
       "    </tr>\n",
       "    <tr>\n",
       "      <th>67</th>\n",
       "      <td>4</td>\n",
       "      <td>-0.016473</td>\n",
       "      <td>0.293610</td>\n",
       "      <td>0.033327</td>\n",
       "      <td>0.252204</td>\n",
       "      <td>0.116999</td>\n",
       "      <td>0.146529</td>\n",
       "      <td>-0.156794</td>\n",
       "      <td>0.474856</td>\n",
       "      <td>-0.068337</td>\n",
       "      <td>...</td>\n",
       "      <td>-0.060188</td>\n",
       "      <td>-0.050174</td>\n",
       "      <td>0.050171</td>\n",
       "      <td>-0.231774</td>\n",
       "      <td>0.231786</td>\n",
       "      <td>0.104134</td>\n",
       "      <td>-0.104097</td>\n",
       "      <td>-0.025670</td>\n",
       "      <td>0.025685</td>\n",
       "      <td>model.7</td>\n",
       "    </tr>\n",
       "    <tr>\n",
       "      <th>68</th>\n",
       "      <td>5</td>\n",
       "      <td>0.046874</td>\n",
       "      <td>-0.202549</td>\n",
       "      <td>0.135428</td>\n",
       "      <td>-0.178347</td>\n",
       "      <td>0.076910</td>\n",
       "      <td>0.068107</td>\n",
       "      <td>0.108739</td>\n",
       "      <td>0.047296</td>\n",
       "      <td>0.127574</td>\n",
       "      <td>...</td>\n",
       "      <td>-0.216023</td>\n",
       "      <td>-0.158436</td>\n",
       "      <td>0.158402</td>\n",
       "      <td>-0.085537</td>\n",
       "      <td>0.085520</td>\n",
       "      <td>-0.006837</td>\n",
       "      <td>0.006843</td>\n",
       "      <td>0.306731</td>\n",
       "      <td>-0.306737</td>\n",
       "      <td>model.7</td>\n",
       "    </tr>\n",
       "    <tr>\n",
       "      <th>69</th>\n",
       "      <td>6</td>\n",
       "      <td>0.094625</td>\n",
       "      <td>-0.040729</td>\n",
       "      <td>-0.038013</td>\n",
       "      <td>0.044185</td>\n",
       "      <td>0.123326</td>\n",
       "      <td>0.211003</td>\n",
       "      <td>-0.052554</td>\n",
       "      <td>0.006759</td>\n",
       "      <td>-0.032306</td>\n",
       "      <td>...</td>\n",
       "      <td>-0.008752</td>\n",
       "      <td>-0.057384</td>\n",
       "      <td>-0.101564</td>\n",
       "      <td>0.146352</td>\n",
       "      <td>0.014066</td>\n",
       "      <td>-0.135668</td>\n",
       "      <td>-0.231717</td>\n",
       "      <td>-0.013307</td>\n",
       "      <td>0.340681</td>\n",
       "      <td>model.7</td>\n",
       "    </tr>\n",
       "  </tbody>\n",
       "</table>\n",
       "<p>70 rows × 56 columns</p>\n",
       "</div>"
      ],
      "text/plain": [
       "    index  weight_0  weight_1  weight_2  weight_3  weight_4  weight_5  \\\n",
       "0       0 -0.084746  0.092760  0.015720  0.104968  0.099587  0.120345   \n",
       "1       1 -0.175685  0.045171 -0.186942  0.042321 -0.219151  0.048615   \n",
       "2       2 -0.160731 -0.154493  0.126476 -0.117355  0.065949 -0.001311   \n",
       "3       3  0.211648  0.049401  0.122454  0.093635  0.060816  0.086987   \n",
       "4       4  0.076579 -0.044898  0.286486  0.015838 -0.039293  0.212529   \n",
       "..    ...       ...       ...       ...       ...       ...       ...   \n",
       "65      2  0.026794 -0.013491  0.067772  0.000212  0.227343 -0.040366   \n",
       "66      3  0.010609  0.092095 -0.036405  0.116791 -0.101642 -0.182546   \n",
       "67      4 -0.016473  0.293610  0.033327  0.252204  0.116999  0.146529   \n",
       "68      5  0.046874 -0.202549  0.135428 -0.178347  0.076910  0.068107   \n",
       "69      6  0.094625 -0.040729 -0.038013  0.044185  0.123326  0.211003   \n",
       "\n",
       "    weight_6  weight_7  weight_8  ...  weight_45  weight_46  weight_47  \\\n",
       "0  -0.119383  0.100025  0.037835  ...   0.172098   0.264491  -0.264490   \n",
       "1  -0.167312  0.042217 -0.189038  ...   0.026802  -0.298696   0.298698   \n",
       "2  -0.071624 -0.143798  0.151294  ...  -0.005132   0.035113  -0.035110   \n",
       "3   0.238529  0.058434  0.016198  ...   0.062728   0.013395  -0.013411   \n",
       "4   0.151076 -0.027346  0.123880  ...   0.148697  -0.212459   0.212423   \n",
       "..       ...       ...       ...  ...        ...        ...        ...   \n",
       "65  0.070797  0.122105  0.021248  ...   0.060158  -0.091086   0.091091   \n",
       "66  0.029792  0.055661 -0.036816  ...   0.038308   0.055434  -0.055414   \n",
       "67 -0.156794  0.474856 -0.068337  ...  -0.060188  -0.050174   0.050171   \n",
       "68  0.108739  0.047296  0.127574  ...  -0.216023  -0.158436   0.158402   \n",
       "69 -0.052554  0.006759 -0.032306  ...  -0.008752  -0.057384  -0.101564   \n",
       "\n",
       "    weight_48  weight_49  weight_50  weight_51  weight_52  weight_53  \\\n",
       "0    0.003161  -0.003161  -0.224395   0.224394  -0.186575   0.186575   \n",
       "1   -0.102531   0.102531  -0.104265   0.104264  -0.001073   0.001073   \n",
       "2    0.031695  -0.031694  -0.110695   0.110693   0.254574  -0.254574   \n",
       "3    0.043716  -0.043718   0.046518  -0.046474  -0.133751   0.133751   \n",
       "4   -0.036601   0.036577  -0.050269   0.050305   0.137823  -0.137823   \n",
       "..        ...        ...        ...        ...        ...        ...   \n",
       "65  -0.085763   0.085769  -0.021725   0.021733   0.092813  -0.092804   \n",
       "66   0.009625  -0.009623   0.019174  -0.019185   0.050310  -0.050317   \n",
       "67  -0.231774   0.231786   0.104134  -0.104097  -0.025670   0.025685   \n",
       "68  -0.085537   0.085520  -0.006837   0.006843   0.306731  -0.306737   \n",
       "69   0.146352   0.014066  -0.135668  -0.231717  -0.013307   0.340681   \n",
       "\n",
       "    weight_model  \n",
       "0        model.1  \n",
       "1        model.1  \n",
       "2        model.1  \n",
       "3        model.1  \n",
       "4        model.1  \n",
       "..           ...  \n",
       "65       model.7  \n",
       "66       model.7  \n",
       "67       model.7  \n",
       "68       model.7  \n",
       "69       model.7  \n",
       "\n",
       "[70 rows x 56 columns]"
      ]
     },
     "execution_count": 17,
     "metadata": {},
     "output_type": "execute_result"
    }
   ],
   "source": [
    "df_tot.columns = ['weight_'+str(i) for i in df_tot.columns]\n",
    "df_tot.reset_index(inplace=True)\n",
    "df_tot"
   ]
  },
  {
   "cell_type": "code",
   "execution_count": 18,
   "metadata": {},
   "outputs": [],
   "source": [
    "df_tot.rename({'index':'pca_comp'},axis=1,inplace=True)"
   ]
  },
  {
   "cell_type": "code",
   "execution_count": 19,
   "metadata": {},
   "outputs": [],
   "source": [
    "df_pc_0 = df_tot[df_tot['pca_comp']==0]"
   ]
  },
  {
   "cell_type": "code",
   "execution_count": 50,
   "metadata": {},
   "outputs": [
    {
     "data": {
      "text/plain": [
       "<matplotlib.colorbar.Colorbar at 0x7feb77c13048>"
      ]
     },
     "execution_count": 50,
     "metadata": {},
     "output_type": "execute_result"
    },
    {
     "data": {
      "image/png": "[encoded data removed]",
      "text/plain": [
       "<Figure size 1152x213.333 with 2 Axes>"
      ]
     },
     "metadata": {
      "needs_background": "light"
     },
     "output_type": "display_data"
    }
   ],
   "source": [
    "plt.matshow(df_pc_0,cmap='viridis')\n",
    "plt.xlabel('Model Weight Index')\n",
    "plt.ylabel('First principle component of 10 models')\n",
    "plt.colorbar()"
   ]
  },
  {
   "cell_type": "code",
   "execution_count": 20,
   "metadata": {},
   "outputs": [],
   "source": [
    "df_pc_0.set_index('weight_model',inplace=True)"
   ]
  },
  {
   "cell_type": "code",
   "execution_count": 21,
   "metadata": {},
   "outputs": [
    {
     "name": "stderr",
     "output_type": "stream",
     "text": [
      "/Users/meslami/anaconda3/lib/python3.6/site-packages/pandas/core/frame.py:4170: SettingWithCopyWarning: \n",
      "A value is trying to be set on a copy of a slice from a DataFrame\n",
      "\n",
      "See the caveats in the documentation: https://pandas.pydata.org/pandas-docs/stable/user_guide/indexing.html#returning-a-view-versus-a-copy\n",
      "  errors=errors,\n"
     ]
    }
   ],
   "source": [
    "df_pc_0.drop('pca_comp',inplace=True,axis=1)"
   ]
  },
  {
   "cell_type": "code",
   "execution_count": 22,
   "metadata": {},
   "outputs": [
    {
     "data": {
      "text/plain": [
       "weight_model\n",
       "model.1    1.0\n",
       "model.2    1.0\n",
       "model.5    1.0\n",
       "model.3    1.0\n",
       "model.6    1.0\n",
       "model.4    1.0\n",
       "model.9    1.0\n",
       "model.0    1.0\n",
       "model.8    1.0\n",
       "model.7    1.0\n",
       "dtype: float64"
      ]
     },
     "execution_count": 22,
     "metadata": {},
     "output_type": "execute_result"
    }
   ],
   "source": [
    "def normalize(row):\n",
    "    return row/np.sqrt(np.sum(row**2))\n",
    "#     return np.sum(row**2)\n",
    "\n",
    "# print(df_pc_0.apply(normalize,axis=1).shape)\n",
    "df_pc_0 =df_pc_0.apply(normalize,axis=1)\n",
    "(df_pc_0**2).sum(axis=1)"
   ]
  },
  {
   "cell_type": "code",
   "execution_count": 33,
   "metadata": {},
   "outputs": [
    {
     "name": "stdout",
     "output_type": "stream",
     "text": [
      "model.1 model.1 1.0000000000000004\n",
      "model.2 model.2 1.0000000000000002\n",
      "model.6 model.6 1.0000000000000002\n",
      "model.9 model.9 1.0000000000000002\n",
      "model.7 model.7 1.0000000000000002\n"
     ]
    }
   ],
   "source": [
    "for i in df_pc_0.index:\n",
    "    for j in df_pc_0.index:\n",
    "        if np.dot(df_pc_0.loc[i,:],df_pc_0.loc[j,:])>1:\n",
    "            print(i,j,np.dot(df_pc_0.loc[i,:],df_pc_0.loc[j,:]))"
   ]
  },
  {
   "cell_type": "code",
   "execution_count": 23,
   "metadata": {},
   "outputs": [],
   "source": [
    "from scipy.spatial.distance import cdist"
   ]
  },
  {
   "cell_type": "code",
   "execution_count": 24,
   "metadata": {},
   "outputs": [],
   "source": [
    "Y = cdist(df_pc_0, df_pc_0, 'cosine')"
   ]
  },
  {
   "cell_type": "code",
   "execution_count": 49,
   "metadata": {},
   "outputs": [
    {
     "data": {
      "text/plain": [
       "<matplotlib.colorbar.Colorbar at 0x7feb000d43c8>"
      ]
     },
     "execution_count": 49,
     "metadata": {},
     "output_type": "execute_result"
    },
    {
     "data": {
      "image/png": "[encoded data removed]",
      "text/plain": [
       "<Figure size 288x288 with 2 Axes>"
      ]
     },
     "metadata": {
      "needs_background": "light"
     },
     "output_type": "display_data"
    }
   ],
   "source": [
    "plt.matshow(Y,cmap='viridis')\n",
    "plt.colorbar()"
   ]
  },
  {
   "cell_type": "code",
   "execution_count": 26,
   "metadata": {},
   "outputs": [],
   "source": [
    "Y_df = pd.DataFrame(Y,columns=['model.'+str(i) for i in range(len(df_pc_0)) ])"
   ]
  },
  {
   "cell_type": "code",
   "execution_count": 47,
   "metadata": {},
   "outputs": [
    {
     "data": {
      "text/plain": [
       "Text(0, 0.5, 'Number of comparisons')"
      ]
     },
     "execution_count": 47,
     "metadata": {},
     "output_type": "execute_result"
    },
    {
     "data": {
      "image/png": "[encoded data removed]",
      "text/plain": [
       "<Figure size 432x288 with 1 Axes>"
      ]
     },
     "metadata": {
      "needs_background": "light"
     },
     "output_type": "display_data"
    }
   ],
   "source": [
    "plt.hist(Y_df.unstack(),bins=50)\n",
    "plt.xlabel('Cosine Distances')\n",
    "plt.ylabel('Number of comparisons')"
   ]
  },
  {
   "cell_type": "code",
   "execution_count": 28,
   "metadata": {},
   "outputs": [
    {
     "data": {
      "text/plain": [
       "1.0808484731982695"
      ]
     },
     "execution_count": 28,
     "metadata": {},
     "output_type": "execute_result"
    }
   ],
   "source": [
    "Y_df.max().max()"
   ]
  },
  {
   "cell_type": "code",
   "execution_count": 29,
   "metadata": {},
   "outputs": [
    {
     "data": {
      "text/html": [
       "<div>\n",
       "<style scoped>\n",
       "    .dataframe tbody tr th:only-of-type {\n",
       "        vertical-align: middle;\n",
       "    }\n",
       "\n",
       "    .dataframe tbody tr th {\n",
       "        vertical-align: top;\n",
       "    }\n",
       "\n",
       "    .dataframe thead th {\n",
       "        text-align: right;\n",
       "    }\n",
       "</style>\n",
       "<table border=\"1\" class=\"dataframe\">\n",
       "  <thead>\n",
       "    <tr style=\"text-align: right;\">\n",
       "      <th></th>\n",
       "      <th>model.0</th>\n",
       "      <th>model.1</th>\n",
       "      <th>model.2</th>\n",
       "      <th>model.3</th>\n",
       "      <th>model.4</th>\n",
       "      <th>model.5</th>\n",
       "      <th>model.6</th>\n",
       "      <th>model.7</th>\n",
       "      <th>model.8</th>\n",
       "      <th>model.9</th>\n",
       "    </tr>\n",
       "  </thead>\n",
       "  <tbody>\n",
       "    <tr>\n",
       "      <th>0</th>\n",
       "      <td>0.000000</td>\n",
       "      <td>0.434351</td>\n",
       "      <td>0.380017</td>\n",
       "      <td>0.448005</td>\n",
       "      <td>0.967129</td>\n",
       "      <td>0.597890</td>\n",
       "      <td>0.679622</td>\n",
       "      <td>0.825610</td>\n",
       "      <td>0.608200</td>\n",
       "      <td>0.621780</td>\n",
       "    </tr>\n",
       "    <tr>\n",
       "      <th>1</th>\n",
       "      <td>0.434351</td>\n",
       "      <td>0.000000</td>\n",
       "      <td>0.788909</td>\n",
       "      <td>0.657768</td>\n",
       "      <td>0.938303</td>\n",
       "      <td>0.648423</td>\n",
       "      <td>0.880030</td>\n",
       "      <td>0.828613</td>\n",
       "      <td>0.799456</td>\n",
       "      <td>0.690744</td>\n",
       "    </tr>\n",
       "    <tr>\n",
       "      <th>2</th>\n",
       "      <td>0.380017</td>\n",
       "      <td>0.788909</td>\n",
       "      <td>0.000000</td>\n",
       "      <td>0.788194</td>\n",
       "      <td>0.871263</td>\n",
       "      <td>0.925700</td>\n",
       "      <td>1.055648</td>\n",
       "      <td>0.836686</td>\n",
       "      <td>0.634860</td>\n",
       "      <td>0.871213</td>\n",
       "    </tr>\n",
       "    <tr>\n",
       "      <th>3</th>\n",
       "      <td>0.448005</td>\n",
       "      <td>0.657768</td>\n",
       "      <td>0.788194</td>\n",
       "      <td>0.000000</td>\n",
       "      <td>0.781710</td>\n",
       "      <td>0.534185</td>\n",
       "      <td>0.684964</td>\n",
       "      <td>0.924897</td>\n",
       "      <td>0.842380</td>\n",
       "      <td>0.747923</td>\n",
       "    </tr>\n",
       "    <tr>\n",
       "      <th>4</th>\n",
       "      <td>0.967129</td>\n",
       "      <td>0.938303</td>\n",
       "      <td>0.871263</td>\n",
       "      <td>0.781710</td>\n",
       "      <td>0.000000</td>\n",
       "      <td>0.873656</td>\n",
       "      <td>1.060730</td>\n",
       "      <td>0.633243</td>\n",
       "      <td>0.634214</td>\n",
       "      <td>0.642710</td>\n",
       "    </tr>\n",
       "    <tr>\n",
       "      <th>5</th>\n",
       "      <td>0.597890</td>\n",
       "      <td>0.648423</td>\n",
       "      <td>0.925700</td>\n",
       "      <td>0.534185</td>\n",
       "      <td>0.873656</td>\n",
       "      <td>0.000000</td>\n",
       "      <td>0.585746</td>\n",
       "      <td>0.840606</td>\n",
       "      <td>0.989135</td>\n",
       "      <td>0.743251</td>\n",
       "    </tr>\n",
       "    <tr>\n",
       "      <th>6</th>\n",
       "      <td>0.679622</td>\n",
       "      <td>0.880030</td>\n",
       "      <td>1.055648</td>\n",
       "      <td>0.684964</td>\n",
       "      <td>1.060730</td>\n",
       "      <td>0.585746</td>\n",
       "      <td>0.000000</td>\n",
       "      <td>1.017369</td>\n",
       "      <td>1.080848</td>\n",
       "      <td>1.007483</td>\n",
       "    </tr>\n",
       "    <tr>\n",
       "      <th>7</th>\n",
       "      <td>0.825610</td>\n",
       "      <td>0.828613</td>\n",
       "      <td>0.836686</td>\n",
       "      <td>0.924897</td>\n",
       "      <td>0.633243</td>\n",
       "      <td>0.840606</td>\n",
       "      <td>1.017369</td>\n",
       "      <td>0.000000</td>\n",
       "      <td>0.297178</td>\n",
       "      <td>0.711016</td>\n",
       "    </tr>\n",
       "    <tr>\n",
       "      <th>8</th>\n",
       "      <td>0.608200</td>\n",
       "      <td>0.799456</td>\n",
       "      <td>0.634860</td>\n",
       "      <td>0.842380</td>\n",
       "      <td>0.634214</td>\n",
       "      <td>0.989135</td>\n",
       "      <td>1.080848</td>\n",
       "      <td>0.297178</td>\n",
       "      <td>0.000000</td>\n",
       "      <td>0.645424</td>\n",
       "    </tr>\n",
       "    <tr>\n",
       "      <th>9</th>\n",
       "      <td>0.621780</td>\n",
       "      <td>0.690744</td>\n",
       "      <td>0.871213</td>\n",
       "      <td>0.747923</td>\n",
       "      <td>0.642710</td>\n",
       "      <td>0.743251</td>\n",
       "      <td>1.007483</td>\n",
       "      <td>0.711016</td>\n",
       "      <td>0.645424</td>\n",
       "      <td>0.000000</td>\n",
       "    </tr>\n",
       "  </tbody>\n",
       "</table>\n",
       "</div>"
      ],
      "text/plain": [
       "    model.0   model.1   model.2   model.3   model.4   model.5   model.6  \\\n",
       "0  0.000000  0.434351  0.380017  0.448005  0.967129  0.597890  0.679622   \n",
       "1  0.434351  0.000000  0.788909  0.657768  0.938303  0.648423  0.880030   \n",
       "2  0.380017  0.788909  0.000000  0.788194  0.871263  0.925700  1.055648   \n",
       "3  0.448005  0.657768  0.788194  0.000000  0.781710  0.534185  0.684964   \n",
       "4  0.967129  0.938303  0.871263  0.781710  0.000000  0.873656  1.060730   \n",
       "5  0.597890  0.648423  0.925700  0.534185  0.873656  0.000000  0.585746   \n",
       "6  0.679622  0.880030  1.055648  0.684964  1.060730  0.585746  0.000000   \n",
       "7  0.825610  0.828613  0.836686  0.924897  0.633243  0.840606  1.017369   \n",
       "8  0.608200  0.799456  0.634860  0.842380  0.634214  0.989135  1.080848   \n",
       "9  0.621780  0.690744  0.871213  0.747923  0.642710  0.743251  1.007483   \n",
       "\n",
       "    model.7   model.8   model.9  \n",
       "0  0.825610  0.608200  0.621780  \n",
       "1  0.828613  0.799456  0.690744  \n",
       "2  0.836686  0.634860  0.871213  \n",
       "3  0.924897  0.842380  0.747923  \n",
       "4  0.633243  0.634214  0.642710  \n",
       "5  0.840606  0.989135  0.743251  \n",
       "6  1.017369  1.080848  1.007483  \n",
       "7  0.000000  0.297178  0.711016  \n",
       "8  0.297178  0.000000  0.645424  \n",
       "9  0.711016  0.645424  0.000000  "
      ]
     },
     "execution_count": 29,
     "metadata": {},
     "output_type": "execute_result"
    }
   ],
   "source": [
    "Y_df"
   ]
  },
  {
   "cell_type": "code",
   "execution_count": 34,
   "metadata": {},
   "outputs": [],
   "source": [
    "df1 = pd.read_csv('/Users/meslami/Downloads/NovelChassis-Endogenous-Promoter__fc_etl_stats.csv')\n",
    "df2 = pd.read_csv('/Users/meslami/Downloads/NovelChassis-Endogenous-Promoter__fc_meta (1).csv')"
   ]
  },
  {
   "cell_type": "code",
   "execution_count": 35,
   "metadata": {},
   "outputs": [],
   "source": [
    "df3 = pd.merge(df1,df2,left_on='sample_id',right_on='sample_id')"
   ]
  },
  {
   "cell_type": "code",
   "execution_count": 36,
   "metadata": {},
   "outputs": [
    {
     "data": {
      "text/plain": [
       "experiment.transcriptic.r1fgm3zabaqbaw    1288\n",
       "experiment.transcriptic.r1fgm3xyt8vds9    1288\n",
       "experiment.transcriptic.r1f833ub7xn6vb    1288\n",
       "experiment.transcriptic.r1f833szm3e3a6    1288\n",
       "experiment.transcriptic.r1fgmamvmd7sc2    1232\n",
       "experiment.transcriptic.r1fgmajbcfpf3q    1232\n",
       "experiment.transcriptic.r1fem63zwnvhbg    1232\n",
       "experiment.transcriptic.r1f7aux4qxty6b    1232\n",
       "experiment.transcriptic.r1f7aturvjk65q    1008\n",
       "experiment.transcriptic.r1fem4e25j5qqn     644\n",
       "experiment.transcriptic.r1f7zwh6t4ekdm     448\n",
       "experiment.transcriptic.r1f7zwjfh2af4v     448\n",
       "Name: experiment_id, dtype: int64"
      ]
     },
     "execution_count": 36,
     "metadata": {},
     "output_type": "execute_result"
    }
   ],
   "source": [
    "df3['experiment_id'].value_counts()"
   ]
  },
  {
   "cell_type": "code",
   "execution_count": null,
   "metadata": {},
   "outputs": [],
   "source": []
  }
 ],
 "metadata": {
  "kernelspec": {
   "display_name": "Python 3",
   "language": "python",
   "name": "python3"
  },
  "language_info": {
   "codemirror_mode": {
    "name": "ipython",
    "version": 3
   },
   "file_extension": ".py",
   "mimetype": "text/x-python",
   "name": "python",
   "nbconvert_exporter": "python",
   "pygments_lexer": "ipython3",
   "version": "3.6.12"
  },
  "toc": {
   "base_numbering": 1,
   "nav_menu": {},
   "number_sections": true,
   "sideBar": true,
   "skip_h1_title": false,
   "title_cell": "Table of Contents",
   "title_sidebar": "Contents",
   "toc_cell": true,
   "toc_position": {},
   "toc_section_display": true,
   "toc_window_display": false
  }
 },
 "nbformat": 4,
 "nbformat_minor": 2
}
