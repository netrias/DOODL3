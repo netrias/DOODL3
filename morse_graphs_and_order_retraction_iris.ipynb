{
 "cells": [
  {
   "cell_type": "code",
   "execution_count": 1,
   "id": "wireless-constitution",
   "metadata": {},
   "outputs": [
    {
     "name": "stderr",
     "output_type": "stream",
     "text": [
      "Using TensorFlow backend.\n"
     ]
    }
   ],
   "source": [
    "# basics\n",
    "import os\n",
    "import time\n",
    "import numpy as np\n",
    "import pandas as pd\n",
    "\n",
    "# scipy and sklearn\n",
    "from scipy.stats import entropy\n",
    "from sklearn.metrics import balanced_accuracy_score\n",
    "from sklearn.model_selection import train_test_split\n",
    "from sklearn.preprocessing import OneHotEncoder, StandardScaler\n",
    "\n",
    "# plotting\n",
    "import matplotlib\n",
    "import matplotlib.pyplot as plt\n",
    "import matplotlib.patches as mpatches\n",
    "from matplotlib.collections import PatchCollection\n",
    "import seaborn as sns\n",
    "from IPython.display import Image\n",
    "from matplotlib.patches import Rectangle\n",
    "\n",
    "# CMDGB\n",
    "import graphviz\n",
    "from CMGDB import PlotMorseSets, PlotMorseGraph\n",
    "\n",
    "# local\n",
    "from data_loaders import retrieve_predictions\n",
    "from models import *\n",
    "from utils import get_model_weights, convert_weight_dict_to_dataframe, compute_morse_graph, \\\n",
    "                  compute_morse_graph_with_gpflow_gp, compute_order_retraction, PlotOrderRetraction\n",
    "\n",
    "sns.set()\n",
    "plt.style.use('ggplot')\n",
    "%matplotlib inline\n",
    "%load_ext autoreload\n",
    "%autoreload 2"
   ]
  },
  {
   "cell_type": "code",
   "execution_count": 2,
   "id": "opened-reproduction",
   "metadata": {},
   "outputs": [],
   "source": [
    "# suppress warnings\n",
    "import warnings\n",
    "warnings.filterwarnings('ignore')"
   ]
  },
  {
   "cell_type": "markdown",
   "id": "alpine-armstrong",
   "metadata": {},
   "source": [
    "# IRIS Morse Graphs"
   ]
  },
  {
   "cell_type": "markdown",
   "id": "present-edition",
   "metadata": {},
   "source": [
    "Config:\n",
    "\n",
    "** Make sure to restart kernel before each new config run! Easiest way is to click on \"Restart & Run All\""
   ]
  },
  {
   "cell_type": "code",
   "execution_count": 3,
   "id": "institutional-hospital",
   "metadata": {},
   "outputs": [],
   "source": [
    "# Pick interesting_iris from: [\"iris_baseline\", \"iris_layers_2\", \"iris_epoch_450\"]\n",
    "interesting_iris = \"iris_epoch_450\"\n",
    "# Pick smallest_or_largest from: [\"smallest\", \"largest\"]\n",
    "smallest_or_largest = \"largest\""
   ]
  },
  {
   "cell_type": "markdown",
   "id": "framed-payment",
   "metadata": {},
   "source": [
    "Code:"
   ]
  },
  {
   "cell_type": "code",
   "execution_count": 4,
   "id": "competent-keeping",
   "metadata": {
    "scrolled": false
   },
   "outputs": [
    {
     "name": "stdout",
     "output_type": "stream",
     "text": [
      "[-2.61753082 -2.89198698]\n"
     ]
    },
    {
     "data": {
      "image/png": "[encoded data removed]",
      "text/plain": [
       "<Figure size 504x504 with 1 Axes>"
      ]
     },
     "metadata": {
      "needs_background": "light"
     },
     "output_type": "display_data"
    }
   ],
   "source": [
    "weights = get_model_weights(\"./data/{}\".format(interesting_iris))\n",
    "weights = convert_weight_dict_to_dataframe(weights)\n",
    "\n",
    "final_weights = weights.loc[weights[\"epoch\"] != \"1\"]    \n",
    "weight_cols = [c for c in list(final_weights.columns) if c not in [\"model_id\", \"epoch\", \"val_loss\"]]\n",
    "std_df = pd.DataFrame(columns=[\"weight_name\", \"std\"],\n",
    "                      data=list(zip(weight_cols, [np.std(final_weights[col]) for col in weight_cols])))\n",
    "std_df = std_df.sort_values(by=\"std\")\n",
    "\n",
    "if smallest_or_largest == \"smallest\":\n",
    "    two_weights = list(std_df[\"weight_name\"])[:2]\n",
    "elif smallest_or_largest == \"largest\":\n",
    "    two_weights = list(std_df[\"weight_name\"])[-2:]\n",
    "else:\n",
    "    raise ValueError()\n",
    "\n",
    "morseg, mapg = compute_morse_graph(weights[['epoch'] + two_weights], phase_subdiv=15)\n",
    "\n",
    "compute_order_retraction(morseg, mapg, title=\"{}_{}_2\".format(interesting_iris, smallest_or_largest))"
   ]
  },
  {
   "cell_type": "code",
   "execution_count": 5,
   "id": "announced-absolute",
   "metadata": {},
   "outputs": [
    {
     "data": {
      "image/svg+xml": [
       "<?xml version=\"1.0\" encoding=\"UTF-8\" standalone=\"no\"?>\n",
       "<!DOCTYPE svg PUBLIC \"-//W3C//DTD SVG 1.1//EN\"\n",
       " \"http://www.w3.org/Graphics/SVG/1.1/DTD/svg11.dtd\">\n",
       "<!-- Generated by graphviz version 2.46.1 (20210213.1702)\n",
       " -->\n",
       "<!-- Pages: 1 -->\n",
       "<svg width=\"62pt\" height=\"116pt\"\n",
       " viewBox=\"0.00 0.00 62.00 116.00\" xmlns=\"http://www.w3.org/2000/svg\" xmlns:xlink=\"http://www.w3.org/1999/xlink\">\n",
       "<g id=\"graph0\" class=\"graph\" transform=\"scale(1 1) rotate(0) translate(4 112)\">\n",
       "<polygon fill=\"white\" stroke=\"transparent\" points=\"-4,4 -4,-112 58,-112 58,4 -4,4\"/>\n",
       "<!-- 0 -->\n",
       "<g id=\"node1\" class=\"node\">\n",
       "<title>0</title>\n",
       "<ellipse fill=\"#0000ff\" stroke=\"black\" cx=\"27\" cy=\"-18\" rx=\"27\" ry=\"18\"/>\n",
       "<text text-anchor=\"middle\" x=\"27\" y=\"-14.3\" font-family=\"Times,serif\" font-size=\"14.00\">0</text>\n",
       "</g>\n",
       "<!-- 1 -->\n",
       "<g id=\"node2\" class=\"node\">\n",
       "<title>1</title>\n",
       "<ellipse fill=\"#00ff00\" stroke=\"black\" cx=\"27\" cy=\"-90\" rx=\"27\" ry=\"18\"/>\n",
       "<text text-anchor=\"middle\" x=\"27\" y=\"-86.3\" font-family=\"Times,serif\" font-size=\"14.00\">1</text>\n",
       "</g>\n",
       "<!-- 1&#45;&gt;0 -->\n",
       "<g id=\"edge1\" class=\"edge\">\n",
       "<title>1&#45;&gt;0</title>\n",
       "<path fill=\"none\" stroke=\"black\" d=\"M27,-71.7C27,-63.98 27,-54.71 27,-46.11\"/>\n",
       "<polygon fill=\"black\" stroke=\"black\" points=\"30.5,-46.1 27,-36.1 23.5,-46.1 30.5,-46.1\"/>\n",
       "</g>\n",
       "</g>\n",
       "</svg>\n"
      ],
      "text/plain": [
       "<graphviz.files.Source at 0x7fb840b38f60>"
      ]
     },
     "execution_count": 5,
     "metadata": {},
     "output_type": "execute_result"
    }
   ],
   "source": [
    "PlotMorseGraph(morseg)"
   ]
  },
  {
   "cell_type": "code",
   "execution_count": 6,
   "id": "actual-boston",
   "metadata": {},
   "outputs": [
    {
     "data": {
      "image/svg+xml": [
       "<?xml version=\"1.0\" encoding=\"UTF-8\" standalone=\"no\"?>\n",
       "<!DOCTYPE svg PUBLIC \"-//W3C//DTD SVG 1.1//EN\"\n",
       " \"http://www.w3.org/Graphics/SVG/1.1/DTD/svg11.dtd\">\n",
       "<!-- Generated by graphviz version 2.46.1 (20210213.1702)\n",
       " -->\n",
       "<!-- Title: trans Pages: 1 -->\n",
       "<svg width=\"62pt\" height=\"116pt\"\n",
       " viewBox=\"0.00 0.00 62.00 116.00\" xmlns=\"http://www.w3.org/2000/svg\" xmlns:xlink=\"http://www.w3.org/1999/xlink\">\n",
       "<g id=\"graph0\" class=\"graph\" transform=\"scale(1 1) rotate(0) translate(4 112)\">\n",
       "<title>trans</title>\n",
       "<polygon fill=\"white\" stroke=\"transparent\" points=\"-4,4 -4,-112 58,-112 58,4 -4,4\"/>\n",
       "<!-- 0 -->\n",
       "<g id=\"node1\" class=\"node\">\n",
       "<title>0</title>\n",
       "<ellipse fill=\"none\" stroke=\"black\" cx=\"27\" cy=\"-90\" rx=\"27\" ry=\"18\"/>\n",
       "<text text-anchor=\"middle\" x=\"27\" y=\"-86.3\" font-family=\"Times,serif\" font-size=\"14.00\">0</text>\n",
       "</g>\n",
       "<!-- 1 -->\n",
       "<g id=\"node2\" class=\"node\">\n",
       "<title>1</title>\n",
       "<ellipse fill=\"none\" stroke=\"black\" cx=\"27\" cy=\"-18\" rx=\"27\" ry=\"18\"/>\n",
       "<text text-anchor=\"middle\" x=\"27\" y=\"-14.3\" font-family=\"Times,serif\" font-size=\"14.00\">1</text>\n",
       "</g>\n",
       "<!-- 0&#45;&gt;1 -->\n",
       "<g id=\"edge1\" class=\"edge\">\n",
       "<title>0&#45;&gt;1</title>\n",
       "<path fill=\"none\" stroke=\"black\" d=\"M27,-71.7C27,-63.98 27,-54.71 27,-46.11\"/>\n",
       "<polygon fill=\"black\" stroke=\"black\" points=\"30.5,-46.1 27,-36.1 23.5,-46.1 30.5,-46.1\"/>\n",
       "</g>\n",
       "</g>\n",
       "</svg>\n"
      ],
      "text/plain": [
       "<graphviz.files.Source at 0x7fb83e126940>"
      ]
     },
     "execution_count": 6,
     "metadata": {},
     "output_type": "execute_result"
    }
   ],
   "source": [
    "graphviz.Source.from_file('Hasse.dot')"
   ]
  },
  {
   "cell_type": "code",
   "execution_count": 10,
   "id": "eastern-position",
   "metadata": {},
   "outputs": [],
   "source": [
    "# MUST BE SET MANUALLY FOR EACH RUN BASED ON ABOVE MORSE GRAPHS\n",
    "morse_nodes_map = {1: 0, 0:1}"
   ]
  },
  {
   "cell_type": "code",
   "execution_count": 11,
   "id": "aboriginal-growth",
   "metadata": {},
   "outputs": [],
   "source": [
    "with open('CMGDB_retract.txt','r') as infile:\n",
    "    retract_indices = []\n",
    "    retract_tiles = []\n",
    "    for i in range(mapg.num_vertices()): \n",
    "        index, tile = [int(x) for x in next(infile).split()]\n",
    "        retract_indices.append(index)\n",
    "        retract_tiles.append(tile)"
   ]
  },
  {
   "cell_type": "code",
   "execution_count": 12,
   "id": "mediterranean-burke",
   "metadata": {},
   "outputs": [
    {
     "data": {
      "image/png": "[encoded data removed]",
      "text/plain": [
       "<Figure size 576x576 with 1 Axes>"
      ]
     },
     "metadata": {
      "needs_background": "light"
     },
     "output_type": "display_data"
    }
   ],
   "source": [
    "PlotOrderRetraction(morseg, mapg, retract_tiles, retract_indices, morse_nodes_map)"
   ]
  },
  {
   "cell_type": "code",
   "execution_count": null,
   "id": "numerous-cement",
   "metadata": {},
   "outputs": [],
   "source": []
  }
 ],
 "metadata": {
  "kernelspec": {
   "display_name": "Python [conda env:deep_chaos] *",
   "language": "python",
   "name": "conda-env-deep_chaos-py"
  },
  "language_info": {
   "codemirror_mode": {
    "name": "ipython",
    "version": 3
   },
   "file_extension": ".py",
   "mimetype": "text/x-python",
   "name": "python",
   "nbconvert_exporter": "python",
   "pygments_lexer": "ipython3",
   "version": "3.6.12"
  }
 },
 "nbformat": 4,
 "nbformat_minor": 5
}
