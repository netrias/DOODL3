{
 "cells": [
  {
   "cell_type": "code",
   "execution_count": 1,
   "id": "artificial-liechtenstein",
   "metadata": {},
   "outputs": [
    {
     "name": "stderr",
     "output_type": "stream",
     "text": [
      "Using TensorFlow backend.\n"
     ]
    }
   ],
   "source": [
    "# basics\n",
    "import os\n",
    "import time\n",
    "import numpy as np\n",
    "import pandas as pd\n",
    "\n",
    "# scipy and sklearn\n",
    "from scipy.stats import entropy\n",
    "from sklearn.metrics import balanced_accuracy_score\n",
    "from sklearn.model_selection import train_test_split\n",
    "from sklearn.preprocessing import OneHotEncoder, StandardScaler\n",
    "\n",
    "# plotting\n",
    "import matplotlib\n",
    "import matplotlib.pyplot as plt\n",
    "import matplotlib.patches as mpatches\n",
    "from matplotlib.collections import PatchCollection\n",
    "import seaborn as sns\n",
    "from IPython.display import Image\n",
    "from matplotlib.patches import Rectangle\n",
    "\n",
    "# CMDGB\n",
    "import graphviz\n",
    "from CMGDB import PlotMorseSets, PlotMorseGraph\n",
    "\n",
    "# local\n",
    "from data_loaders import retrieve_predictions\n",
    "from models import *\n",
    "from utils import get_model_weights, convert_weight_dict_to_dataframe, compute_morse_graph, \\\n",
    "                  compute_morse_graph_with_gpflow_gp, compute_order_retraction, PlotOrderRetraction\n",
    "\n",
    "sns.set()\n",
    "plt.style.use('ggplot')\n",
    "%matplotlib inline\n",
    "%load_ext autoreload\n",
    "%autoreload 2"
   ]
  },
  {
   "cell_type": "code",
   "execution_count": 2,
   "id": "metallic-chinese",
   "metadata": {},
   "outputs": [],
   "source": [
    "# suppress warnings\n",
    "import warnings\n",
    "warnings.filterwarnings('ignore')"
   ]
  },
  {
   "cell_type": "code",
   "execution_count": null,
   "id": "metropolitan-dealer",
   "metadata": {},
   "outputs": [],
   "source": []
  },
  {
   "cell_type": "code",
   "execution_count": 3,
   "id": "institutional-hospital",
   "metadata": {},
   "outputs": [],
   "source": [
    "# Pick interesting_iris from: [\"iris_baseline\", \"iris_layers_2\", \"iris_epoch_450\"]\n",
    "interesting_iris = \"iris_epoch_450\"\n",
    "# Pick smallest_or_largest from: [\"smallest\", \"largest\"]\n",
    "smallest_or_largest = \"largest\""
   ]
  },
  {
   "cell_type": "markdown",
   "id": "framed-payment",
   "metadata": {},
   "source": [
    "Code:"
   ]
  },
  {
   "cell_type": "code",
   "execution_count": 4,
   "id": "competent-keeping",
   "metadata": {
    "scrolled": false
   },
   "outputs": [
    {
     "name": "stdout",
     "output_type": "stream",
     "text": [
      "[-2.61753082 -2.89198698]\n"
     ]
    },
    {
     "data": {
      "image/png": "[encoded data removed]",
      "text/plain": [
       "<Figure size 504x504 with 1 Axes>"
      ]
     },
     "metadata": {
      "needs_background": "light"
     },
     "output_type": "display_data"
    }
   ],
   "source": [
    "weights = get_model_weights(\"./data/{}\".format(interesting_iris))\n",
    "weights = convert_weight_dict_to_dataframe(weights)\n",
    "\n",
    "final_weights = weights.loc[weights[\"epoch\"] != \"1\"]    \n",
    "weight_cols = [c for c in list(final_weights.columns) if c not in [\"model_id\", \"epoch\", \"val_loss\"]]\n",
    "std_df = pd.DataFrame(columns=[\"weight_name\", \"std\"],\n",
    "                      data=list(zip(weight_cols, [np.std(final_weights[col]) for col in weight_cols])))\n",
    "std_df = std_df.sort_values(by=\"std\")\n",
    "\n",
    "if smallest_or_largest == \"smallest\":\n",
    "    two_weights = list(std_df[\"weight_name\"])[:2]\n",
    "elif smallest_or_largest == \"largest\":\n",
    "    two_weights = list(std_df[\"weight_name\"])[-2:]\n",
    "else:\n",
    "    raise ValueError()\n",
    "\n",
    "morseg, mapg = compute_morse_graph(weights[['epoch'] + two_weights], phase_subdiv=15)\n",
    "\n",
    "compute_order_retraction(morseg, mapg, title=\"{}_{}_2\".format(interesting_iris, smallest_or_largest))"
   ]
  },
  {
   "cell_type": "code",
   "execution_count": 5,
   "id": "announced-absolute",
   "metadata": {},
   "outputs": [
    {
     "data": {
      "image/svg+xml": [
       "<?xml version=\"1.0\" encoding=\"UTF-8\" standalone=\"no\"?>\n",
       "<!DOCTYPE svg PUBLIC \"-//W3C//DTD SVG 1.1//EN\"\n",
       " \"http://www.w3.org/Graphics/SVG/1.1/DTD/svg11.dtd\">\n",
       "<!-- Generated by graphviz version 2.46.1 (20210213.1702)\n",
       " -->\n",
       "<!-- Pages: 1 -->\n",
       "<svg width=\"62pt\" height=\"116pt\"\n",
       " viewBox=\"0.00 0.00 62.00 116.00\" xmlns=\"http://www.w3.org/2000/svg\" xmlns:xlink=\"http://www.w3.org/1999/xlink\">\n",
       "<g id=\"graph0\" class=\"graph\" transform=\"scale(1 1) rotate(0) translate(4 112)\">\n",
       "<polygon fill=\"white\" stroke=\"transparent\" points=\"-4,4 -4,-112 58,-112 58,4 -4,4\"/>\n",
       "<!-- 0 -->\n",
       "<g id=\"node1\" class=\"node\">\n",
       "<title>0</title>\n",
       "<ellipse fill=\"#0000ff\" stroke=\"black\" cx=\"27\" cy=\"-18\" rx=\"27\" ry=\"18\"/>\n",
       "<text text-anchor=\"middle\" x=\"27\" y=\"-14.3\" font-family=\"Times,serif\" font-size=\"14.00\">0</text>\n",
       "</g>\n",
       "<!-- 1 -->\n",
       "<g id=\"node2\" class=\"node\">\n",
       "<title>1</title>\n",
       "<ellipse fill=\"#00ff00\" stroke=\"black\" cx=\"27\" cy=\"-90\" rx=\"27\" ry=\"18\"/>\n",
       "<text text-anchor=\"middle\" x=\"27\" y=\"-86.3\" font-family=\"Times,serif\" font-size=\"14.00\">1</text>\n",
       "</g>\n",
       "<!-- 1&#45;&gt;0 -->\n",
       "<g id=\"edge1\" class=\"edge\">\n",
       "<title>1&#45;&gt;0</title>\n",
       "<path fill=\"none\" stroke=\"black\" d=\"M27,-71.7C27,-63.98 27,-54.71 27,-46.11\"/>\n",
       "<polygon fill=\"black\" stroke=\"black\" points=\"30.5,-46.1 27,-36.1 23.5,-46.1 30.5,-46.1\"/>\n",
       "</g>\n",
       "</g>\n",
       "</svg>\n"
      ],
      "text/plain": [
       "<graphviz.files.Source at 0x7fa604753f60>"
      ]
     },
     "execution_count": 5,
     "metadata": {},
     "output_type": "execute_result"
    }
   ],
   "source": [
    "PlotMorseGraph(morseg)"
   ]
  },
  {
   "cell_type": "code",
   "execution_count": 6,
   "id": "actual-boston",
   "metadata": {},
   "outputs": [
    {
     "data": {
      "image/svg+xml": [
       "<?xml version=\"1.0\" encoding=\"UTF-8\" standalone=\"no\"?>\n",
       "<!DOCTYPE svg PUBLIC \"-//W3C//DTD SVG 1.1//EN\"\n",
       " \"http://www.w3.org/Graphics/SVG/1.1/DTD/svg11.dtd\">\n",
       "<!-- Generated by graphviz version 2.46.1 (20210213.1702)\n",
       " -->\n",
       "<!-- Title: trans Pages: 1 -->\n",
       "<svg width=\"62pt\" height=\"116pt\"\n",
       " viewBox=\"0.00 0.00 62.00 116.00\" xmlns=\"http://www.w3.org/2000/svg\" xmlns:xlink=\"http://www.w3.org/1999/xlink\">\n",
       "<g id=\"graph0\" class=\"graph\" transform=\"scale(1 1) rotate(0) translate(4 112)\">\n",
       "<title>trans</title>\n",
       "<polygon fill=\"white\" stroke=\"transparent\" points=\"-4,4 -4,-112 58,-112 58,4 -4,4\"/>\n",
       "<!-- 0 -->\n",
       "<g id=\"node1\" class=\"node\">\n",
       "<title>0</title>\n",
       "<ellipse fill=\"none\" stroke=\"black\" cx=\"27\" cy=\"-90\" rx=\"27\" ry=\"18\"/>\n",
       "<text text-anchor=\"middle\" x=\"27\" y=\"-86.3\" font-family=\"Times,serif\" font-size=\"14.00\">0</text>\n",
       "</g>\n",
       "<!-- 1 -->\n",
       "<g id=\"node2\" class=\"node\">\n",
       "<title>1</title>\n",
       "<ellipse fill=\"none\" stroke=\"black\" cx=\"27\" cy=\"-18\" rx=\"27\" ry=\"18\"/>\n",
       "<text text-anchor=\"middle\" x=\"27\" y=\"-14.3\" font-family=\"Times,serif\" font-size=\"14.00\">1</text>\n",
       "</g>\n",
       "<!-- 0&#45;&gt;1 -->\n",
       "<g id=\"edge1\" class=\"edge\">\n",
       "<title>0&#45;&gt;1</title>\n",
       "<path fill=\"none\" stroke=\"black\" d=\"M27,-71.7C27,-63.98 27,-54.71 27,-46.11\"/>\n",
       "<polygon fill=\"black\" stroke=\"black\" points=\"30.5,-46.1 27,-36.1 23.5,-46.1 30.5,-46.1\"/>\n",
       "</g>\n",
       "</g>\n",
       "</svg>\n"
      ],
      "text/plain": [
       "<graphviz.files.Source at 0x7fa6013e4160>"
      ]
     },
     "execution_count": 6,
     "metadata": {},
     "output_type": "execute_result"
    }
   ],
   "source": [
    "graphviz.Source.from_file('Hasse.dot')"
   ]
  },
  {
   "cell_type": "code",
   "execution_count": 7,
   "id": "eastern-position",
   "metadata": {},
   "outputs": [],
   "source": [
    "# MUST BE SET MANUALLY FOR EACH RUN BASED ON ABOVE MORSE GRAPHS\n",
    "morse_nodes_map = {1: 0, 0:1}"
   ]
  },
  {
   "cell_type": "code",
   "execution_count": 8,
   "id": "aboriginal-growth",
   "metadata": {},
   "outputs": [],
   "source": [
    "with open('CMGDB_retract.txt','r') as infile:\n",
    "    retract_indices = []\n",
    "    retract_tiles = []\n",
    "    for i in range(mapg.num_vertices()): \n",
    "        index, tile = [int(x) for x in next(infile).split()]\n",
    "        retract_indices.append(index)\n",
    "        retract_tiles.append(tile)"
   ]
  },
  {
   "cell_type": "code",
   "execution_count": null,
   "id": "minute-modification",
   "metadata": {},
   "outputs": [],
   "source": []
  },
  {
   "cell_type": "code",
   "execution_count": null,
   "id": "noble-albuquerque",
   "metadata": {},
   "outputs": [],
   "source": []
  },
  {
   "cell_type": "code",
   "execution_count": null,
   "id": "chemical-pepper",
   "metadata": {},
   "outputs": [],
   "source": []
  },
  {
   "cell_type": "code",
   "execution_count": 9,
   "id": "stainless-savannah",
   "metadata": {},
   "outputs": [],
   "source": [
    "weights_100 = get_model_weights(\"./data/iris_epoch_100\")\n",
    "weights_100 = convert_weight_dict_to_dataframe(weights_100)\n",
    "weights_100 = weights_100[[\"model_id\", \"epoch\", \"val_loss\"] + two_weights]\n",
    "\n",
    "weights_150 = get_model_weights(\"./data/iris_baseline\")\n",
    "weights_150 = convert_weight_dict_to_dataframe(weights_150)\n",
    "weights_150 = weights_150[[\"model_id\", \"epoch\", \"val_loss\"] + two_weights]\n",
    "\n",
    "weights_300 = get_model_weights(\"./data/iris_epoch_300\")\n",
    "weights_300 = convert_weight_dict_to_dataframe(weights_300)\n",
    "weights_300 = weights_300[[\"model_id\", \"epoch\", \"val_loss\"] + two_weights]\n",
    "\n",
    "weights_450 = get_model_weights(\"./data/iris_epoch_450\")\n",
    "weights_450 = convert_weight_dict_to_dataframe(weights_450)\n",
    "weights_450 = weights_450[[\"model_id\", \"epoch\", \"val_loss\"] + two_weights]"
   ]
  },
  {
   "cell_type": "code",
   "execution_count": 10,
   "id": "existing-finance",
   "metadata": {},
   "outputs": [
    {
     "name": "stdout",
     "output_type": "stream",
     "text": [
      "dense_kernel_0_3\n",
      "min -5.510294437408447\n",
      "max 2.4659719467163086\n",
      "\n",
      "dense_kernel_0_0\n",
      "min -5.970724582672119\n",
      "max 2.45885169506073\n"
     ]
    }
   ],
   "source": [
    "print(two_weights[0])\n",
    "print(\"min\", weights_450[two_weights[0]].min() - 0.5)\n",
    "print(\"max\", weights_450[two_weights[0]].max() + 0.5)\n",
    "print()\n",
    "print(two_weights[1])\n",
    "print(\"min\", weights_450[two_weights[1]].min() - 0.5)\n",
    "print(\"max\", weights_450[two_weights[1]].max() + 0.5)"
   ]
  },
  {
   "cell_type": "code",
   "execution_count": 11,
   "id": "mediterranean-burke",
   "metadata": {
    "scrolled": false
   },
   "outputs": [],
   "source": [
    "# PlotOrderRetraction(morseg, mapg, retract_tiles, retract_indices, morse_nodes_map, \n",
    "#                     df_of_interest=weights_100, x=two_weights[0], y=two_weights[1], hue=\"epoch\")"
   ]
  },
  {
   "cell_type": "code",
   "execution_count": 12,
   "id": "talented-security",
   "metadata": {},
   "outputs": [],
   "source": [
    "# PlotOrderRetraction(morseg, mapg, retract_tiles, retract_indices, morse_nodes_map, \n",
    "#                     df_of_interest=weights_150, x=two_weights[0], y=two_weights[1], hue=\"epoch\")"
   ]
  },
  {
   "cell_type": "code",
   "execution_count": 13,
   "id": "actual-flush",
   "metadata": {},
   "outputs": [],
   "source": [
    "# PlotOrderRetraction(morseg, mapg, retract_tiles, retract_indices, morse_nodes_map, \n",
    "#                     df_of_interest=weights_300, x=two_weights[0], y=two_weights[1], hue=\"epoch\")"
   ]
  },
  {
   "cell_type": "code",
   "execution_count": 14,
   "id": "iraqi-extreme",
   "metadata": {},
   "outputs": [
    {
     "data": {
      "image/png": "[encoded data removed]",
      "text/plain": [
       "<Figure size 576x576 with 1 Axes>"
      ]
     },
     "metadata": {
      "needs_background": "light"
     },
     "output_type": "display_data"
    }
   ],
   "source": [
    "PlotOrderRetraction(morseg, mapg, retract_tiles, retract_indices, morse_nodes_map, \n",
    "                    df_of_interest=weights_450, x=two_weights[0], y=two_weights[1], hue=\"epoch\")"
   ]
  },
  {
   "cell_type": "code",
   "execution_count": null,
   "id": "civilian-clock",
   "metadata": {},
   "outputs": [],
   "source": []
  },
  {
   "cell_type": "code",
   "execution_count": null,
   "id": "balanced-timing",
   "metadata": {},
   "outputs": [],
   "source": []
  },
  {
   "cell_type": "code",
   "execution_count": 15,
   "id": "adequate-devon",
   "metadata": {},
   "outputs": [],
   "source": [
    "inside_outside_df = weights_450.copy()\n",
    "inside_outside_df = inside_outside_df.loc[inside_outside_df[\"epoch\"] == \"1\"]\n",
    "inside_outside_df = inside_outside_df.drop(columns=\"epoch\")\n",
    "inside_outside_df[\"inside_outside\"] = \"inside\"\n",
    "inside_outside_df[\"inside_outside\"][0] = \"outside\"\n",
    "inside_outside_df.loc[inside_outside_df[\"dense_kernel_0_0\"] > 1.4, \"inside_outside\"] = \"outside\"\n",
    "inside_outside_df.loc[(inside_outside_df[\"dense_kernel_0_0\"] > 0.9) & (inside_outside_df[\"dense_kernel_0_3\"] < 0.1), \n",
    "                      \"inside_outside\"] = \"outside\"\n",
    "inside_outside_df.loc[inside_outside_df[\"dense_kernel_0_3\"] < -1.75, \"inside_outside\"] = \"outside\"\n",
    "inside_outside_df.loc[(inside_outside_df[\"dense_kernel_0_0\"] < -0.75) & (inside_outside_df[\"dense_kernel_0_3\"] < -1), \n",
    "                      \"inside_outside\"] = \"outside\"\n",
    "inside_outside_df.loc[(inside_outside_df[\"dense_kernel_0_0\"] < -1.5) & (inside_outside_df[\"dense_kernel_0_3\"] < -0.5), \n",
    "                      \"inside_outside\"] = \"outside\"\n",
    "inside_outside_df.loc[inside_outside_df[\"dense_kernel_0_0\"] < -1.8, \"inside_outside\"] = \"outside\""
   ]
  },
  {
   "cell_type": "code",
   "execution_count": 16,
   "id": "defined-outdoors",
   "metadata": {},
   "outputs": [
    {
     "data": {
      "text/html": [
       "<div>\n",
       "<style scoped>\n",
       "    .dataframe tbody tr th:only-of-type {\n",
       "        vertical-align: middle;\n",
       "    }\n",
       "\n",
       "    .dataframe tbody tr th {\n",
       "        vertical-align: top;\n",
       "    }\n",
       "\n",
       "    .dataframe thead th {\n",
       "        text-align: right;\n",
       "    }\n",
       "</style>\n",
       "<table border=\"1\" class=\"dataframe\">\n",
       "  <thead>\n",
       "    <tr style=\"text-align: right;\">\n",
       "      <th></th>\n",
       "      <th>model_id</th>\n",
       "      <th>val_loss</th>\n",
       "      <th>dense_kernel_0_3</th>\n",
       "      <th>dense_kernel_0_0</th>\n",
       "      <th>inside_outside</th>\n",
       "    </tr>\n",
       "  </thead>\n",
       "  <tbody>\n",
       "    <tr>\n",
       "      <th>model.49-1-2.90.hdf5</th>\n",
       "      <td>model.49</td>\n",
       "      <td>2.90</td>\n",
       "      <td>-0.827550</td>\n",
       "      <td>1.383623</td>\n",
       "      <td>outside</td>\n",
       "    </tr>\n",
       "    <tr>\n",
       "      <th>model.28-1-1.47.hdf5</th>\n",
       "      <td>model.28</td>\n",
       "      <td>1.47</td>\n",
       "      <td>-0.864604</td>\n",
       "      <td>0.547236</td>\n",
       "      <td>inside</td>\n",
       "    </tr>\n",
       "    <tr>\n",
       "      <th>model.13-1-2.61.hdf5</th>\n",
       "      <td>model.13</td>\n",
       "      <td>2.61</td>\n",
       "      <td>1.074189</td>\n",
       "      <td>1.482288</td>\n",
       "      <td>outside</td>\n",
       "    </tr>\n",
       "    <tr>\n",
       "      <th>model.84-1-1.82.hdf5</th>\n",
       "      <td>model.84</td>\n",
       "      <td>1.82</td>\n",
       "      <td>1.308823</td>\n",
       "      <td>-0.475314</td>\n",
       "      <td>inside</td>\n",
       "    </tr>\n",
       "    <tr>\n",
       "      <th>model.45-1-0.59.hdf5</th>\n",
       "      <td>model.45</td>\n",
       "      <td>0.59</td>\n",
       "      <td>-0.504291</td>\n",
       "      <td>-0.701395</td>\n",
       "      <td>inside</td>\n",
       "    </tr>\n",
       "    <tr>\n",
       "      <th>...</th>\n",
       "      <td>...</td>\n",
       "      <td>...</td>\n",
       "      <td>...</td>\n",
       "      <td>...</td>\n",
       "      <td>...</td>\n",
       "    </tr>\n",
       "    <tr>\n",
       "      <th>model.2-1-1.94.hdf5</th>\n",
       "      <td>model.2</td>\n",
       "      <td>1.94</td>\n",
       "      <td>0.989762</td>\n",
       "      <td>-0.542829</td>\n",
       "      <td>inside</td>\n",
       "    </tr>\n",
       "    <tr>\n",
       "      <th>model.3-1-1.33.hdf5</th>\n",
       "      <td>model.3</td>\n",
       "      <td>1.33</td>\n",
       "      <td>-1.911916</td>\n",
       "      <td>-0.852151</td>\n",
       "      <td>outside</td>\n",
       "    </tr>\n",
       "    <tr>\n",
       "      <th>model.35-1-2.67.hdf5</th>\n",
       "      <td>model.35</td>\n",
       "      <td>2.67</td>\n",
       "      <td>-0.558142</td>\n",
       "      <td>1.111496</td>\n",
       "      <td>outside</td>\n",
       "    </tr>\n",
       "    <tr>\n",
       "      <th>model.74-1-1.46.hdf5</th>\n",
       "      <td>model.74</td>\n",
       "      <td>1.46</td>\n",
       "      <td>-0.660994</td>\n",
       "      <td>1.958852</td>\n",
       "      <td>outside</td>\n",
       "    </tr>\n",
       "    <tr>\n",
       "      <th>model.46-1-3.57.hdf5</th>\n",
       "      <td>model.46</td>\n",
       "      <td>3.57</td>\n",
       "      <td>-0.616600</td>\n",
       "      <td>1.517757</td>\n",
       "      <td>outside</td>\n",
       "    </tr>\n",
       "  </tbody>\n",
       "</table>\n",
       "<p>100 rows × 5 columns</p>\n",
       "</div>"
      ],
      "text/plain": [
       "                      model_id val_loss  dense_kernel_0_3  dense_kernel_0_0  \\\n",
       "model.49-1-2.90.hdf5  model.49     2.90         -0.827550          1.383623   \n",
       "model.28-1-1.47.hdf5  model.28     1.47         -0.864604          0.547236   \n",
       "model.13-1-2.61.hdf5  model.13     2.61          1.074189          1.482288   \n",
       "model.84-1-1.82.hdf5  model.84     1.82          1.308823         -0.475314   \n",
       "model.45-1-0.59.hdf5  model.45     0.59         -0.504291         -0.701395   \n",
       "...                        ...      ...               ...               ...   \n",
       "model.2-1-1.94.hdf5    model.2     1.94          0.989762         -0.542829   \n",
       "model.3-1-1.33.hdf5    model.3     1.33         -1.911916         -0.852151   \n",
       "model.35-1-2.67.hdf5  model.35     2.67         -0.558142          1.111496   \n",
       "model.74-1-1.46.hdf5  model.74     1.46         -0.660994          1.958852   \n",
       "model.46-1-3.57.hdf5  model.46     3.57         -0.616600          1.517757   \n",
       "\n",
       "                     inside_outside  \n",
       "model.49-1-2.90.hdf5        outside  \n",
       "model.28-1-1.47.hdf5         inside  \n",
       "model.13-1-2.61.hdf5        outside  \n",
       "model.84-1-1.82.hdf5         inside  \n",
       "model.45-1-0.59.hdf5         inside  \n",
       "...                             ...  \n",
       "model.2-1-1.94.hdf5          inside  \n",
       "model.3-1-1.33.hdf5         outside  \n",
       "model.35-1-2.67.hdf5        outside  \n",
       "model.74-1-1.46.hdf5        outside  \n",
       "model.46-1-3.57.hdf5        outside  \n",
       "\n",
       "[100 rows x 5 columns]"
      ]
     },
     "execution_count": 16,
     "metadata": {},
     "output_type": "execute_result"
    }
   ],
   "source": [
    "inside_outside_df"
   ]
  },
  {
   "cell_type": "code",
   "execution_count": 17,
   "id": "positive-minneapolis",
   "metadata": {},
   "outputs": [
    {
     "data": {
      "image/png": "[encoded data removed]",
      "text/plain": [
       "<Figure size 576x576 with 1 Axes>"
      ]
     },
     "metadata": {
      "needs_background": "light"
     },
     "output_type": "display_data"
    }
   ],
   "source": [
    "PlotOrderRetraction(morseg, mapg, retract_tiles, retract_indices, morse_nodes_map, \n",
    "                    df_of_interest=inside_outside_df, x=two_weights[0], y=two_weights[1], hue=\"inside_outside\")"
   ]
  },
  {
   "cell_type": "code",
   "execution_count": 18,
   "id": "comic-slope",
   "metadata": {},
   "outputs": [
    {
     "data": {
      "text/html": [
       "<div>\n",
       "<style scoped>\n",
       "    .dataframe tbody tr th:only-of-type {\n",
       "        vertical-align: middle;\n",
       "    }\n",
       "\n",
       "    .dataframe tbody tr th {\n",
       "        vertical-align: top;\n",
       "    }\n",
       "\n",
       "    .dataframe thead th {\n",
       "        text-align: right;\n",
       "    }\n",
       "</style>\n",
       "<table border=\"1\" class=\"dataframe\">\n",
       "  <thead>\n",
       "    <tr style=\"text-align: right;\">\n",
       "      <th></th>\n",
       "      <th>model_id</th>\n",
       "      <th>val_loss</th>\n",
       "      <th>dense_kernel_0_3</th>\n",
       "      <th>dense_kernel_0_0</th>\n",
       "      <th>inside_outside</th>\n",
       "    </tr>\n",
       "  </thead>\n",
       "  <tbody>\n",
       "    <tr>\n",
       "      <th>model.49-1-2.90.hdf5</th>\n",
       "      <td>model.49</td>\n",
       "      <td>2.90</td>\n",
       "      <td>-0.827550</td>\n",
       "      <td>1.383623</td>\n",
       "      <td>outside</td>\n",
       "    </tr>\n",
       "    <tr>\n",
       "      <th>model.28-1-1.47.hdf5</th>\n",
       "      <td>model.28</td>\n",
       "      <td>1.47</td>\n",
       "      <td>-0.864604</td>\n",
       "      <td>0.547236</td>\n",
       "      <td>inside</td>\n",
       "    </tr>\n",
       "    <tr>\n",
       "      <th>model.13-1-2.61.hdf5</th>\n",
       "      <td>model.13</td>\n",
       "      <td>2.61</td>\n",
       "      <td>1.074189</td>\n",
       "      <td>1.482288</td>\n",
       "      <td>outside</td>\n",
       "    </tr>\n",
       "    <tr>\n",
       "      <th>model.84-1-1.82.hdf5</th>\n",
       "      <td>model.84</td>\n",
       "      <td>1.82</td>\n",
       "      <td>1.308823</td>\n",
       "      <td>-0.475314</td>\n",
       "      <td>inside</td>\n",
       "    </tr>\n",
       "    <tr>\n",
       "      <th>model.45-1-0.59.hdf5</th>\n",
       "      <td>model.45</td>\n",
       "      <td>0.59</td>\n",
       "      <td>-0.504291</td>\n",
       "      <td>-0.701395</td>\n",
       "      <td>inside</td>\n",
       "    </tr>\n",
       "    <tr>\n",
       "      <th>...</th>\n",
       "      <td>...</td>\n",
       "      <td>...</td>\n",
       "      <td>...</td>\n",
       "      <td>...</td>\n",
       "      <td>...</td>\n",
       "    </tr>\n",
       "    <tr>\n",
       "      <th>model.2-1-1.94.hdf5</th>\n",
       "      <td>model.2</td>\n",
       "      <td>1.94</td>\n",
       "      <td>0.989762</td>\n",
       "      <td>-0.542829</td>\n",
       "      <td>inside</td>\n",
       "    </tr>\n",
       "    <tr>\n",
       "      <th>model.3-1-1.33.hdf5</th>\n",
       "      <td>model.3</td>\n",
       "      <td>1.33</td>\n",
       "      <td>-1.911916</td>\n",
       "      <td>-0.852151</td>\n",
       "      <td>outside</td>\n",
       "    </tr>\n",
       "    <tr>\n",
       "      <th>model.35-1-2.67.hdf5</th>\n",
       "      <td>model.35</td>\n",
       "      <td>2.67</td>\n",
       "      <td>-0.558142</td>\n",
       "      <td>1.111496</td>\n",
       "      <td>outside</td>\n",
       "    </tr>\n",
       "    <tr>\n",
       "      <th>model.74-1-1.46.hdf5</th>\n",
       "      <td>model.74</td>\n",
       "      <td>1.46</td>\n",
       "      <td>-0.660994</td>\n",
       "      <td>1.958852</td>\n",
       "      <td>outside</td>\n",
       "    </tr>\n",
       "    <tr>\n",
       "      <th>model.46-1-3.57.hdf5</th>\n",
       "      <td>model.46</td>\n",
       "      <td>3.57</td>\n",
       "      <td>-0.616600</td>\n",
       "      <td>1.517757</td>\n",
       "      <td>outside</td>\n",
       "    </tr>\n",
       "  </tbody>\n",
       "</table>\n",
       "<p>100 rows × 5 columns</p>\n",
       "</div>"
      ],
      "text/plain": [
       "                      model_id val_loss  dense_kernel_0_3  dense_kernel_0_0  \\\n",
       "model.49-1-2.90.hdf5  model.49     2.90         -0.827550          1.383623   \n",
       "model.28-1-1.47.hdf5  model.28     1.47         -0.864604          0.547236   \n",
       "model.13-1-2.61.hdf5  model.13     2.61          1.074189          1.482288   \n",
       "model.84-1-1.82.hdf5  model.84     1.82          1.308823         -0.475314   \n",
       "model.45-1-0.59.hdf5  model.45     0.59         -0.504291         -0.701395   \n",
       "...                        ...      ...               ...               ...   \n",
       "model.2-1-1.94.hdf5    model.2     1.94          0.989762         -0.542829   \n",
       "model.3-1-1.33.hdf5    model.3     1.33         -1.911916         -0.852151   \n",
       "model.35-1-2.67.hdf5  model.35     2.67         -0.558142          1.111496   \n",
       "model.74-1-1.46.hdf5  model.74     1.46         -0.660994          1.958852   \n",
       "model.46-1-3.57.hdf5  model.46     3.57         -0.616600          1.517757   \n",
       "\n",
       "                     inside_outside  \n",
       "model.49-1-2.90.hdf5        outside  \n",
       "model.28-1-1.47.hdf5         inside  \n",
       "model.13-1-2.61.hdf5        outside  \n",
       "model.84-1-1.82.hdf5         inside  \n",
       "model.45-1-0.59.hdf5         inside  \n",
       "...                             ...  \n",
       "model.2-1-1.94.hdf5          inside  \n",
       "model.3-1-1.33.hdf5         outside  \n",
       "model.35-1-2.67.hdf5        outside  \n",
       "model.74-1-1.46.hdf5        outside  \n",
       "model.46-1-3.57.hdf5        outside  \n",
       "\n",
       "[100 rows x 5 columns]"
      ]
     },
     "execution_count": 18,
     "metadata": {},
     "output_type": "execute_result"
    }
   ],
   "source": [
    "inside_outside_df"
   ]
  },
  {
   "cell_type": "code",
   "execution_count": null,
   "id": "racial-aging",
   "metadata": {},
   "outputs": [],
   "source": []
  },
  {
   "cell_type": "code",
   "execution_count": null,
   "id": "moral-disney",
   "metadata": {},
   "outputs": [],
   "source": []
  },
  {
   "cell_type": "code",
   "execution_count": null,
   "id": "pretty-control",
   "metadata": {},
   "outputs": [],
   "source": []
  },
  {
   "cell_type": "code",
   "execution_count": null,
   "id": "comic-identification",
   "metadata": {},
   "outputs": [],
   "source": []
  }
 ],
 "metadata": {
  "kernelspec": {
   "display_name": "Python [conda env:deep_chaos] *",
   "language": "python",
   "name": "conda-env-deep_chaos-py"
  },
  "language_info": {
   "codemirror_mode": {
    "name": "ipython",
    "version": 3
   },
   "file_extension": ".py",
   "mimetype": "text/x-python",
   "name": "python",
   "nbconvert_exporter": "python",
   "pygments_lexer": "ipython3",
   "version": "3.6.12"
  }
 },
 "nbformat": 4,
 "nbformat_minor": 5
}
