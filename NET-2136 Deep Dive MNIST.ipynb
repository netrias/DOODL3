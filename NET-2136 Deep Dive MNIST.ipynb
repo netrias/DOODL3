{
 "cells": [
  {
   "cell_type": "code",
   "execution_count": 1,
   "id": "excessive-cotton",
   "metadata": {},
   "outputs": [
    {
     "name": "stderr",
     "output_type": "stream",
     "text": [
      "Using TensorFlow backend.\n"
     ]
    }
   ],
   "source": [
    "# basics\n",
    "import os\n",
    "import time\n",
    "import numpy as np\n",
    "import pandas as pd\n",
    "\n",
    "# scipy and sklearn\n",
    "from scipy.stats import entropy\n",
    "from sklearn.metrics import balanced_accuracy_score\n",
    "from sklearn.model_selection import train_test_split\n",
    "from sklearn.preprocessing import OneHotEncoder, StandardScaler\n",
    "\n",
    "# plotting\n",
    "import matplotlib\n",
    "import matplotlib.pyplot as plt\n",
    "import matplotlib.patches as mpatches\n",
    "from matplotlib.collections import PatchCollection\n",
    "import seaborn as sns\n",
    "from IPython.display import Image\n",
    "from matplotlib.patches import Rectangle\n",
    "\n",
    "# CMDGB\n",
    "import graphviz\n",
    "from CMGDB import PlotMorseSets, PlotMorseGraph\n",
    "\n",
    "# local\n",
    "from data_loaders import retrieve_predictions\n",
    "from models import *\n",
    "from utils import get_model_weights, convert_weight_dict_to_dataframe, compute_morse_graph, \\\n",
    "                  compute_morse_graph_with_gpflow_gp, compute_order_retraction, PlotOrderRetraction\n",
    "\n",
    "sns.set()\n",
    "plt.style.use('ggplot')\n",
    "%matplotlib inline\n",
    "%load_ext autoreload\n",
    "%autoreload 2"
   ]
  },
  {
   "cell_type": "code",
   "execution_count": 2,
   "id": "vital-robertson",
   "metadata": {},
   "outputs": [],
   "source": [
    "# suppress warnings\n",
    "import warnings\n",
    "warnings.filterwarnings('ignore')"
   ]
  },
  {
   "cell_type": "code",
   "execution_count": null,
   "id": "cubic-subcommittee",
   "metadata": {},
   "outputs": [],
   "source": []
  },
  {
   "cell_type": "code",
   "execution_count": 3,
   "id": "institutional-hospital",
   "metadata": {},
   "outputs": [],
   "source": [
    "# Pick interesting_mnist from: [\"mnist_baseline\", \"mnist_layers_2\", \"mnist_epoch_450\"]\n",
    "interesting_mnist = \"mnist_epoch_8\"\n",
    "# Pick smallest_or_largest from: [\"smallest\", \"largest\"]\n",
    "smallest_or_largest = \"largest\""
   ]
  },
  {
   "cell_type": "markdown",
   "id": "framed-payment",
   "metadata": {},
   "source": [
    "Code:"
   ]
  },
  {
   "cell_type": "code",
   "execution_count": 4,
   "id": "competent-keeping",
   "metadata": {
    "scrolled": false
   },
   "outputs": [
    {
     "name": "stdout",
     "output_type": "stream",
     "text": [
      "[-0.2195934  -0.35602097]\n"
     ]
    },
    {
     "data": {
      "image/png": "[encoded data removed]",
      "text/plain": [
       "<Figure size 504x504 with 1 Axes>"
      ]
     },
     "metadata": {
      "needs_background": "light"
     },
     "output_type": "display_data"
    }
   ],
   "source": [
    "weights = get_model_weights(\"./data/{}\".format(interesting_mnist))\n",
    "weights = convert_weight_dict_to_dataframe(weights)\n",
    "\n",
    "final_weights = weights.loc[weights[\"epoch\"] != \"1\"]    \n",
    "weight_cols = [c for c in list(final_weights.columns) if c not in [\"model_id\", \"epoch\", \"val_loss\"]]\n",
    "std_df = pd.DataFrame(columns=[\"weight_name\", \"std\"],\n",
    "                      data=list(zip(weight_cols, [np.std(final_weights[col]) for col in weight_cols])))\n",
    "std_df = std_df.sort_values(by=\"std\")\n",
    "\n",
    "if smallest_or_largest == \"smallest\":\n",
    "    two_weights = list(std_df[\"weight_name\"])[:2]\n",
    "elif smallest_or_largest == \"largest\":\n",
    "    two_weights = list(std_df[\"weight_name\"])[-2:]\n",
    "else:\n",
    "    raise ValueError()\n",
    "\n",
    "morseg, mapg = compute_morse_graph(weights[['epoch'] + two_weights], phase_subdiv=15)\n",
    "\n",
    "compute_order_retraction(morseg, mapg, title=\"{}_{}_2\".format(interesting_mnist, smallest_or_largest))"
   ]
  },
  {
   "cell_type": "code",
   "execution_count": 5,
   "id": "announced-absolute",
   "metadata": {},
   "outputs": [
    {
     "data": {
      "image/svg+xml": [
       "<?xml version=\"1.0\" encoding=\"UTF-8\" standalone=\"no\"?>\n",
       "<!DOCTYPE svg PUBLIC \"-//W3C//DTD SVG 1.1//EN\"\n",
       " \"http://www.w3.org/Graphics/SVG/1.1/DTD/svg11.dtd\">\n",
       "<!-- Generated by graphviz version 2.46.1 (20210213.1702)\n",
       " -->\n",
       "<!-- Pages: 1 -->\n",
       "<svg width=\"62pt\" height=\"116pt\"\n",
       " viewBox=\"0.00 0.00 62.00 116.00\" xmlns=\"http://www.w3.org/2000/svg\" xmlns:xlink=\"http://www.w3.org/1999/xlink\">\n",
       "<g id=\"graph0\" class=\"graph\" transform=\"scale(1 1) rotate(0) translate(4 112)\">\n",
       "<polygon fill=\"white\" stroke=\"transparent\" points=\"-4,4 -4,-112 58,-112 58,4 -4,4\"/>\n",
       "<!-- 0 -->\n",
       "<g id=\"node1\" class=\"node\">\n",
       "<title>0</title>\n",
       "<ellipse fill=\"#0000ff\" stroke=\"black\" cx=\"27\" cy=\"-18\" rx=\"27\" ry=\"18\"/>\n",
       "<text text-anchor=\"middle\" x=\"27\" y=\"-14.3\" font-family=\"Times,serif\" font-size=\"14.00\">0</text>\n",
       "</g>\n",
       "<!-- 1 -->\n",
       "<g id=\"node2\" class=\"node\">\n",
       "<title>1</title>\n",
       "<ellipse fill=\"#00ff00\" stroke=\"black\" cx=\"27\" cy=\"-90\" rx=\"27\" ry=\"18\"/>\n",
       "<text text-anchor=\"middle\" x=\"27\" y=\"-86.3\" font-family=\"Times,serif\" font-size=\"14.00\">1</text>\n",
       "</g>\n",
       "<!-- 1&#45;&gt;0 -->\n",
       "<g id=\"edge1\" class=\"edge\">\n",
       "<title>1&#45;&gt;0</title>\n",
       "<path fill=\"none\" stroke=\"black\" d=\"M27,-71.7C27,-63.98 27,-54.71 27,-46.11\"/>\n",
       "<polygon fill=\"black\" stroke=\"black\" points=\"30.5,-46.1 27,-36.1 23.5,-46.1 30.5,-46.1\"/>\n",
       "</g>\n",
       "</g>\n",
       "</svg>\n"
      ],
      "text/plain": [
       "<graphviz.files.Source at 0x7f94320bf7b8>"
      ]
     },
     "execution_count": 5,
     "metadata": {},
     "output_type": "execute_result"
    }
   ],
   "source": [
    "PlotMorseGraph(morseg)"
   ]
  },
  {
   "cell_type": "code",
   "execution_count": 6,
   "id": "actual-boston",
   "metadata": {},
   "outputs": [
    {
     "data": {
      "image/svg+xml": [
       "<?xml version=\"1.0\" encoding=\"UTF-8\" standalone=\"no\"?>\n",
       "<!DOCTYPE svg PUBLIC \"-//W3C//DTD SVG 1.1//EN\"\n",
       " \"http://www.w3.org/Graphics/SVG/1.1/DTD/svg11.dtd\">\n",
       "<!-- Generated by graphviz version 2.46.1 (20210213.1702)\n",
       " -->\n",
       "<!-- Title: trans Pages: 1 -->\n",
       "<svg width=\"62pt\" height=\"116pt\"\n",
       " viewBox=\"0.00 0.00 62.00 116.00\" xmlns=\"http://www.w3.org/2000/svg\" xmlns:xlink=\"http://www.w3.org/1999/xlink\">\n",
       "<g id=\"graph0\" class=\"graph\" transform=\"scale(1 1) rotate(0) translate(4 112)\">\n",
       "<title>trans</title>\n",
       "<polygon fill=\"white\" stroke=\"transparent\" points=\"-4,4 -4,-112 58,-112 58,4 -4,4\"/>\n",
       "<!-- 0 -->\n",
       "<g id=\"node1\" class=\"node\">\n",
       "<title>0</title>\n",
       "<ellipse fill=\"none\" stroke=\"black\" cx=\"27\" cy=\"-90\" rx=\"27\" ry=\"18\"/>\n",
       "<text text-anchor=\"middle\" x=\"27\" y=\"-86.3\" font-family=\"Times,serif\" font-size=\"14.00\">0</text>\n",
       "</g>\n",
       "<!-- 1 -->\n",
       "<g id=\"node2\" class=\"node\">\n",
       "<title>1</title>\n",
       "<ellipse fill=\"none\" stroke=\"black\" cx=\"27\" cy=\"-18\" rx=\"27\" ry=\"18\"/>\n",
       "<text text-anchor=\"middle\" x=\"27\" y=\"-14.3\" font-family=\"Times,serif\" font-size=\"14.00\">1</text>\n",
       "</g>\n",
       "<!-- 0&#45;&gt;1 -->\n",
       "<g id=\"edge1\" class=\"edge\">\n",
       "<title>0&#45;&gt;1</title>\n",
       "<path fill=\"none\" stroke=\"black\" d=\"M27,-71.7C27,-63.98 27,-54.71 27,-46.11\"/>\n",
       "<polygon fill=\"black\" stroke=\"black\" points=\"30.5,-46.1 27,-36.1 23.5,-46.1 30.5,-46.1\"/>\n",
       "</g>\n",
       "</g>\n",
       "</svg>\n"
      ],
      "text/plain": [
       "<graphviz.files.Source at 0x7f9416d18cf8>"
      ]
     },
     "execution_count": 6,
     "metadata": {},
     "output_type": "execute_result"
    }
   ],
   "source": [
    "graphviz.Source.from_file('Hasse.dot')"
   ]
  },
  {
   "cell_type": "code",
   "execution_count": 7,
   "id": "eastern-position",
   "metadata": {},
   "outputs": [],
   "source": [
    "# MUST BE SET MANUALLY FOR EACH RUN BASED ON ABOVE MORSE GRAPHS\n",
    "morse_nodes_map = {1: 0, 0:1}"
   ]
  },
  {
   "cell_type": "code",
   "execution_count": 8,
   "id": "aboriginal-growth",
   "metadata": {},
   "outputs": [],
   "source": [
    "with open('CMGDB_retract.txt','r') as infile:\n",
    "    retract_indices = []\n",
    "    retract_tiles = []\n",
    "    for i in range(mapg.num_vertices()): \n",
    "        index, tile = [int(x) for x in next(infile).split()]\n",
    "        retract_indices.append(index)\n",
    "        retract_tiles.append(tile)"
   ]
  },
  {
   "cell_type": "code",
   "execution_count": null,
   "id": "moderate-carolina",
   "metadata": {},
   "outputs": [],
   "source": []
  },
  {
   "cell_type": "code",
   "execution_count": null,
   "id": "fiscal-demand",
   "metadata": {},
   "outputs": [],
   "source": []
  },
  {
   "cell_type": "code",
   "execution_count": null,
   "id": "liable-korea",
   "metadata": {},
   "outputs": [],
   "source": []
  },
  {
   "cell_type": "code",
   "execution_count": 9,
   "id": "tropical-endorsement",
   "metadata": {},
   "outputs": [],
   "source": [
    "weights_4_epochs = get_model_weights(\"./data/mnist_baseline\")\n",
    "weights_4_epochs = convert_weight_dict_to_dataframe(weights_4_epochs)\n",
    "weights_4_epochs = weights_4_epochs[[\"model_id\", \"epoch\", \"val_loss\"] + two_weights]\n",
    "\n",
    "weights_8_epochs = get_model_weights(\"./data/mnist_epoch_8\")\n",
    "weights_8_epochs = convert_weight_dict_to_dataframe(weights_8_epochs)\n",
    "weights_8_epochs = weights_8_epochs[[\"model_id\", \"epoch\", \"val_loss\"] + two_weights]\n",
    "\n",
    "weights_12_epochs = get_model_weights(\"./data/mnist_epoch_12\")\n",
    "weights_12_epochs = convert_weight_dict_to_dataframe(weights_12_epochs)\n",
    "weights_12_epochs = weights_12_epochs[[\"model_id\", \"epoch\", \"val_loss\"] + two_weights]\n",
    "\n",
    "weights_16_epochs = get_model_weights(\"./data/mnist_epoch_16\")\n",
    "weights_16_epochs = convert_weight_dict_to_dataframe(weights_16_epochs)\n",
    "weights_16_epochs = weights_16_epochs[[\"model_id\", \"epoch\", \"val_loss\"] + two_weights]"
   ]
  },
  {
   "cell_type": "code",
   "execution_count": 10,
   "id": "hollow-strand",
   "metadata": {},
   "outputs": [
    {
     "name": "stdout",
     "output_type": "stream",
     "text": [
      "dense_kernel_0_3\n",
      "min -2.718585968017578\n",
      "max 2.4002586603164673\n",
      "\n",
      "dense_kernel_0_13\n",
      "min -3.347527027130127\n",
      "max 2.276892900466919\n"
     ]
    }
   ],
   "source": [
    "print(two_weights[0])\n",
    "print(\"min\", weights_16_epochs[two_weights[0]].min() - 0.5)\n",
    "print(\"max\", weights_16_epochs[two_weights[0]].max() + 0.5)\n",
    "print()\n",
    "print(two_weights[1])\n",
    "print(\"min\", weights_16_epochs[two_weights[1]].min() - 0.5)\n",
    "print(\"max\", weights_16_epochs[two_weights[1]].max() + 0.5)"
   ]
  },
  {
   "cell_type": "code",
   "execution_count": 18,
   "id": "mediterranean-burke",
   "metadata": {
    "scrolled": false
   },
   "outputs": [],
   "source": [
    "# PlotOrderRetraction(morseg, mapg, retract_tiles, retract_indices, morse_nodes_map, \n",
    "#                     df_of_interest=weights_4_epochs, x=two_weights[0], y=two_weights[1], hue=\"epoch\")"
   ]
  },
  {
   "cell_type": "code",
   "execution_count": 19,
   "id": "contemporary-egypt",
   "metadata": {},
   "outputs": [
    {
     "data": {
      "image/png": "[encoded data removed]",
      "text/plain": [
       "<Figure size 576x576 with 1 Axes>"
      ]
     },
     "metadata": {
      "needs_background": "light"
     },
     "output_type": "display_data"
    }
   ],
   "source": [
    "PlotOrderRetraction(morseg, mapg, retract_tiles, retract_indices, morse_nodes_map, \n",
    "                    df_of_interest=weights_8_epochs, x=two_weights[0], y=two_weights[1], hue=\"epoch\")"
   ]
  },
  {
   "cell_type": "code",
   "execution_count": 20,
   "id": "healthy-desktop",
   "metadata": {},
   "outputs": [],
   "source": [
    "# PlotOrderRetraction(morseg, mapg, retract_tiles, retract_indices, morse_nodes_map, \n",
    "#                     df_of_interest=weights_12_epochs, x=two_weights[0], y=two_weights[1], hue=\"epoch\")"
   ]
  },
  {
   "cell_type": "code",
   "execution_count": 21,
   "id": "scheduled-little",
   "metadata": {},
   "outputs": [],
   "source": [
    "# PlotOrderRetraction(morseg, mapg, retract_tiles, retract_indices, morse_nodes_map, \n",
    "#                     df_of_interest=weights_16_epochs, x=two_weights[0], y=two_weights[1], hue=\"epoch\")"
   ]
  },
  {
   "cell_type": "code",
   "execution_count": null,
   "id": "aggregate-elephant",
   "metadata": {},
   "outputs": [],
   "source": []
  },
  {
   "cell_type": "code",
   "execution_count": 38,
   "id": "dangerous-cartridge",
   "metadata": {},
   "outputs": [],
   "source": [
    "points_of_interest_df = weights_8_epochs.copy()\n",
    "points_of_interest_df = points_of_interest_df.loc[points_of_interest_df[\"epoch\"] == \"1\"]"
   ]
  },
  {
   "cell_type": "code",
   "execution_count": 124,
   "id": "industrial-playback",
   "metadata": {},
   "outputs": [],
   "source": [
    "pd.set_option('display.max_rows', 20)"
   ]
  },
  {
   "cell_type": "code",
   "execution_count": 47,
   "id": "measured-feeling",
   "metadata": {
    "scrolled": false
   },
   "outputs": [],
   "source": [
    "points_of_interest_df = points_of_interest_df.sort_values(by=\"dense_kernel_0_3\").reset_index(drop=True)"
   ]
  },
  {
   "cell_type": "code",
   "execution_count": 78,
   "id": "cleared-message",
   "metadata": {},
   "outputs": [],
   "source": [
    "points_of_interest_df[\"of_interest\"] = \"not of interest\"\n",
    "points_of_interest_df[\"of_interest\"][58] = \"in green\"\n",
    "points_of_interest_df[\"of_interest\"][63] = \"in green\"\n",
    "points_of_interest_df[\"of_interest\"][42] = \"in blue\"\n",
    "points_of_interest_df[\"of_interest\"][36] = \"in blue\""
   ]
  },
  {
   "cell_type": "code",
   "execution_count": 79,
   "id": "national-enclosure",
   "metadata": {},
   "outputs": [],
   "source": [
    "# points_of_interest_df"
   ]
  },
  {
   "cell_type": "code",
   "execution_count": 81,
   "id": "light-religious",
   "metadata": {},
   "outputs": [
    {
     "data": {
      "image/png": "[encoded data removed]",
      "text/plain": [
       "<Figure size 576x576 with 1 Axes>"
      ]
     },
     "metadata": {
      "needs_background": "light"
     },
     "output_type": "display_data"
    }
   ],
   "source": [
    "PlotOrderRetraction(morseg, mapg, retract_tiles, retract_indices, morse_nodes_map, \n",
    "                    df_of_interest=points_of_interest_df, x=two_weights[0], y=two_weights[1], hue=\"of_interest\")"
   ]
  },
  {
   "cell_type": "code",
   "execution_count": 87,
   "id": "worst-scanner",
   "metadata": {},
   "outputs": [],
   "source": [
    "models_of_interest = list(points_of_interest_df.loc[points_of_interest_df[\"of_interest\"] != \\\n",
    "                                                    \"not of interest\"][\"model_id\"])"
   ]
  },
  {
   "cell_type": "code",
   "execution_count": 88,
   "id": "innovative-rebate",
   "metadata": {},
   "outputs": [
    {
     "data": {
      "text/plain": [
       "['model.10', 'model.73', 'model.36', 'model.55']"
      ]
     },
     "execution_count": 88,
     "metadata": {},
     "output_type": "execute_result"
    }
   ],
   "source": [
    "models_of_interest"
   ]
  },
  {
   "cell_type": "code",
   "execution_count": null,
   "id": "painted-reason",
   "metadata": {},
   "outputs": [],
   "source": []
  },
  {
   "cell_type": "code",
   "execution_count": 89,
   "id": "solid-parcel",
   "metadata": {},
   "outputs": [],
   "source": [
    "y_test_mnist = np.array(pd.read_csv(\"y_test_mnist.csv\"))\n",
    "preds = retrieve_predictions(y_test=y_test_mnist, outdir=\"./data/mnist_epoch_8\")"
   ]
  },
  {
   "cell_type": "code",
   "execution_count": 154,
   "id": "accredited-wildlife",
   "metadata": {},
   "outputs": [
    {
     "name": "stdout",
     "output_type": "stream",
     "text": [
      "model.10\n",
      "starts in blue\n",
      "balanced accuracy: 0.86\n",
      "mean entropy: 0.01168\n",
      "\n",
      "model.73\n",
      "starts in blue\n",
      "balanced accuracy: 0.99\n",
      "mean entropy: 0.00000\n",
      "\n",
      "model.36\n",
      "starts in green\n",
      "balanced accuracy: 0.69\n",
      "mean entropy: 0.00191\n",
      "\n",
      "model.55\n",
      "starts in green\n",
      "balanced accuracy: 0.91\n",
      "mean entropy: 0.00101\n",
      "\n"
     ]
    }
   ],
   "source": [
    "concat_me = []\n",
    "\n",
    "for model in models_of_interest:    \n",
    "    in_blue_or_green = points_of_interest_df.loc[points_of_interest_df[\"model_id\"] == model][\"of_interest\"].unique()[0]\n",
    "    \n",
    "    df_preds = preds.loc[preds[\"model\"] == model]\n",
    "    accuracy =  balanced_accuracy_score(df_preds[\"pred_class\"], df_preds[\"real_class\"])\n",
    "    \n",
    "#     df_weights = weights_8_epochs.loc[weights_8_epochs[\"model_id\"] == model]\n",
    "#     xstd = np.std(df_weights[\"dense_kernel_0_3\"])\n",
    "#     ystd = np.std(df_weights[\"dense_kernel_0_13\"])\n",
    "\n",
    "#     mnist_entropies = df_preds.groupby(\"point\", as_index=False).agg({\"p0\": np.mean, \"p1\": np.mean})\n",
    "\n",
    "    entropies = pd.DataFrame(df_preds.apply(lambda x: entropy([x[\"p0\"], x[\"p1\"]]), axis=1), columns=[\"entropies\"])\n",
    "    average_entropy = np.mean(entropies[\"entropies\"])\n",
    "    \n",
    "    print(model)\n",
    "    print(\"starts\", in_blue_or_green)\n",
    "#     print(\"dense_kernel_0_3 (x) std: {:5f}\".format(xstd))\n",
    "#     print(\"dense_kernel_0_13 (y) std: {:5f}\".format(ystd))\n",
    "    print(\"balanced accuracy: {:.2f}\".format(accuracy))\n",
    "    print(\"mean entropy: {:.5f}\".format(average_entropy))\n",
    "    print()\n",
    "    \n",
    "    \n",
    "    c = entropies.copy()\n",
    "    c[\"model\"] = model\n",
    "    concat_me.append(c.reset_index(drop=True))    "
   ]
  },
  {
   "cell_type": "code",
   "execution_count": 155,
   "id": "provincial-testament",
   "metadata": {},
   "outputs": [],
   "source": [
    "temp = pd.concat(concat_me, axis=0)"
   ]
  },
  {
   "cell_type": "code",
   "execution_count": 157,
   "id": "cardiac-night",
   "metadata": {},
   "outputs": [
    {
     "data": {
      "text/plain": [
       "<AxesSubplot:xlabel='model', ylabel='entropies'>"
      ]
     },
     "execution_count": 157,
     "metadata": {},
     "output_type": "execute_result"
    },
    {
     "data": {
      "image/png": "[encoded data removed]",
      "text/plain": [
       "<Figure size 432x288 with 1 Axes>"
      ]
     },
     "metadata": {
      "needs_background": "light"
     },
     "output_type": "display_data"
    }
   ],
   "source": [
    "sns.violinplot(data=temp, x=\"model\", y=\"entropies\")"
   ]
  },
  {
   "cell_type": "code",
   "execution_count": null,
   "id": "concrete-ticket",
   "metadata": {},
   "outputs": [],
   "source": []
  },
  {
   "cell_type": "code",
   "execution_count": null,
   "id": "sunset-filing",
   "metadata": {},
   "outputs": [],
   "source": []
  },
  {
   "cell_type": "code",
   "execution_count": null,
   "id": "current-track",
   "metadata": {},
   "outputs": [],
   "source": []
  },
  {
   "cell_type": "code",
   "execution_count": null,
   "id": "based-poison",
   "metadata": {},
   "outputs": [],
   "source": []
  },
  {
   "cell_type": "code",
   "execution_count": null,
   "id": "golden-manor",
   "metadata": {},
   "outputs": [],
   "source": []
  },
  {
   "cell_type": "code",
   "execution_count": 165,
   "id": "female-documentation",
   "metadata": {},
   "outputs": [],
   "source": [
    "mnist_entropies = preds.groupby(\"point\", as_index=False).agg({\"p0\": np.mean, \"p1\": np.mean})\n",
    "mnist_entropies[\"entropy\"] = mnist_entropies.apply(lambda x: entropy([x[\"p0\"], x[\"p1\"]]), axis=1)\n"
   ]
  },
  {
   "cell_type": "code",
   "execution_count": 166,
   "id": "voluntary-intent",
   "metadata": {},
   "outputs": [
    {
     "data": {
      "text/html": [
       "<div>\n",
       "<style scoped>\n",
       "    .dataframe tbody tr th:only-of-type {\n",
       "        vertical-align: middle;\n",
       "    }\n",
       "\n",
       "    .dataframe tbody tr th {\n",
       "        vertical-align: top;\n",
       "    }\n",
       "\n",
       "    .dataframe thead th {\n",
       "        text-align: right;\n",
       "    }\n",
       "</style>\n",
       "<table border=\"1\" class=\"dataframe\">\n",
       "  <thead>\n",
       "    <tr style=\"text-align: right;\">\n",
       "      <th></th>\n",
       "      <th>point</th>\n",
       "      <th>p0</th>\n",
       "      <th>p1</th>\n",
       "      <th>entropy</th>\n",
       "    </tr>\n",
       "  </thead>\n",
       "  <tbody>\n",
       "    <tr>\n",
       "      <th>0</th>\n",
       "      <td>0</td>\n",
       "      <td>0.035663</td>\n",
       "      <td>0.964337</td>\n",
       "      <td>0.153907</td>\n",
       "    </tr>\n",
       "    <tr>\n",
       "      <th>1</th>\n",
       "      <td>1</td>\n",
       "      <td>0.080002</td>\n",
       "      <td>0.919998</td>\n",
       "      <td>0.278775</td>\n",
       "    </tr>\n",
       "    <tr>\n",
       "      <th>2</th>\n",
       "      <td>2</td>\n",
       "      <td>0.072126</td>\n",
       "      <td>0.927874</td>\n",
       "      <td>0.259104</td>\n",
       "    </tr>\n",
       "    <tr>\n",
       "      <th>3</th>\n",
       "      <td>3</td>\n",
       "      <td>0.063724</td>\n",
       "      <td>0.936276</td>\n",
       "      <td>0.237093</td>\n",
       "    </tr>\n",
       "    <tr>\n",
       "      <th>4</th>\n",
       "      <td>4</td>\n",
       "      <td>0.121755</td>\n",
       "      <td>0.878245</td>\n",
       "      <td>0.370407</td>\n",
       "    </tr>\n",
       "    <tr>\n",
       "      <th>...</th>\n",
       "      <td>...</td>\n",
       "      <td>...</td>\n",
       "      <td>...</td>\n",
       "      <td>...</td>\n",
       "    </tr>\n",
       "    <tr>\n",
       "      <th>95</th>\n",
       "      <td>95</td>\n",
       "      <td>0.103901</td>\n",
       "      <td>0.896099</td>\n",
       "      <td>0.333571</td>\n",
       "    </tr>\n",
       "    <tr>\n",
       "      <th>96</th>\n",
       "      <td>96</td>\n",
       "      <td>0.104737</td>\n",
       "      <td>0.895263</td>\n",
       "      <td>0.335368</td>\n",
       "    </tr>\n",
       "    <tr>\n",
       "      <th>97</th>\n",
       "      <td>97</td>\n",
       "      <td>0.045684</td>\n",
       "      <td>0.954316</td>\n",
       "      <td>0.185604</td>\n",
       "    </tr>\n",
       "    <tr>\n",
       "      <th>98</th>\n",
       "      <td>98</td>\n",
       "      <td>0.920000</td>\n",
       "      <td>0.080000</td>\n",
       "      <td>0.278769</td>\n",
       "    </tr>\n",
       "    <tr>\n",
       "      <th>99</th>\n",
       "      <td>99</td>\n",
       "      <td>0.211125</td>\n",
       "      <td>0.788875</td>\n",
       "      <td>0.515443</td>\n",
       "    </tr>\n",
       "  </tbody>\n",
       "</table>\n",
       "<p>100 rows × 4 columns</p>\n",
       "</div>"
      ],
      "text/plain": [
       "    point        p0        p1   entropy\n",
       "0       0  0.035663  0.964337  0.153907\n",
       "1       1  0.080002  0.919998  0.278775\n",
       "2       2  0.072126  0.927874  0.259104\n",
       "3       3  0.063724  0.936276  0.237093\n",
       "4       4  0.121755  0.878245  0.370407\n",
       "..    ...       ...       ...       ...\n",
       "95     95  0.103901  0.896099  0.333571\n",
       "96     96  0.104737  0.895263  0.335368\n",
       "97     97  0.045684  0.954316  0.185604\n",
       "98     98  0.920000  0.080000  0.278769\n",
       "99     99  0.211125  0.788875  0.515443\n",
       "\n",
       "[100 rows x 4 columns]"
      ]
     },
     "execution_count": 166,
     "metadata": {},
     "output_type": "execute_result"
    }
   ],
   "source": [
    "mnist_entropies"
   ]
  },
  {
   "cell_type": "code",
   "execution_count": 388,
   "id": "generic-coast",
   "metadata": {},
   "outputs": [
    {
     "data": {
      "text/plain": [
       "<AxesSubplot:ylabel='entropy'>"
      ]
     },
     "execution_count": 388,
     "metadata": {},
     "output_type": "execute_result"
    },
    {
     "data": {
      "image/png": "[encoded data removed]",
      "text/plain": [
       "<Figure size 360x504 with 1 Axes>"
      ]
     },
     "metadata": {
      "needs_background": "light"
     },
     "output_type": "display_data"
    }
   ],
   "source": [
    "plt.figure(figsize=(5, 7))\n",
    "sns.violinplot(data=mnist_entropies, y=\"entropy\")"
   ]
  },
  {
   "cell_type": "code",
   "execution_count": null,
   "id": "apart-titanium",
   "metadata": {},
   "outputs": [],
   "source": []
  },
  {
   "cell_type": "code",
   "execution_count": null,
   "id": "acceptable-february",
   "metadata": {},
   "outputs": [],
   "source": []
  },
  {
   "cell_type": "code",
   "execution_count": null,
   "id": "protecting-document",
   "metadata": {},
   "outputs": [],
   "source": []
  },
  {
   "cell_type": "code",
   "execution_count": 349,
   "id": "olympic-republic",
   "metadata": {},
   "outputs": [],
   "source": [
    "inside_outside_df = weights_8_epochs.copy()\n",
    "inside_outside_df = inside_outside_df.loc[inside_outside_df[\"epoch\"] == \"1\"].reset_index(drop=True)\n",
    "inside_outside_df = inside_outside_df.drop(columns=\"epoch\")\n",
    "inside_outside_df[\"inside_outside\"] = \"inside\"\n",
    "inside_outside_df[\"inside_outside\"][0] = \"outside\"\n",
    "\n",
    "inside_outside_df.loc[inside_outside_df[\"dense_kernel_0_3\"] > 1.1, \"inside_outside\"] = \"outside\"\n",
    "\n",
    "inside_outside_df.loc[(inside_outside_df[\"dense_kernel_0_3\"] > 0.15) & \n",
    "                      (inside_outside_df[\"dense_kernel_0_13\"] > -1.5), \n",
    "                      \"inside_outside\"] = \"outside\"\n",
    "inside_outside_df.loc[(inside_outside_df[\"dense_kernel_0_3\"] < -0.6) & \n",
    "                      (inside_outside_df[\"dense_kernel_0_13\"] < -0.5), \n",
    "                      \"inside_outside\"] = \"outside\"\n",
    "\n",
    "inside_outside_df[\"inside_outside\"][2] = \"outside\"\n",
    "inside_outside_df[\"inside_outside\"][5] = \"outside\"\n",
    "inside_outside_df[\"inside_outside\"][10] = \"outside\"\n",
    "inside_outside_df[\"inside_outside\"][16] = \"outside\"\n",
    "inside_outside_df[\"inside_outside\"][23] = \"outside\"\n",
    "inside_outside_df[\"inside_outside\"][25] = \"outside\"\n",
    "inside_outside_df[\"inside_outside\"][31] = \"outside\"\n",
    "inside_outside_df[\"inside_outside\"][34] = \"outside\"\n",
    "# inside_outside_df[\"inside_outside\"][37] = \"outside\"\n",
    "inside_outside_df[\"inside_outside\"][42] = \"outside\"\n",
    "inside_outside_df[\"inside_outside\"][44] = \"outside\"\n",
    "inside_outside_df[\"inside_outside\"][46] = \"outside\"\n",
    "inside_outside_df[\"inside_outside\"][47] = \"outside\"\n",
    "inside_outside_df[\"inside_outside\"][56] = \"outside\"\n",
    "inside_outside_df[\"inside_outside\"][65] = \"outside\"\n",
    "inside_outside_df[\"inside_outside\"][71] = \"outside\"\n",
    "inside_outside_df[\"inside_outside\"][74] = \"outside\"\n",
    "inside_outside_df[\"inside_outside\"][81] = \"outside\"\n",
    "inside_outside_df[\"inside_outside\"][82] = \"outside\"\n",
    "inside_outside_df[\"inside_outside\"][85] = \"outside\"\n",
    "inside_outside_df[\"inside_outside\"][90] = \"outside\"\n",
    "inside_outside_df[\"inside_outside\"][92] = \"outside\""
   ]
  },
  {
   "cell_type": "code",
   "execution_count": 352,
   "id": "automatic-appraisal",
   "metadata": {
    "scrolled": true
   },
   "outputs": [],
   "source": [
    "# inside_outside_df.loc[inside_outside_df[\"inside_outside\"] == \"inside\"]"
   ]
  },
  {
   "cell_type": "code",
   "execution_count": 353,
   "id": "intensive-rings",
   "metadata": {},
   "outputs": [
    {
     "data": {
      "image/png": "[encoded data removed]",
      "text/plain": [
       "<Figure size 576x576 with 1 Axes>"
      ]
     },
     "metadata": {
      "needs_background": "light"
     },
     "output_type": "display_data"
    }
   ],
   "source": [
    "PlotOrderRetraction(morseg, mapg, retract_tiles, retract_indices, morse_nodes_map,\n",
    "                    df_of_interest=inside_outside_df, x=two_weights[0], y=two_weights[1], hue=\"inside_outside\")"
   ]
  },
  {
   "cell_type": "code",
   "execution_count": 358,
   "id": "choice-piece",
   "metadata": {},
   "outputs": [],
   "source": [
    "labeled_weights = pd.merge(weights_8_epochs, inside_outside_df[[\"model_id\", \"inside_outside\"]])"
   ]
  },
  {
   "cell_type": "code",
   "execution_count": 367,
   "id": "statistical-writing",
   "metadata": {},
   "outputs": [],
   "source": [
    "inside_final_weights = labeled_weights.loc[labeled_weights[\"inside_outside\"] == \"inside\"]\n",
    "inside_final_weights = inside_final_weights.loc[inside_final_weights[\"epoch\"] != \"1\"]\n",
    "outside_final_weights = labeled_weights.loc[labeled_weights[\"inside_outside\"] == \"outside\"]\n",
    "outside_final_weights = outside_final_weights.loc[outside_final_weights[\"epoch\"] != \"1\"]"
   ]
  },
  {
   "cell_type": "code",
   "execution_count": 370,
   "id": "accessory-romania",
   "metadata": {},
   "outputs": [
    {
     "data": {
      "text/plain": [
       "(24, 6)"
      ]
     },
     "execution_count": 370,
     "metadata": {},
     "output_type": "execute_result"
    }
   ],
   "source": [
    "inside_final_weights.shape"
   ]
  },
  {
   "cell_type": "code",
   "execution_count": 371,
   "id": "color-budget",
   "metadata": {},
   "outputs": [
    {
     "data": {
      "text/plain": [
       "(76, 6)"
      ]
     },
     "execution_count": 371,
     "metadata": {},
     "output_type": "execute_result"
    }
   ],
   "source": [
    "outside_final_weights.shape"
   ]
  },
  {
   "cell_type": "code",
   "execution_count": 372,
   "id": "elect-eagle",
   "metadata": {},
   "outputs": [
    {
     "data": {
      "text/html": [
       "<div>\n",
       "<style scoped>\n",
       "    .dataframe tbody tr th:only-of-type {\n",
       "        vertical-align: middle;\n",
       "    }\n",
       "\n",
       "    .dataframe tbody tr th {\n",
       "        vertical-align: top;\n",
       "    }\n",
       "\n",
       "    .dataframe thead th {\n",
       "        text-align: right;\n",
       "    }\n",
       "</style>\n",
       "<table border=\"1\" class=\"dataframe\">\n",
       "  <thead>\n",
       "    <tr style=\"text-align: right;\">\n",
       "      <th></th>\n",
       "      <th>model_id</th>\n",
       "      <th>epoch</th>\n",
       "      <th>val_loss</th>\n",
       "      <th>dense_kernel_0_3</th>\n",
       "      <th>dense_kernel_0_13</th>\n",
       "      <th>inside_outside</th>\n",
       "    </tr>\n",
       "  </thead>\n",
       "  <tbody>\n",
       "    <tr>\n",
       "      <th>0</th>\n",
       "      <td>model.68</td>\n",
       "      <td>7</td>\n",
       "      <td>61.67</td>\n",
       "      <td>1.097388</td>\n",
       "      <td>-2.063008</td>\n",
       "      <td>outside</td>\n",
       "    </tr>\n",
       "    <tr>\n",
       "      <th>3</th>\n",
       "      <td>model.58</td>\n",
       "      <td>7</td>\n",
       "      <td>173.70</td>\n",
       "      <td>-2.161798</td>\n",
       "      <td>0.206753</td>\n",
       "      <td>outside</td>\n",
       "    </tr>\n",
       "    <tr>\n",
       "      <th>7</th>\n",
       "      <td>model.50</td>\n",
       "      <td>7</td>\n",
       "      <td>5.04</td>\n",
       "      <td>-0.377799</td>\n",
       "      <td>0.052948</td>\n",
       "      <td>outside</td>\n",
       "    </tr>\n",
       "    <tr>\n",
       "      <th>9</th>\n",
       "      <td>model.81</td>\n",
       "      <td>7</td>\n",
       "      <td>1.09</td>\n",
       "      <td>0.670176</td>\n",
       "      <td>0.156026</td>\n",
       "      <td>outside</td>\n",
       "    </tr>\n",
       "    <tr>\n",
       "      <th>11</th>\n",
       "      <td>model.86</td>\n",
       "      <td>7</td>\n",
       "      <td>7.83</td>\n",
       "      <td>-1.130806</td>\n",
       "      <td>-1.151775</td>\n",
       "      <td>outside</td>\n",
       "    </tr>\n",
       "    <tr>\n",
       "      <th>...</th>\n",
       "      <td>...</td>\n",
       "      <td>...</td>\n",
       "      <td>...</td>\n",
       "      <td>...</td>\n",
       "      <td>...</td>\n",
       "      <td>...</td>\n",
       "    </tr>\n",
       "    <tr>\n",
       "      <th>186</th>\n",
       "      <td>model.57</td>\n",
       "      <td>7</td>\n",
       "      <td>42.38</td>\n",
       "      <td>-0.433933</td>\n",
       "      <td>0.305967</td>\n",
       "      <td>outside</td>\n",
       "    </tr>\n",
       "    <tr>\n",
       "      <th>190</th>\n",
       "      <td>model.44</td>\n",
       "      <td>7</td>\n",
       "      <td>6.76</td>\n",
       "      <td>0.462790</td>\n",
       "      <td>-1.267280</td>\n",
       "      <td>outside</td>\n",
       "    </tr>\n",
       "    <tr>\n",
       "      <th>192</th>\n",
       "      <td>model.77</td>\n",
       "      <td>7</td>\n",
       "      <td>34.43</td>\n",
       "      <td>0.134614</td>\n",
       "      <td>0.268493</td>\n",
       "      <td>outside</td>\n",
       "    </tr>\n",
       "    <tr>\n",
       "      <th>195</th>\n",
       "      <td>model.62</td>\n",
       "      <td>7</td>\n",
       "      <td>16.83</td>\n",
       "      <td>1.546667</td>\n",
       "      <td>-1.727477</td>\n",
       "      <td>outside</td>\n",
       "    </tr>\n",
       "    <tr>\n",
       "      <th>197</th>\n",
       "      <td>model.79</td>\n",
       "      <td>7</td>\n",
       "      <td>56.06</td>\n",
       "      <td>1.280522</td>\n",
       "      <td>-2.514578</td>\n",
       "      <td>outside</td>\n",
       "    </tr>\n",
       "  </tbody>\n",
       "</table>\n",
       "<p>76 rows × 6 columns</p>\n",
       "</div>"
      ],
      "text/plain": [
       "     model_id epoch val_loss  dense_kernel_0_3  dense_kernel_0_13  \\\n",
       "0    model.68     7    61.67          1.097388          -2.063008   \n",
       "3    model.58     7   173.70         -2.161798           0.206753   \n",
       "7    model.50     7     5.04         -0.377799           0.052948   \n",
       "9    model.81     7     1.09          0.670176           0.156026   \n",
       "11   model.86     7     7.83         -1.130806          -1.151775   \n",
       "..        ...   ...      ...               ...                ...   \n",
       "186  model.57     7    42.38         -0.433933           0.305967   \n",
       "190  model.44     7     6.76          0.462790          -1.267280   \n",
       "192  model.77     7    34.43          0.134614           0.268493   \n",
       "195  model.62     7    16.83          1.546667          -1.727477   \n",
       "197  model.79     7    56.06          1.280522          -2.514578   \n",
       "\n",
       "    inside_outside  \n",
       "0          outside  \n",
       "3          outside  \n",
       "7          outside  \n",
       "9          outside  \n",
       "11         outside  \n",
       "..             ...  \n",
       "186        outside  \n",
       "190        outside  \n",
       "192        outside  \n",
       "195        outside  \n",
       "197        outside  \n",
       "\n",
       "[76 rows x 6 columns]"
      ]
     },
     "execution_count": 372,
     "metadata": {},
     "output_type": "execute_result"
    }
   ],
   "source": [
    "outside_final_weights"
   ]
  },
  {
   "cell_type": "code",
   "execution_count": 404,
   "id": "legal-cosmetic",
   "metadata": {},
   "outputs": [],
   "source": [
    "inside_preds = pd.merge(preds, inside_outside_df[[\"model_id\", \"inside_outside\"]], \n",
    "                        left_on=\"model\", right_on=\"model_id\").drop(columns=\"model_id\")\n",
    "outside_preds = pd.merge(preds, inside_outside_df[[\"model_id\", \"inside_outside\"]], \n",
    "                         left_on=\"model\", right_on=\"model_id\").drop(columns=\"model_id\")\n",
    "inside_preds = inside_preds.loc[inside_preds[\"inside_outside\"] == \"inside\"]\n",
    "outside_preds = outside_preds.loc[outside_preds[\"inside_outside\"] == \"outside\"]"
   ]
  },
  {
   "cell_type": "code",
   "execution_count": null,
   "id": "spiritual-measure",
   "metadata": {},
   "outputs": [],
   "source": []
  },
  {
   "cell_type": "code",
   "execution_count": 430,
   "id": "earlier-mainland",
   "metadata": {},
   "outputs": [],
   "source": [
    "inside_entropies = inside_preds.groupby(\"point\", as_index=False).agg({\"p0\": np.mean, \"p1\": np.mean})\n",
    "inside_entropies[\"entropy\"] = inside_entropies.apply(lambda x: entropy([x[\"p0\"], x[\"p1\"]]), axis=1)\n",
    "\n",
    "outside_entropies = outside_preds.groupby(\"point\", as_index=False).agg({\"p0\": np.mean, \"p1\": np.mean})\n",
    "outside_entropies[\"entropy\"] = outside_entropies.apply(lambda x: entropy([x[\"p0\"], x[\"p1\"]]), axis=1)\n",
    "\n",
    "inside_entropies[\"Models\"] = \"Blue\"\n",
    "outside_entropies[\"Models\"] = \"Green\"\n",
    "mnist_entropies[\"Models\"] = \"All\""
   ]
  },
  {
   "cell_type": "code",
   "execution_count": 431,
   "id": "latter-table",
   "metadata": {},
   "outputs": [],
   "source": [
    "all_entropies = pd.concat([mnist_entropies, inside_entropies, outside_entropies])"
   ]
  },
  {
   "cell_type": "code",
   "execution_count": 449,
   "id": "sporting-discrimination",
   "metadata": {},
   "outputs": [
    {
     "data": {
      "image/png": "[encoded data removed]",
      "text/plain": [
       "<Figure size 504x504 with 1 Axes>"
      ]
     },
     "metadata": {
      "needs_background": "light"
     },
     "output_type": "display_data"
    }
   ],
   "source": [
    "hex_vals = sns.color_palette(\"Set2\").as_hex()\n",
    "plt.figure(figsize=(7, 7))\n",
    "sns.violinplot(data=all_entropies, y=\"entropy\", x=\"Models\", \n",
    "               palette=sns.color_palette([hex_vals[1], hex_vals[2], hex_vals[4]]))\n",
    "plt.ylabel(\"Entropies of Predicted Probabilities\")\n",
    "\n",
    "\n",
    "SMALL_SIZE = 18\n",
    "MEDIUM_SIZE = 18\n",
    "BIGGER_SIZE = 20\n",
    "\n",
    "plt.rc('font', size=SMALL_SIZE)          # controls default text sizes\n",
    "plt.rc('axes', titlesize=SMALL_SIZE)     # fontsize of the axes title\n",
    "plt.rc('axes', labelsize=MEDIUM_SIZE)    # fontsize of the x and y labels\n",
    "plt.rc('xtick', labelsize=SMALL_SIZE)    # fontsize of the tick labels\n",
    "plt.rc('ytick', labelsize=SMALL_SIZE)    # fontsize of the tick labels\n",
    "plt.rc('legend', fontsize=SMALL_SIZE)    # legend fontsize\n",
    "plt.rc('figure', titlesize=BIGGER_SIZE)  # fontsize of the figure title"
   ]
  },
  {
   "cell_type": "code",
   "execution_count": 451,
   "id": "lesbian-conflict",
   "metadata": {},
   "outputs": [],
   "source": [
    "mnist_accuracies = preds.groupby(\"model\", as_index=False\n",
    "                                          ).apply(lambda x: balanced_accuracy_score(x[\"pred_class\"], \n",
    "                                                                                    x[\"real_class\"]))\n",
    "mnist_accuracies = mnist_accuracies.reset_index(drop=True).rename(columns={None: \"mean_balanced_accuracy\"})"
   ]
  },
  {
   "cell_type": "code",
   "execution_count": 453,
   "id": "southern-command",
   "metadata": {},
   "outputs": [],
   "source": [
    "inside_accuracies = inside_preds.groupby(\"model\", as_index=False\n",
    "                                          ).apply(lambda x: balanced_accuracy_score(x[\"pred_class\"], \n",
    "                                                                                    x[\"real_class\"]))\n",
    "inside_accuracies = inside_accuracies.reset_index(drop=True).rename(columns={None: \"mean_balanced_accuracy\"})"
   ]
  },
  {
   "cell_type": "code",
   "execution_count": 454,
   "id": "behavioral-bundle",
   "metadata": {},
   "outputs": [],
   "source": [
    "outside_accuracies = outside_preds.groupby(\"model\", as_index=False\n",
    "                                          ).apply(lambda x: balanced_accuracy_score(x[\"pred_class\"], \n",
    "                                                                                    x[\"real_class\"]))\n",
    "outside_accuracies = outside_accuracies.reset_index(drop=True).rename(columns={None: \"mean_balanced_accuracy\"})"
   ]
  },
  {
   "cell_type": "code",
   "execution_count": 455,
   "id": "lined-actor",
   "metadata": {},
   "outputs": [],
   "source": [
    "inside_accuracies[\"Models\"] = \"Blue\"\n",
    "outside_accuracies[\"Models\"] = \"Green\"\n",
    "mnist_accuracies[\"Models\"] = \"All\"\n",
    "\n",
    "all_accuracies = pd.concat([mnist_accuracies, inside_accuracies, outside_accuracies])"
   ]
  },
  {
   "cell_type": "code",
   "execution_count": 462,
   "id": "cultural-appearance",
   "metadata": {},
   "outputs": [
    {
     "data": {
      "image/png": "[encoded data removed]",
      "text/plain": [
       "<Figure size 504x504 with 1 Axes>"
      ]
     },
     "metadata": {
      "needs_background": "light"
     },
     "output_type": "display_data"
    }
   ],
   "source": [
    "hex_vals = sns.color_palette(\"Set2\").as_hex()\n",
    "plt.figure(figsize=(7, 7))\n",
    "sns.violinplot(data=all_accuracies, y=\"mean_balanced_accuracy\", x=\"Models\", \n",
    "               palette=sns.color_palette([hex_vals[1], hex_vals[2], hex_vals[4]]))\n",
    "plt.ylabel(\"Balanced Accuracy\")\n",
    "\n",
    "\n",
    "SMALL_SIZE = 18\n",
    "MEDIUM_SIZE = 18\n",
    "BIGGER_SIZE = 20\n",
    "\n",
    "plt.rc('font', size=SMALL_SIZE)          # controls default text sizes\n",
    "plt.rc('axes', titlesize=SMALL_SIZE)     # fontsize of the axes title\n",
    "plt.rc('axes', labelsize=MEDIUM_SIZE)    # fontsize of the x and y labels\n",
    "plt.rc('xtick', labelsize=SMALL_SIZE)    # fontsize of the tick labels\n",
    "plt.rc('ytick', labelsize=SMALL_SIZE)    # fontsize of the tick labels\n",
    "plt.rc('legend', fontsize=SMALL_SIZE)    # legend fontsize\n",
    "plt.rc('figure', titlesize=BIGGER_SIZE)  # fontsize of the figure title"
   ]
  },
  {
   "cell_type": "code",
   "execution_count": 460,
   "id": "preceding-playing",
   "metadata": {},
   "outputs": [
    {
     "data": {
      "text/plain": [
       "(100, 3)"
      ]
     },
     "execution_count": 460,
     "metadata": {},
     "output_type": "execute_result"
    }
   ],
   "source": [
    "mnist_accuracies.shape"
   ]
  },
  {
   "cell_type": "code",
   "execution_count": 461,
   "id": "stuffed-blackjack",
   "metadata": {},
   "outputs": [
    {
     "data": {
      "text/plain": [
       "(76, 3)"
      ]
     },
     "execution_count": 461,
     "metadata": {},
     "output_type": "execute_result"
    }
   ],
   "source": [
    "outside_accuracies.shape"
   ]
  },
  {
   "cell_type": "code",
   "execution_count": null,
   "id": "annoying-boost",
   "metadata": {},
   "outputs": [],
   "source": []
  }
 ],
 "metadata": {
  "kernelspec": {
   "display_name": "Python [conda env:deep_chaos] *",
   "language": "python",
   "name": "conda-env-deep_chaos-py"
  },
  "language_info": {
   "codemirror_mode": {
    "name": "ipython",
    "version": 3
   },
   "file_extension": ".py",
   "mimetype": "text/x-python",
   "name": "python",
   "nbconvert_exporter": "python",
   "pygments_lexer": "ipython3",
   "version": "3.6.12"
  }
 },
 "nbformat": 4,
 "nbformat_minor": 5
}
