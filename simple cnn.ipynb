{
 "cells": [
  {
   "cell_type": "markdown",
   "metadata": {
    "toc": true
   },
   "source": [
    "<h1>Table of Contents<span class=\"tocSkip\"></span></h1>\n",
    "<div class=\"toc\"><ul class=\"toc-item\"></ul></div>"
   ]
  },
  {
   "cell_type": "code",
   "execution_count": 1,
   "metadata": {},
   "outputs": [
    {
     "name": "stdout",
     "output_type": "stream",
     "text": [
      "x_train shape: (60000, 28, 28, 1)\n",
      "60000 train samples\n",
      "10000 test samples\n"
     ]
    }
   ],
   "source": [
    "import keras\n",
    "from keras.datasets import mnist\n",
    "from keras.models import Sequential\n",
    "from keras.layers import Dense, Dropout, Flatten\n",
    "from keras.layers import Conv2D, MaxPooling2D\n",
    "import numpy as np\n",
    "import pandas as pd\n",
    "%load_ext autoreload\n",
    "%autoreload 2\n",
    "\n",
    "batch_size = 128\n",
    "epochs = 12\n",
    "\n",
    "# input image dimensions\n",
    "img_rows, img_cols = 28, 28\n",
    "\n",
    "# the data, split between train and test sets\n",
    "(x_train, y_train), (x_test, y_test) = mnist.load_data()\n",
    "\n",
    "x_train = x_train.reshape(60000,28,28,1)\n",
    "x_test = x_test.reshape(10000,28,28,1)\n",
    "\n",
    "print('x_train shape:', x_train.shape)\n",
    "print(x_train.shape[0], 'train samples')\n",
    "print(x_test.shape[0], 'test samples')\n",
    "\n",
    "\n",
    "def remove_numbers(x,y,list_of_numbers_to_keep):\n",
    "    y_df = pd.DataFrame(y,columns=['Label'])\n",
    "    y_df = y_df[y_df['Label'].apply(str).isin(list_of_numbers_to_keep)]\n",
    "    x = x[y_df.index,:,:,:]\n",
    "    y = y_df.to_numpy()\n",
    "    return x,y.flatten()\n",
    "\n",
    "num_to_keep = ['0','1']\n",
    "num_classes = len(num_to_keep)\n",
    "x_train,y_train = remove_numbers(x_train,y_train,num_to_keep)\n",
    "x_test,y_test = remove_numbers(x_test,y_test,num_to_keep)\n",
    "\n",
    "# # convert class vectors to binary class matrices\n",
    "y_train = keras.utils.to_categorical(y_train, num_classes)\n",
    "y_test = keras.utils.to_categorical(y_test, num_classes)\n",
    "    "
   ]
  },
  {
   "cell_type": "code",
   "execution_count": 101,
   "metadata": {},
   "outputs": [
    {
     "name": "stdout",
     "output_type": "stream",
     "text": [
      "Model: \"test\"\n",
      "_________________________________________________________________\n",
      "Layer (type)                 Output Shape              Param #   \n",
      "=================================================================\n",
      "conv2d (Conv2D)              (None, 26, 26, 2)         20        \n",
      "_________________________________________________________________\n",
      "max_pooling2d (MaxPooling2D) (None, 3, 3, 2)           0         \n",
      "_________________________________________________________________\n",
      "dropout (Dropout)            (None, 3, 3, 2)           0         \n",
      "_________________________________________________________________\n",
      "flatten (Flatten)            (None, 18)                0         \n",
      "_________________________________________________________________\n",
      "dense (Dense)                (None, 2)                 38        \n",
      "=================================================================\n",
      "Total params: 58\n",
      "Trainable params: 58\n",
      "Non-trainable params: 0\n",
      "_________________________________________________________________\n"
     ]
    }
   ],
   "source": [
    "def baseline_model(name,num_classes=2):\n",
    "    model = Sequential(name=name)\n",
    "    model.add(Conv2D(2, kernel_size=(3, 3),\n",
    "                     activation='relu',\n",
    "                     input_shape=(28,28,1)))\n",
    "    model.add(MaxPooling2D(pool_size=(7, 7)))\n",
    "    model.add(Dropout(0.25))\n",
    "    model.add(Flatten())\n",
    "    model.add(Dense(num_classes, activation='softmax'))\n",
    "    model.compile(loss='categorical_crossentropy', optimizer='adam', metrics=['accuracy'])\n",
    "    return model\n",
    "\n",
    "baseline_model('test').summary()\n",
    "\n",
    "## Original model before pruning\n",
    "# model = Sequential()\n",
    "# model.add(Conv2D(32, kernel_size=(3, 3),\n",
    "#                  activation='relu',\n",
    "#                  input_shape=(28,28,1)))\n",
    "# model.add(Conv2D(64, (3, 3), activation='relu'))\n",
    "# model.add(MaxPooling2D(pool_size=(2, 2)))\n",
    "# model.add(Dropout(0.25))\n",
    "# model.add(Flatten())\n",
    "# model.add(Dense(128, activation='relu'))\n",
    "# model.add(Dropout(0.5))\n",
    "# model.add(Dense(10, activation='softmax'))\n",
    "# model.compile(loss='categorical_crossentropy', optimizer='adam', metrics=['accuracy'])\n",
    "# model.summary()"
   ]
  },
  {
   "cell_type": "code",
   "execution_count": 102,
   "metadata": {},
   "outputs": [],
   "source": [
    "import random\n",
    "rand_numbers = random.sample(range(0, 1000), 100)\n",
    "rand_numbers\n",
    "x_test2 = x_test[rand_numbers,:,:,:]\n",
    "y_test2 = y_test[rand_numbers,:]"
   ]
  },
  {
   "cell_type": "code",
   "execution_count": 103,
   "metadata": {},
   "outputs": [],
   "source": [
    "from utils import *"
   ]
  },
  {
   "cell_type": "code",
   "execution_count": 110,
   "metadata": {},
   "outputs": [
    {
     "name": "stdout",
     "output_type": "stream",
     "text": [
      "Train: (12665, 28, 28, 1) (12665, 2)\n",
      "Test: (100, 28, 28, 1) (100, 2)\n",
      "model.0\n",
      "Saving model.0 epoch 1 ./data/tmp_cnn/model.0-1-2.68.hdf5\n",
      "Saving model.0 epoch 4 ./data/tmp_cnn/model.0-4-0.21.hdf5\n",
      "model.1\n",
      "Saving model.1 epoch 1 ./data/tmp_cnn/model.1-1-13.67.hdf5\n",
      "Saving model.1 epoch 4 ./data/tmp_cnn/model.1-4-1.34.hdf5\n",
      "model.2\n",
      "Saving model.2 epoch 1 ./data/tmp_cnn/model.2-1-3.41.hdf5\n",
      "Saving model.2 epoch 4 ./data/tmp_cnn/model.2-4-2.08.hdf5\n",
      "model.3\n",
      "Saving model.3 epoch 1 ./data/tmp_cnn/model.3-1-2.39.hdf5\n",
      "Saving model.3 epoch 4 ./data/tmp_cnn/model.3-4-0.27.hdf5\n",
      "model.4\n",
      "Saving model.4 epoch 1 ./data/tmp_cnn/model.4-1-2.91.hdf5\n",
      "Saving model.4 epoch 4 ./data/tmp_cnn/model.4-4-1.26.hdf5\n",
      "model.5\n",
      "Saving model.5 epoch 1 ./data/tmp_cnn/model.5-1-1.37.hdf5\n",
      "Saving model.5 epoch 4 ./data/tmp_cnn/model.5-4-0.60.hdf5\n",
      "model.6\n",
      "Saving model.6 epoch 1 ./data/tmp_cnn/model.6-1-9.54.hdf5\n",
      "Saving model.6 epoch 4 ./data/tmp_cnn/model.6-4-2.02.hdf5\n",
      "model.7\n",
      "Saving model.7 epoch 1 ./data/tmp_cnn/model.7-1-10.50.hdf5\n",
      "Saving model.7 epoch 4 ./data/tmp_cnn/model.7-4-0.50.hdf5\n",
      "model.8\n",
      "Saving model.8 epoch 1 ./data/tmp_cnn/model.8-1-1.57.hdf5\n",
      "Saving model.8 epoch 4 ./data/tmp_cnn/model.8-4-0.40.hdf5\n",
      "model.9\n",
      "Saving model.9 epoch 1 ./data/tmp_cnn/model.9-1-5.56.hdf5\n",
      "Saving model.9 epoch 4 ./data/tmp_cnn/model.9-4-2.67.hdf5\n",
      "model.10\n",
      "Saving model.10 epoch 1 ./data/tmp_cnn/model.10-1-12.64.hdf5\n",
      "Saving model.10 epoch 4 ./data/tmp_cnn/model.10-4-2.14.hdf5\n",
      "model.11\n",
      "Saving model.11 epoch 1 ./data/tmp_cnn/model.11-1-1.11.hdf5\n",
      "Saving model.11 epoch 4 ./data/tmp_cnn/model.11-4-0.12.hdf5\n",
      "model.12\n",
      "Saving model.12 epoch 1 ./data/tmp_cnn/model.12-1-0.55.hdf5\n",
      "Saving model.12 epoch 4 ./data/tmp_cnn/model.12-4-0.52.hdf5\n",
      "model.13\n",
      "Saving model.13 epoch 1 ./data/tmp_cnn/model.13-1-5.40.hdf5\n",
      "Saving model.13 epoch 4 ./data/tmp_cnn/model.13-4-1.47.hdf5\n",
      "model.14\n",
      "Saving model.14 epoch 1 ./data/tmp_cnn/model.14-1-3.28.hdf5\n",
      "Saving model.14 epoch 4 ./data/tmp_cnn/model.14-4-1.22.hdf5\n",
      "model.15\n",
      "Saving model.15 epoch 1 ./data/tmp_cnn/model.15-1-2.50.hdf5\n",
      "Saving model.15 epoch 4 ./data/tmp_cnn/model.15-4-0.62.hdf5\n",
      "model.16\n",
      "Saving model.16 epoch 1 ./data/tmp_cnn/model.16-1-2.21.hdf5\n",
      "Saving model.16 epoch 4 ./data/tmp_cnn/model.16-4-1.25.hdf5\n",
      "model.17\n",
      "Saving model.17 epoch 1 ./data/tmp_cnn/model.17-1-1.88.hdf5\n",
      "Saving model.17 epoch 4 ./data/tmp_cnn/model.17-4-0.44.hdf5\n",
      "model.18\n",
      "Saving model.18 epoch 1 ./data/tmp_cnn/model.18-1-0.72.hdf5\n",
      "Saving model.18 epoch 4 ./data/tmp_cnn/model.18-4-0.42.hdf5\n",
      "model.19\n",
      "Saving model.19 epoch 1 ./data/tmp_cnn/model.19-1-2.40.hdf5\n",
      "Saving model.19 epoch 4 ./data/tmp_cnn/model.19-4-0.46.hdf5\n",
      "appending dataframe\n"
     ]
    }
   ],
   "source": [
    "train_model_iteratively(baseline_model,x_train,y_train,x_test2,y_test2,'./data/tmp_cnn',epochs=5)"
   ]
  },
  {
   "cell_type": "code",
   "execution_count": null,
   "metadata": {},
   "outputs": [],
   "source": [
    "yDF = pd.DataFrame(y_test2,columns=['Actual Label 0','Actual Label 1'])\n",
    "yDF['point']=range(100)\n",
    "y_pred = pd.read_csv('./data/tmp_cnn/predictions.csv')\n",
    "y_pred.rename({y_pred.columns[0]:'point'},axis=1,inplace=True)\n",
    "y_pred2 = pd.merge(yDF,y_pred,left_on='point',right_on='point')\n",
    "y_pred2.to_csv('./data/tmp_cnn/predictions2.csv')"
   ]
  },
  {
   "cell_type": "code",
   "execution_count": null,
   "metadata": {},
   "outputs": [],
   "source": []
  },
  {
   "cell_type": "code",
   "execution_count": 111,
   "metadata": {},
   "outputs": [
    {
     "name": "stdout",
     "output_type": "stream",
     "text": [
      "model.10-1-0.57.hdf5\n",
      "model.16-1-2.21.hdf5\n",
      "model.6-4-2.02.hdf5\n",
      "model.12-1-0.55.hdf5\n",
      "model.18-1-0.72.hdf5\n",
      "model.14-1-0.12.hdf5\n",
      "model.1-1-1.90.hdf5\n",
      "model.4-4-1.26.hdf5\n",
      "model.15-1-1.98.hdf5\n",
      "model.16-4-1.25.hdf5\n",
      "model.0-1-3.27.hdf5\n",
      "model.5-1-1.37.hdf5\n",
      "model.15-1-2.50.hdf5\n",
      "model.15-4-0.62.hdf5\n",
      "model.19-1-0.10.hdf5\n",
      "model.19-1-2.40.hdf5\n",
      "model.4-1-2.91.hdf5\n",
      "model.10-4-2.14.hdf5\n",
      "model.14-1-3.28.hdf5\n",
      "model.2-1-1.53.hdf5\n",
      "model.13-1-2.46.hdf5\n",
      "model.4-1-1.80.hdf5\n",
      "model.7-4-0.50.hdf5\n",
      "model.8-4-0.40.hdf5\n",
      "model.12-4-0.52.hdf5\n",
      "model.14-4-1.22.hdf5\n",
      "model.17-1-1.88.hdf5\n",
      "model.3-1-5.16.hdf5\n",
      "model.8-1-1.57.hdf5\n",
      "model.19-4-0.46.hdf5\n",
      "model.2-1-3.41.hdf5\n",
      "model.6-1-9.54.hdf5\n",
      "model.1-1-13.67.hdf5\n",
      "model.11-1-0.77.hdf5\n",
      "model.6-1-1.59.hdf5\n",
      "model.9-1-0.29.hdf5\n",
      "model.17-4-0.44.hdf5\n",
      "model.1-4-1.34.hdf5\n",
      "model.13-1-5.40.hdf5\n",
      "model.10-1-12.64.hdf5\n",
      "model.5-1-0.73.hdf5\n",
      "model.18-4-0.42.hdf5\n",
      "model.12-1-3.10.hdf5\n",
      "model.0-1-2.68.hdf5\n",
      "model.11-4-0.12.hdf5\n",
      "model.17-1-1.57.hdf5\n",
      "model.2-4-2.08.hdf5\n",
      "model.16-1-2.74.hdf5\n",
      "model.0-4-0.21.hdf5\n",
      "model.9-4-2.67.hdf5\n",
      "model.9-1-5.56.hdf5\n",
      "model.8-1-2.99.hdf5\n",
      "model.3-4-0.27.hdf5\n",
      "model.11-1-1.11.hdf5\n",
      "model.3-1-2.39.hdf5\n",
      "model.7-1-4.38.hdf5\n",
      "model.18-1-2.01.hdf5\n",
      "model.7-1-10.50.hdf5\n",
      "model.5-4-0.60.hdf5\n",
      "model.13-4-1.47.hdf5\n"
     ]
    }
   ],
   "source": [
    "model_weights=get_model_weights('./data/tmp_cnn')"
   ]
  },
  {
   "cell_type": "code",
   "execution_count": 112,
   "metadata": {},
   "outputs": [
    {
     "data": {
      "text/plain": [
       "(18,)"
      ]
     },
     "execution_count": 112,
     "metadata": {},
     "output_type": "execute_result"
    }
   ],
   "source": [
    "model_weights[list(model_weights.keys())[0]]['conv_kernel_0'].flatten().shape"
   ]
  },
  {
   "cell_type": "code",
   "execution_count": 113,
   "metadata": {},
   "outputs": [
    {
     "data": {
      "text/plain": [
       "(3, 3, 1, 2)"
      ]
     },
     "execution_count": 113,
     "metadata": {},
     "output_type": "execute_result"
    }
   ],
   "source": [
    "model_weights[list(model_weights.keys())[0]]['conv_kernel_0'].shape"
   ]
  },
  {
   "cell_type": "code",
   "execution_count": 115,
   "metadata": {},
   "outputs": [
    {
     "data": {
      "text/plain": [
       "'1'"
      ]
     },
     "execution_count": 115,
     "metadata": {},
     "output_type": "execute_result"
    }
   ],
   "source": [
    "convert_weight_dict_to_dataframe(model_weights)['epoch'].min()"
   ]
  },
  {
   "cell_type": "code",
   "execution_count": 90,
   "metadata": {},
   "outputs": [],
   "source": [
    "df = pd.read_csv('/Users/meslami/Downloads/experiment.ginkgo.42587_ReadCountMatrix_preCAD_FPKM_transposed.csv')"
   ]
  },
  {
   "cell_type": "code",
   "execution_count": 92,
   "metadata": {},
   "outputs": [],
   "source": [
    "df2 = df[(df['QC_gcorr_BOOL']==True)&(df['QC_nmap_BOOL']==True)]"
   ]
  },
  {
   "cell_type": "code",
   "execution_count": 96,
   "metadata": {},
   "outputs": [],
   "source": [
    "df3 = pd.DataFrame(df2[['Timepoint','IPTG','Strain']].value_counts(),columns=['cnt'])"
   ]
  },
  {
   "cell_type": "code",
   "execution_count": 98,
   "metadata": {},
   "outputs": [
    {
     "data": {
      "text/html": [
       "<div>\n",
       "<style scoped>\n",
       "    .dataframe tbody tr th:only-of-type {\n",
       "        vertical-align: middle;\n",
       "    }\n",
       "\n",
       "    .dataframe tbody tr th {\n",
       "        vertical-align: top;\n",
       "    }\n",
       "\n",
       "    .dataframe thead th {\n",
       "        text-align: right;\n",
       "    }\n",
       "</style>\n",
       "<table border=\"1\" class=\"dataframe\">\n",
       "  <thead>\n",
       "    <tr style=\"text-align: right;\">\n",
       "      <th></th>\n",
       "      <th></th>\n",
       "      <th></th>\n",
       "      <th>cnt</th>\n",
       "    </tr>\n",
       "    <tr>\n",
       "      <th>Timepoint</th>\n",
       "      <th>IPTG</th>\n",
       "      <th>Strain</th>\n",
       "      <th></th>\n",
       "    </tr>\n",
       "  </thead>\n",
       "  <tbody>\n",
       "    <tr>\n",
       "      <th>23.0</th>\n",
       "      <th>0.000</th>\n",
       "      <th>EcN_NOTgate_AmeR</th>\n",
       "      <td>4</td>\n",
       "    </tr>\n",
       "    <tr>\n",
       "      <th>24.5</th>\n",
       "      <th>0.001</th>\n",
       "      <th>EcN_NOTgate_AmeR</th>\n",
       "      <td>4</td>\n",
       "    </tr>\n",
       "    <tr>\n",
       "      <th rowspan=\"2\" valign=\"top\">23.0</th>\n",
       "      <th rowspan=\"2\" valign=\"top\">0.001</th>\n",
       "      <th>EcN_SensorArrayOnly</th>\n",
       "      <td>4</td>\n",
       "    </tr>\n",
       "    <tr>\n",
       "      <th>EcN_NOTgate_LitR</th>\n",
       "      <td>4</td>\n",
       "    </tr>\n",
       "    <tr>\n",
       "      <th>36.0</th>\n",
       "      <th>0.000</th>\n",
       "      <th>EcN_NOTgate_BM3R1</th>\n",
       "      <td>4</td>\n",
       "    </tr>\n",
       "    <tr>\n",
       "      <th>...</th>\n",
       "      <th>...</th>\n",
       "      <th>...</th>\n",
       "      <td>...</td>\n",
       "    </tr>\n",
       "    <tr>\n",
       "      <th>37.5</th>\n",
       "      <th>0.000</th>\n",
       "      <th>EcN_NOTgate_AmeR</th>\n",
       "      <td>2</td>\n",
       "    </tr>\n",
       "    <tr>\n",
       "      <th rowspan=\"2\" valign=\"top\">36.0</th>\n",
       "      <th rowspan=\"2\" valign=\"top\">0.001</th>\n",
       "      <th>EcN_SensorArrayOnly</th>\n",
       "      <td>2</td>\n",
       "    </tr>\n",
       "    <tr>\n",
       "      <th>EcN_NOTgate_BetI</th>\n",
       "      <td>2</td>\n",
       "    </tr>\n",
       "    <tr>\n",
       "      <th>24.5</th>\n",
       "      <th>0.001</th>\n",
       "      <th>EcN_NOTgate_HlyIIR</th>\n",
       "      <td>2</td>\n",
       "    </tr>\n",
       "    <tr>\n",
       "      <th>36.0</th>\n",
       "      <th>0.000</th>\n",
       "      <th>EcN_NOTgate_BetI</th>\n",
       "      <td>2</td>\n",
       "    </tr>\n",
       "  </tbody>\n",
       "</table>\n",
       "<p>69 rows × 1 columns</p>\n",
       "</div>"
      ],
      "text/plain": [
       "                                     cnt\n",
       "Timepoint IPTG  Strain                  \n",
       "23.0      0.000 EcN_NOTgate_AmeR       4\n",
       "24.5      0.001 EcN_NOTgate_AmeR       4\n",
       "23.0      0.001 EcN_SensorArrayOnly    4\n",
       "                EcN_NOTgate_LitR       4\n",
       "36.0      0.000 EcN_NOTgate_BM3R1      4\n",
       "...                                  ...\n",
       "37.5      0.000 EcN_NOTgate_AmeR       2\n",
       "36.0      0.001 EcN_SensorArrayOnly    2\n",
       "                EcN_NOTgate_BetI       2\n",
       "24.5      0.001 EcN_NOTgate_HlyIIR     2\n",
       "36.0      0.000 EcN_NOTgate_BetI       2\n",
       "\n",
       "[69 rows x 1 columns]"
      ]
     },
     "execution_count": 98,
     "metadata": {},
     "output_type": "execute_result"
    }
   ],
   "source": [
    "df3[df3['cnt']>1]"
   ]
  },
  {
   "cell_type": "code",
   "execution_count": 99,
   "metadata": {},
   "outputs": [
    {
     "data": {
      "text/plain": [
       "Timepoint  IPTG   Strain                    \n",
       "37.5       0.001  Escherichia_coli_Nissle_WT    4\n",
       "                  EcN_SensorArrayOnly           4\n",
       "24.5       0.000  EcN_NOTgate_AmtR              4\n",
       "                  EcN_NOTgate_BM3R1             4\n",
       "                  EcN_NOTgate_BetI              4\n",
       "                                               ..\n",
       "36.0       0.001  EcN_NOTgate_LitR              4\n",
       "                  EcN_NOTgate_PhlF              4\n",
       "                  EcN_NOTgate_PsrA              4\n",
       "                  EcN_NOTgate_QacR              4\n",
       "23.0       0.000  EcN_NOTgate_AmeR              4\n",
       "Length: 96, dtype: int64"
      ]
     },
     "execution_count": 99,
     "metadata": {},
     "output_type": "execute_result"
    }
   ],
   "source": [
    "df[['Timepoint','IPTG','Strain']].value_counts()"
   ]
  },
  {
   "cell_type": "code",
   "execution_count": null,
   "metadata": {},
   "outputs": [],
   "source": []
  }
 ],
 "metadata": {
  "kernelspec": {
   "display_name": "Python 3",
   "language": "python",
   "name": "python3"
  },
  "language_info": {
   "codemirror_mode": {
    "name": "ipython",
    "version": 3
   },
   "file_extension": ".py",
   "mimetype": "text/x-python",
   "name": "python",
   "nbconvert_exporter": "python",
   "pygments_lexer": "ipython3",
   "version": "3.6.12"
  },
  "toc": {
   "base_numbering": 1,
   "nav_menu": {},
   "number_sections": true,
   "sideBar": true,
   "skip_h1_title": false,
   "title_cell": "Table of Contents",
   "title_sidebar": "Contents",
   "toc_cell": true,
   "toc_position": {},
   "toc_section_display": true,
   "toc_window_display": false
  }
 },
 "nbformat": 4,
 "nbformat_minor": 2
}
