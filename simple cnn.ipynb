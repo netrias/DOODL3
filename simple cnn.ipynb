{
 "cells": [
  {
   "cell_type": "markdown",
   "metadata": {
    "toc": true
   },
   "source": [
    "<h1>Table of Contents<span class=\"tocSkip\"></span></h1>\n",
    "<div class=\"toc\"><ul class=\"toc-item\"></ul></div>"
   ]
  },
  {
   "cell_type": "code",
   "execution_count": 1,
   "metadata": {},
   "outputs": [
    {
     "name": "stdout",
     "output_type": "stream",
     "text": [
      "x_train shape: (60000, 28, 28, 1)\n",
      "60000 train samples\n",
      "10000 test samples\n"
     ]
    }
   ],
   "source": [
    "import keras\n",
    "from keras.datasets import mnist\n",
    "from keras.models import Sequential\n",
    "from keras.layers import Dense, Dropout, Flatten\n",
    "from keras.layers import Conv2D, MaxPooling2D\n",
    "import numpy as np\n",
    "import pandas as pd\n",
    "%load_ext autoreload\n",
    "%autoreload 2\n",
    "\n",
    "batch_size = 128\n",
    "epochs = 12\n",
    "\n",
    "# input image dimensions\n",
    "img_rows, img_cols = 28, 28\n",
    "\n",
    "# the data, split between train and test sets\n",
    "(x_train, y_train), (x_test, y_test) = mnist.load_data()\n",
    "\n",
    "x_train = x_train.reshape(60000,28,28,1)\n",
    "x_test = x_test.reshape(10000,28,28,1)\n",
    "\n",
    "print('x_train shape:', x_train.shape)\n",
    "print(x_train.shape[0], 'train samples')\n",
    "print(x_test.shape[0], 'test samples')\n",
    "\n",
    "\n",
    "def remove_numbers(x,y,list_of_numbers_to_keep):\n",
    "    y_df = pd.DataFrame(y,columns=['Label'])\n",
    "    y_df = y_df[y_df['Label'].apply(str).isin(list_of_numbers_to_keep)]\n",
    "    x = x[y_df.index,:,:,:]\n",
    "    y = y_df.to_numpy()\n",
    "    return x,y.flatten()\n",
    "\n",
    "num_to_keep = ['0','1']\n",
    "num_classes = len(num_to_keep)\n",
    "x_train,y_train = remove_numbers(x_train,y_train,num_to_keep)\n",
    "x_test,y_test = remove_numbers(x_test,y_test,num_to_keep)\n",
    "\n",
    "# # convert class vectors to binary class matrices\n",
    "y_train = keras.utils.to_categorical(y_train, num_classes)\n",
    "y_test = keras.utils.to_categorical(y_test, num_classes)\n",
    "    "
   ]
  },
  {
   "cell_type": "code",
   "execution_count": null,
   "metadata": {},
   "outputs": [],
   "source": [
    "def baseline_model(name,num_classes=2):\n",
    "    model = Sequential(name=name)\n",
    "    model.add(Conv2D(2, kernel_size=(3, 3),\n",
    "                     activation='relu',\n",
    "                     input_shape=(28,28,1)))\n",
    "    model.add(MaxPooling2D(pool_size=(7, 7)))\n",
    "    model.add(Dropout(0.25))\n",
    "    model.add(Flatten())\n",
    "    model.add(Dense(num_classes, activation='softmax'))\n",
    "    model.compile(loss='categorical_crossentropy', optimizer='adam', metrics=['accuracy'])\n",
    "    return model\n",
    "\n",
    "baseline_model('test').summary()\n",
    "\n",
    "# model = Sequential()\n",
    "# model.add(Conv2D(32, kernel_size=(3, 3),\n",
    "#                  activation='relu',\n",
    "#                  input_shape=(28,28,1)))\n",
    "# model.add(Conv2D(64, (3, 3), activation='relu'))\n",
    "# model.add(MaxPooling2D(pool_size=(2, 2)))\n",
    "# model.add(Dropout(0.25))\n",
    "# model.add(Flatten())\n",
    "# model.add(Dense(128, activation='relu'))\n",
    "# model.add(Dropout(0.5))\n",
    "# model.add(Dense(10, activation='softmax'))\n",
    "# model.compile(loss='categorical_crossentropy', optimizer='adam', metrics=['accuracy'])\n",
    "# model.summary()"
   ]
  },
  {
   "cell_type": "code",
   "execution_count": null,
   "metadata": {},
   "outputs": [],
   "source": [
    "import random\n",
    "rand_numbers = random.sample(range(0, 1000), 100)\n",
    "rand_numbers\n",
    "x_test2 = x_test[rand_numbers,:,:,:]\n",
    "y_test2 = y_test[rand_numbers,:]"
   ]
  },
  {
   "cell_type": "code",
   "execution_count": 80,
   "metadata": {},
   "outputs": [],
   "source": [
    "from utils import *"
   ]
  },
  {
   "cell_type": "code",
   "execution_count": null,
   "metadata": {},
   "outputs": [],
   "source": [
    "train_model_iteratively(baseline_model,x_train,y_train,x_test2,y_test2,'./data/tmp_cnn')"
   ]
  },
  {
   "cell_type": "code",
   "execution_count": null,
   "metadata": {},
   "outputs": [],
   "source": [
    "yDF = pd.DataFrame(y_test2,columns=['Actual Label 0','Actual Label 1'])\n",
    "yDF['point']=range(100)\n",
    "y_pred = pd.read_csv('./data/tmp_cnn/predictions.csv')\n",
    "y_pred.rename({y_pred.columns[0]:'point'},axis=1,inplace=True)\n",
    "y_pred2 = pd.merge(yDF,y_pred,left_on='point',right_on='point')\n",
    "y_pred2.to_csv('./data/tmp_cnn/predictions2.csv')"
   ]
  },
  {
   "cell_type": "code",
   "execution_count": null,
   "metadata": {},
   "outputs": [],
   "source": []
  },
  {
   "cell_type": "code",
   "execution_count": 73,
   "metadata": {},
   "outputs": [
    {
     "name": "stdout",
     "output_type": "stream",
     "text": [
      "model.1-1-0.44.hdf5\n",
      "model.1-3-0.41.hdf5\n",
      "model.0-3-2.10.hdf5\n",
      "model.0-1-7.67.hdf5\n"
     ]
    }
   ],
   "source": [
    "model_weights=get_model_weights('./data/tmp_cnn')"
   ]
  },
  {
   "cell_type": "code",
   "execution_count": 78,
   "metadata": {},
   "outputs": [
    {
     "data": {
      "text/plain": [
       "(18,)"
      ]
     },
     "execution_count": 78,
     "metadata": {},
     "output_type": "execute_result"
    }
   ],
   "source": [
    "model_weights[list(model_weights.keys())[0]]['conv_kernel_0'].flatten().shape"
   ]
  },
  {
   "cell_type": "code",
   "execution_count": 89,
   "metadata": {},
   "outputs": [
    {
     "data": {
      "text/plain": [
       "(3, 3, 1, 2)"
      ]
     },
     "execution_count": 89,
     "metadata": {},
     "output_type": "execute_result"
    }
   ],
   "source": [
    "model_weights[list(model_weights.keys())[0]]['conv_kernel_0'].shape"
   ]
  },
  {
   "cell_type": "code",
   "execution_count": 71,
   "metadata": {},
   "outputs": [],
   "source": [
    "def get_kernel_names(f):\n",
    "    datalist = []\n",
    "    def returnname(name):\n",
    "        if 'kernel' in name and name not in datalist and 'model_weights' in name:\n",
    "            return name\n",
    "        else:\n",
    "            return None\n",
    "    looper = 1\n",
    "    while looper == 1:\n",
    "        name = f.visit(returnname)\n",
    "        if name == None:\n",
    "            looper = 0\n",
    "            continue\n",
    "        datalist.append(name)\n",
    "    return datalist\n"
   ]
  },
  {
   "cell_type": "code",
   "execution_count": 72,
   "metadata": {},
   "outputs": [
    {
     "data": {
      "text/plain": [
       "['model_weights/conv2d_25/conv2d_25/kernel:0',\n",
       " 'model_weights/dense_25/dense_25/kernel:0']"
      ]
     },
     "execution_count": 72,
     "metadata": {},
     "output_type": "execute_result"
    }
   ],
   "source": [
    "get_kernel_names(f)"
   ]
  },
  {
   "cell_type": "code",
   "execution_count": 88,
   "metadata": {},
   "outputs": [
    {
     "data": {
      "text/html": [
       "<div>\n",
       "<style scoped>\n",
       "    .dataframe tbody tr th:only-of-type {\n",
       "        vertical-align: middle;\n",
       "    }\n",
       "\n",
       "    .dataframe tbody tr th {\n",
       "        vertical-align: top;\n",
       "    }\n",
       "\n",
       "    .dataframe thead th {\n",
       "        text-align: right;\n",
       "    }\n",
       "</style>\n",
       "<table border=\"1\" class=\"dataframe\">\n",
       "  <thead>\n",
       "    <tr style=\"text-align: right;\">\n",
       "      <th></th>\n",
       "      <th>model_id</th>\n",
       "      <th>epoch</th>\n",
       "      <th>val_loss</th>\n",
       "      <th>conv_kernel_0_0</th>\n",
       "      <th>conv_kernel_0_1</th>\n",
       "      <th>conv_kernel_0_2</th>\n",
       "      <th>conv_kernel_0_3</th>\n",
       "      <th>conv_kernel_0_4</th>\n",
       "      <th>conv_kernel_0_5</th>\n",
       "      <th>conv_kernel_0_6</th>\n",
       "      <th>...</th>\n",
       "      <th>dense_kernel_0_26</th>\n",
       "      <th>dense_kernel_0_27</th>\n",
       "      <th>dense_kernel_0_28</th>\n",
       "      <th>dense_kernel_0_29</th>\n",
       "      <th>dense_kernel_0_30</th>\n",
       "      <th>dense_kernel_0_31</th>\n",
       "      <th>dense_kernel_0_32</th>\n",
       "      <th>dense_kernel_0_33</th>\n",
       "      <th>dense_kernel_0_34</th>\n",
       "      <th>dense_kernel_0_35</th>\n",
       "    </tr>\n",
       "  </thead>\n",
       "  <tbody>\n",
       "    <tr>\n",
       "      <th>model.1-1-0.44.hdf5</th>\n",
       "      <td>model.1</td>\n",
       "      <td>1</td>\n",
       "      <td>0.44</td>\n",
       "      <td>-0.036989</td>\n",
       "      <td>-0.139469</td>\n",
       "      <td>0.252992</td>\n",
       "      <td>-0.518346</td>\n",
       "      <td>0.196239</td>\n",
       "      <td>0.470156</td>\n",
       "      <td>0.056776</td>\n",
       "      <td>...</td>\n",
       "      <td>0.275780</td>\n",
       "      <td>-0.454845</td>\n",
       "      <td>-0.001757</td>\n",
       "      <td>-0.323857</td>\n",
       "      <td>-0.320206</td>\n",
       "      <td>0.364231</td>\n",
       "      <td>-0.240478</td>\n",
       "      <td>-0.215816</td>\n",
       "      <td>0.647348</td>\n",
       "      <td>-0.259712</td>\n",
       "    </tr>\n",
       "    <tr>\n",
       "      <th>model.1-3-0.41.hdf5</th>\n",
       "      <td>model.1</td>\n",
       "      <td>3</td>\n",
       "      <td>0.41</td>\n",
       "      <td>-0.094851</td>\n",
       "      <td>-0.145225</td>\n",
       "      <td>0.202130</td>\n",
       "      <td>-0.545969</td>\n",
       "      <td>0.150403</td>\n",
       "      <td>0.431502</td>\n",
       "      <td>-0.001046</td>\n",
       "      <td>...</td>\n",
       "      <td>0.271950</td>\n",
       "      <td>-0.451015</td>\n",
       "      <td>-0.042575</td>\n",
       "      <td>-0.283039</td>\n",
       "      <td>-0.290661</td>\n",
       "      <td>0.334686</td>\n",
       "      <td>-0.238388</td>\n",
       "      <td>-0.217907</td>\n",
       "      <td>0.691822</td>\n",
       "      <td>-0.304186</td>\n",
       "    </tr>\n",
       "    <tr>\n",
       "      <th>model.0-3-2.10.hdf5</th>\n",
       "      <td>model.0</td>\n",
       "      <td>3</td>\n",
       "      <td>2.10</td>\n",
       "      <td>0.030580</td>\n",
       "      <td>0.333061</td>\n",
       "      <td>0.194057</td>\n",
       "      <td>-0.065567</td>\n",
       "      <td>-0.467988</td>\n",
       "      <td>-0.388728</td>\n",
       "      <td>0.278404</td>\n",
       "      <td>...</td>\n",
       "      <td>0.715139</td>\n",
       "      <td>-0.385276</td>\n",
       "      <td>0.434537</td>\n",
       "      <td>0.030749</td>\n",
       "      <td>0.315552</td>\n",
       "      <td>0.290995</td>\n",
       "      <td>0.054417</td>\n",
       "      <td>-0.053401</td>\n",
       "      <td>0.129896</td>\n",
       "      <td>0.292715</td>\n",
       "    </tr>\n",
       "    <tr>\n",
       "      <th>model.0-1-7.67.hdf5</th>\n",
       "      <td>model.0</td>\n",
       "      <td>1</td>\n",
       "      <td>7.67</td>\n",
       "      <td>0.080272</td>\n",
       "      <td>0.411834</td>\n",
       "      <td>0.235749</td>\n",
       "      <td>-0.021754</td>\n",
       "      <td>-0.448223</td>\n",
       "      <td>-0.357529</td>\n",
       "      <td>0.328421</td>\n",
       "      <td>...</td>\n",
       "      <td>0.695996</td>\n",
       "      <td>-0.366132</td>\n",
       "      <td>0.455155</td>\n",
       "      <td>0.010131</td>\n",
       "      <td>0.238270</td>\n",
       "      <td>0.368277</td>\n",
       "      <td>0.055963</td>\n",
       "      <td>-0.054947</td>\n",
       "      <td>0.089073</td>\n",
       "      <td>0.333538</td>\n",
       "    </tr>\n",
       "  </tbody>\n",
       "</table>\n",
       "<p>4 rows × 57 columns</p>\n",
       "</div>"
      ],
      "text/plain": [
       "                    model_id epoch val_loss  conv_kernel_0_0  conv_kernel_0_1  \\\n",
       "model.1-1-0.44.hdf5  model.1     1     0.44        -0.036989        -0.139469   \n",
       "model.1-3-0.41.hdf5  model.1     3     0.41        -0.094851        -0.145225   \n",
       "model.0-3-2.10.hdf5  model.0     3     2.10         0.030580         0.333061   \n",
       "model.0-1-7.67.hdf5  model.0     1     7.67         0.080272         0.411834   \n",
       "\n",
       "                     conv_kernel_0_2  conv_kernel_0_3  conv_kernel_0_4  \\\n",
       "model.1-1-0.44.hdf5         0.252992        -0.518346         0.196239   \n",
       "model.1-3-0.41.hdf5         0.202130        -0.545969         0.150403   \n",
       "model.0-3-2.10.hdf5         0.194057        -0.065567        -0.467988   \n",
       "model.0-1-7.67.hdf5         0.235749        -0.021754        -0.448223   \n",
       "\n",
       "                     conv_kernel_0_5  conv_kernel_0_6  ...  dense_kernel_0_26  \\\n",
       "model.1-1-0.44.hdf5         0.470156         0.056776  ...           0.275780   \n",
       "model.1-3-0.41.hdf5         0.431502        -0.001046  ...           0.271950   \n",
       "model.0-3-2.10.hdf5        -0.388728         0.278404  ...           0.715139   \n",
       "model.0-1-7.67.hdf5        -0.357529         0.328421  ...           0.695996   \n",
       "\n",
       "                     dense_kernel_0_27  dense_kernel_0_28  dense_kernel_0_29  \\\n",
       "model.1-1-0.44.hdf5          -0.454845          -0.001757          -0.323857   \n",
       "model.1-3-0.41.hdf5          -0.451015          -0.042575          -0.283039   \n",
       "model.0-3-2.10.hdf5          -0.385276           0.434537           0.030749   \n",
       "model.0-1-7.67.hdf5          -0.366132           0.455155           0.010131   \n",
       "\n",
       "                     dense_kernel_0_30  dense_kernel_0_31  dense_kernel_0_32  \\\n",
       "model.1-1-0.44.hdf5          -0.320206           0.364231          -0.240478   \n",
       "model.1-3-0.41.hdf5          -0.290661           0.334686          -0.238388   \n",
       "model.0-3-2.10.hdf5           0.315552           0.290995           0.054417   \n",
       "model.0-1-7.67.hdf5           0.238270           0.368277           0.055963   \n",
       "\n",
       "                     dense_kernel_0_33  dense_kernel_0_34  dense_kernel_0_35  \n",
       "model.1-1-0.44.hdf5          -0.215816           0.647348          -0.259712  \n",
       "model.1-3-0.41.hdf5          -0.217907           0.691822          -0.304186  \n",
       "model.0-3-2.10.hdf5          -0.053401           0.129896           0.292715  \n",
       "model.0-1-7.67.hdf5          -0.054947           0.089073           0.333538  \n",
       "\n",
       "[4 rows x 57 columns]"
      ]
     },
     "execution_count": 88,
     "metadata": {},
     "output_type": "execute_result"
    }
   ],
   "source": [
    "convert_weight_dict_to_dataframe(model_weights)"
   ]
  },
  {
   "cell_type": "code",
   "execution_count": null,
   "metadata": {},
   "outputs": [],
   "source": []
  }
 ],
 "metadata": {
  "kernelspec": {
   "display_name": "Python 3",
   "language": "python",
   "name": "python3"
  },
  "language_info": {
   "codemirror_mode": {
    "name": "ipython",
    "version": 3
   },
   "file_extension": ".py",
   "mimetype": "text/x-python",
   "name": "python",
   "nbconvert_exporter": "python",
   "pygments_lexer": "ipython3",
   "version": "3.6.12"
  },
  "toc": {
   "base_numbering": 1,
   "nav_menu": {},
   "number_sections": true,
   "sideBar": true,
   "skip_h1_title": false,
   "title_cell": "Table of Contents",
   "title_sidebar": "Contents",
   "toc_cell": true,
   "toc_position": {},
   "toc_section_display": true,
   "toc_window_display": false
  }
 },
 "nbformat": 4,
 "nbformat_minor": 2
}
