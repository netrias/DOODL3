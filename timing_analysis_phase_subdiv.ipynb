{
 "cells": [
  {
   "cell_type": "code",
   "execution_count": 1,
   "id": "wireless-constitution",
   "metadata": {},
   "outputs": [
    {
     "name": "stderr",
     "output_type": "stream",
     "text": [
      "Using TensorFlow backend.\n"
     ]
    }
   ],
   "source": [
    "# basics\n",
    "import os\n",
    "import time\n",
    "import numpy as np\n",
    "import pandas as pd\n",
    "\n",
    "# scipy and sklearn\n",
    "from scipy.stats import entropy\n",
    "from sklearn.metrics import balanced_accuracy_score\n",
    "from sklearn.model_selection import train_test_split\n",
    "from sklearn.preprocessing import OneHotEncoder, StandardScaler\n",
    "\n",
    "# plotting\n",
    "import matplotlib\n",
    "import matplotlib.pyplot as plt\n",
    "import matplotlib.patches as mpatches\n",
    "from matplotlib.collections import PatchCollection\n",
    "import seaborn as sns\n",
    "from IPython.display import Image\n",
    "from matplotlib.patches import Rectangle\n",
    "\n",
    "# CMDGB\n",
    "import graphviz\n",
    "from CMGDB import PlotMorseSets, PlotMorseGraph\n",
    "\n",
    "# local\n",
    "from data_loaders import retrieve_predictions\n",
    "from models import *\n",
    "from utils import get_model_weights, convert_weight_dict_to_dataframe, compute_morse_graph, \\\n",
    "                  compute_morse_graph_with_gpflow_gp, compute_order_retraction, PlotOrderRetraction\n",
    "\n",
    "sns.set()\n",
    "plt.style.use('ggplot')\n",
    "%matplotlib inline\n",
    "%load_ext autoreload\n",
    "%autoreload 2"
   ]
  },
  {
   "cell_type": "code",
   "execution_count": 2,
   "id": "opened-reproduction",
   "metadata": {},
   "outputs": [],
   "source": [
    "# suppress warnings\n",
    "import warnings\n",
    "warnings.filterwarnings('ignore')"
   ]
  },
  {
   "cell_type": "markdown",
   "id": "alpine-armstrong",
   "metadata": {},
   "source": [
    "# Timing Order Retraction with Different Phase Subdivisions\n",
    "Due to the need to restart kernel before each run, will need to do this manually for each phase subdivision ..."
   ]
  },
  {
   "cell_type": "markdown",
   "id": "present-edition",
   "metadata": {},
   "source": [
    "** Make sure to restart kernel before each new config run! Easiest way is to click on \"Restart & Run All\""
   ]
  },
  {
   "cell_type": "code",
   "execution_count": 3,
   "id": "institutional-hospital",
   "metadata": {},
   "outputs": [],
   "source": [
    "interesting_iris = \"iris_epoch_450\"\n",
    "smallest_or_largest = \"largest\""
   ]
  },
  {
   "cell_type": "code",
   "execution_count": 4,
   "id": "competent-keeping",
   "metadata": {
    "scrolled": false
   },
   "outputs": [
    {
     "name": "stdout",
     "output_type": "stream",
     "text": [
      "[-2.61753082 -2.89198698]\n"
     ]
    },
    {
     "data": {
      "image/png": "[encoded data removed]",
      "text/plain": [
       "<Figure size 504x504 with 1 Axes>"
      ]
     },
     "metadata": {
      "needs_background": "light"
     },
     "output_type": "display_data"
    },
    {
     "name": "stdout",
     "output_type": "stream",
     "text": [
      "time = 0.33 seconds\n"
     ]
    }
   ],
   "source": [
    "weights = get_model_weights(\"./data/{}\".format(interesting_iris))\n",
    "weights = convert_weight_dict_to_dataframe(weights)\n",
    "\n",
    "final_weights = weights.loc[weights[\"epoch\"] != \"1\"]    \n",
    "weight_cols = [c for c in list(final_weights.columns) if c not in [\"model_id\", \"epoch\", \"val_loss\"]]\n",
    "std_df = pd.DataFrame(columns=[\"weight_name\", \"std\"],\n",
    "                      data=list(zip(weight_cols, [np.std(final_weights[col]) for col in weight_cols])))\n",
    "std_df = std_df.sort_values(by=\"std\")\n",
    "\n",
    "if smallest_or_largest == \"smallest\":\n",
    "    two_weights = list(std_df[\"weight_name\"])[:2]\n",
    "elif smallest_or_largest == \"largest\":\n",
    "    two_weights = list(std_df[\"weight_name\"])[-2:]\n",
    "else:\n",
    "    raise ValueError()\n",
    "\n",
    "start_time = time.time()\n",
    "# this is where we change the number of phase subdivisions.\n",
    "morseg, mapg = compute_morse_graph(weights[['epoch'] + two_weights], phase_subdiv=5)\n",
    "compute_order_retraction(morseg, mapg, title=\"{}_{}_2\".format(interesting_iris, smallest_or_largest))\n",
    "print(\"time = {:.2f} seconds\".format(time.time() - start_time))"
   ]
  },
  {
   "cell_type": "markdown",
   "id": "automotive-tuition",
   "metadata": {},
   "source": [
    "Manually populate the timing data: Create DataFrame of phase subdivisions and times manually based on above print-outs"
   ]
  },
  {
   "cell_type": "code",
   "execution_count": 5,
   "id": "disabled-superior",
   "metadata": {},
   "outputs": [],
   "source": [
    "subdiv_df = pd.DataFrame(columns=[\"Phase Subdivision\", \"Time (seconds)\"])\n",
    "subdiv_df.loc[len(subdiv_df)] = [5, 0.33]\n",
    "subdiv_df.loc[len(subdiv_df)] = [6, 0.4]\n",
    "subdiv_df.loc[len(subdiv_df)] = [7, 0.61]\n",
    "subdiv_df.loc[len(subdiv_df)] = [8, 0.82]\n",
    "subdiv_df.loc[len(subdiv_df)] = [9, 1.46]\n",
    "subdiv_df.loc[len(subdiv_df)] = [10, 2.65]\n",
    "subdiv_df.loc[len(subdiv_df)] = [11, 4.73]\n",
    "subdiv_df.loc[len(subdiv_df)] = [12, 8.94]\n",
    "subdiv_df.loc[len(subdiv_df)] = [13, 17.93]\n",
    "subdiv_df.loc[len(subdiv_df)] = [14, 35.78]\n",
    "subdiv_df.loc[len(subdiv_df)] = [15, 68.59]\n",
    "subdiv_df.loc[len(subdiv_df)] = [16, 123.81]\n",
    "subdiv_df.loc[len(subdiv_df)] = [17, 297.46]"
   ]
  },
  {
   "cell_type": "code",
   "execution_count": 6,
   "id": "beginning-albany",
   "metadata": {},
   "outputs": [
    {
     "data": {
      "text/html": [
       "<div>\n",
       "<style scoped>\n",
       "    .dataframe tbody tr th:only-of-type {\n",
       "        vertical-align: middle;\n",
       "    }\n",
       "\n",
       "    .dataframe tbody tr th {\n",
       "        vertical-align: top;\n",
       "    }\n",
       "\n",
       "    .dataframe thead th {\n",
       "        text-align: right;\n",
       "    }\n",
       "</style>\n",
       "<table border=\"1\" class=\"dataframe\">\n",
       "  <thead>\n",
       "    <tr style=\"text-align: right;\">\n",
       "      <th></th>\n",
       "      <th>Phase Subdivision</th>\n",
       "      <th>Time (seconds)</th>\n",
       "    </tr>\n",
       "  </thead>\n",
       "  <tbody>\n",
       "    <tr>\n",
       "      <th>0</th>\n",
       "      <td>5</td>\n",
       "      <td>0.33</td>\n",
       "    </tr>\n",
       "    <tr>\n",
       "      <th>1</th>\n",
       "      <td>6</td>\n",
       "      <td>0.40</td>\n",
       "    </tr>\n",
       "    <tr>\n",
       "      <th>2</th>\n",
       "      <td>7</td>\n",
       "      <td>0.61</td>\n",
       "    </tr>\n",
       "    <tr>\n",
       "      <th>3</th>\n",
       "      <td>8</td>\n",
       "      <td>0.82</td>\n",
       "    </tr>\n",
       "    <tr>\n",
       "      <th>4</th>\n",
       "      <td>9</td>\n",
       "      <td>1.46</td>\n",
       "    </tr>\n",
       "    <tr>\n",
       "      <th>5</th>\n",
       "      <td>10</td>\n",
       "      <td>2.65</td>\n",
       "    </tr>\n",
       "    <tr>\n",
       "      <th>6</th>\n",
       "      <td>11</td>\n",
       "      <td>4.73</td>\n",
       "    </tr>\n",
       "    <tr>\n",
       "      <th>7</th>\n",
       "      <td>12</td>\n",
       "      <td>8.94</td>\n",
       "    </tr>\n",
       "    <tr>\n",
       "      <th>8</th>\n",
       "      <td>13</td>\n",
       "      <td>17.93</td>\n",
       "    </tr>\n",
       "    <tr>\n",
       "      <th>9</th>\n",
       "      <td>14</td>\n",
       "      <td>35.78</td>\n",
       "    </tr>\n",
       "    <tr>\n",
       "      <th>10</th>\n",
       "      <td>15</td>\n",
       "      <td>68.59</td>\n",
       "    </tr>\n",
       "    <tr>\n",
       "      <th>11</th>\n",
       "      <td>16</td>\n",
       "      <td>123.81</td>\n",
       "    </tr>\n",
       "    <tr>\n",
       "      <th>12</th>\n",
       "      <td>17</td>\n",
       "      <td>297.46</td>\n",
       "    </tr>\n",
       "  </tbody>\n",
       "</table>\n",
       "</div>"
      ],
      "text/plain": [
       "    Phase Subdivision  Time (seconds)\n",
       "0                   5            0.33\n",
       "1                   6            0.40\n",
       "2                   7            0.61\n",
       "3                   8            0.82\n",
       "4                   9            1.46\n",
       "5                  10            2.65\n",
       "6                  11            4.73\n",
       "7                  12            8.94\n",
       "8                  13           17.93\n",
       "9                  14           35.78\n",
       "10                 15           68.59\n",
       "11                 16          123.81\n",
       "12                 17          297.46"
      ]
     },
     "execution_count": 6,
     "metadata": {},
     "output_type": "execute_result"
    }
   ],
   "source": [
    "subdiv_df[\"Phase Subdivision\"] = subdiv_df[\"Phase Subdivision\"].astype(int)\n",
    "subdiv_df"
   ]
  },
  {
   "cell_type": "code",
   "execution_count": 7,
   "id": "palestinian-toyota",
   "metadata": {},
   "outputs": [
    {
     "data": {
      "image/png": "[encoded data removed]",
      "text/plain": [
       "<Figure size 432x288 with 1 Axes>"
      ]
     },
     "metadata": {},
     "output_type": "display_data"
    }
   ],
   "source": [
    "sns.set(font_scale=1.5, font=\"Arial\")\n",
    "sns.scatterplot(data=subdiv_df, x=\"Phase Subdivision\", y=\"Time (seconds)\")\n",
    "\n",
    "plt.xticks(subdiv_df[\"Phase Subdivision\"])\n",
    "plt.title(\"CMGDB Run Time at Different Phase Subdivisions\")\n",
    "\n",
    "plt.show()"
   ]
  }
 ],
 "metadata": {
  "kernelspec": {
   "display_name": "Python [conda env:deep_chaos] *",
   "language": "python",
   "name": "conda-env-deep_chaos-py"
  },
  "language_info": {
   "codemirror_mode": {
    "name": "ipython",
    "version": 3
   },
   "file_extension": ".py",
   "mimetype": "text/x-python",
   "name": "python",
   "nbconvert_exporter": "python",
   "pygments_lexer": "ipython3",
   "version": "3.6.12"
  }
 },
 "nbformat": 4,
 "nbformat_minor": 5
}
