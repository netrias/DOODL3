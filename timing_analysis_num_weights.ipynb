{
 "cells": [
  {
   "cell_type": "code",
   "execution_count": 1,
   "id": "wireless-constitution",
   "metadata": {},
   "outputs": [
    {
     "name": "stderr",
     "output_type": "stream",
     "text": [
      "Using TensorFlow backend.\n"
     ]
    }
   ],
   "source": [
    "# basics\n",
    "import os\n",
    "import time\n",
    "import numpy as np\n",
    "import pandas as pd\n",
    "\n",
    "# scipy and sklearn\n",
    "from scipy.stats import entropy\n",
    "from sklearn.metrics import balanced_accuracy_score\n",
    "from sklearn.model_selection import train_test_split\n",
    "from sklearn.preprocessing import OneHotEncoder, StandardScaler\n",
    "\n",
    "# plotting\n",
    "import matplotlib\n",
    "import matplotlib.pyplot as plt\n",
    "import matplotlib.patches as mpatches\n",
    "from matplotlib.collections import PatchCollection\n",
    "import seaborn as sns\n",
    "from IPython.display import Image\n",
    "from matplotlib.patches import Rectangle\n",
    "\n",
    "# CMDGB\n",
    "import graphviz\n",
    "from CMGDB import PlotMorseSets, PlotMorseGraph\n",
    "\n",
    "# local\n",
    "from data_loaders import retrieve_predictions\n",
    "from models import *\n",
    "from utils import get_model_weights, convert_weight_dict_to_dataframe, compute_morse_graph, \\\n",
    "                  compute_morse_graph_with_gpflow_gp, compute_order_retraction, PlotOrderRetraction\n",
    "\n",
    "sns.set()\n",
    "plt.style.use('ggplot')\n",
    "%matplotlib inline\n",
    "%load_ext autoreload\n",
    "%autoreload 2"
   ]
  },
  {
   "cell_type": "code",
   "execution_count": 2,
   "id": "opened-reproduction",
   "metadata": {},
   "outputs": [],
   "source": [
    "# suppress warnings\n",
    "import warnings\n",
    "warnings.filterwarnings('ignore')"
   ]
  },
  {
   "cell_type": "markdown",
   "id": "excited-contributor",
   "metadata": {},
   "source": [
    "# Timing Different Numbers of Model Weights\n",
    "Due to the need to restart kernel before each run, will need to do this manually for each number of weights ..."
   ]
  },
  {
   "cell_type": "markdown",
   "id": "present-edition",
   "metadata": {},
   "source": [
    "Config:\n",
    "\n",
    "** Make sure to restart kernel before each new config run! Easiest way is to click on \"Restart & Run All\""
   ]
  },
  {
   "cell_type": "code",
   "execution_count": 3,
   "id": "institutional-hospital",
   "metadata": {},
   "outputs": [],
   "source": [
    "# Pick interesting_iris from: [\"iris_baseline\", \"iris_layers_2\", \"iris_epoch_450\"]\n",
    "interesting_iris = \"iris_epoch_450\"\n",
    "# Pick smallest_or_largest from: [\"smallest\", \"largest\"]\n",
    "smallest_or_largest = \"largest\""
   ]
  },
  {
   "cell_type": "code",
   "execution_count": 4,
   "id": "persistent-recovery",
   "metadata": {},
   "outputs": [
    {
     "name": "stdout",
     "output_type": "stream",
     "text": [
      "[-2.61753082 -2.89198698]\n"
     ]
    },
    {
     "data": {
      "image/png": "[encoded data removed]",
      "text/plain": [
       "<Figure size 504x504 with 1 Axes>"
      ]
     },
     "metadata": {
      "needs_background": "light"
     },
     "output_type": "display_data"
    },
    {
     "name": "stdout",
     "output_type": "stream",
     "text": [
      "time = 70.37 seconds\n"
     ]
    }
   ],
   "source": [
    "weights = get_model_weights(\"./data/{}\".format(interesting_iris))\n",
    "weights = convert_weight_dict_to_dataframe(weights)\n",
    "\n",
    "final_weights = weights.loc[weights[\"epoch\"] != \"1\"]    \n",
    "weight_cols = [c for c in list(final_weights.columns) if c not in [\"model_id\", \"epoch\", \"val_loss\"]]\n",
    "std_df = pd.DataFrame(columns=[\"weight_name\", \"std\"],\n",
    "                      data=list(zip(weight_cols, [np.std(final_weights[col]) for col in weight_cols])))\n",
    "std_df = std_df.sort_values(by=\"std\")\n",
    "\n",
    "chosen_weights = list(std_df[\"weight_name\"])[-2:]\n",
    "\n",
    "start_time = time.time()\n",
    "morseg, mapg = compute_morse_graph(weights[['epoch'] + chosen_weights], phase_subdiv=15)\n",
    "compute_order_retraction(morseg, mapg, title=\"{}_{}_2\".format(interesting_iris, smallest_or_largest))\n",
    "print(\"time = {:.2f} seconds\".format(time.time() - start_time))"
   ]
  },
  {
   "cell_type": "code",
   "execution_count": 5,
   "id": "radio-spain",
   "metadata": {},
   "outputs": [],
   "source": [
    "df = pd.DataFrame(columns=[\"Number of Weights\", \"Time (seconds)\"])\n",
    "df.loc[len(df)] = [2, 70.76]\n",
    "df.loc[len(df)] = [3, 142.39]\n",
    "df.loc[len(df)] = [4, 257.30]\n",
    "df.loc[len(df)] = [5, 611.37]"
   ]
  },
  {
   "cell_type": "code",
   "execution_count": 6,
   "id": "impossible-buying",
   "metadata": {},
   "outputs": [
    {
     "data": {
      "text/html": [
       "<div>\n",
       "<style scoped>\n",
       "    .dataframe tbody tr th:only-of-type {\n",
       "        vertical-align: middle;\n",
       "    }\n",
       "\n",
       "    .dataframe tbody tr th {\n",
       "        vertical-align: top;\n",
       "    }\n",
       "\n",
       "    .dataframe thead th {\n",
       "        text-align: right;\n",
       "    }\n",
       "</style>\n",
       "<table border=\"1\" class=\"dataframe\">\n",
       "  <thead>\n",
       "    <tr style=\"text-align: right;\">\n",
       "      <th></th>\n",
       "      <th>Number of Weights</th>\n",
       "      <th>Time (seconds)</th>\n",
       "    </tr>\n",
       "  </thead>\n",
       "  <tbody>\n",
       "    <tr>\n",
       "      <th>0</th>\n",
       "      <td>2</td>\n",
       "      <td>70.76</td>\n",
       "    </tr>\n",
       "    <tr>\n",
       "      <th>1</th>\n",
       "      <td>3</td>\n",
       "      <td>142.39</td>\n",
       "    </tr>\n",
       "    <tr>\n",
       "      <th>2</th>\n",
       "      <td>4</td>\n",
       "      <td>257.30</td>\n",
       "    </tr>\n",
       "    <tr>\n",
       "      <th>3</th>\n",
       "      <td>5</td>\n",
       "      <td>611.37</td>\n",
       "    </tr>\n",
       "  </tbody>\n",
       "</table>\n",
       "</div>"
      ],
      "text/plain": [
       "   Number of Weights  Time (seconds)\n",
       "0                  2           70.76\n",
       "1                  3          142.39\n",
       "2                  4          257.30\n",
       "3                  5          611.37"
      ]
     },
     "execution_count": 6,
     "metadata": {},
     "output_type": "execute_result"
    }
   ],
   "source": [
    "df[\"Number of Weights\"] = df[\"Number of Weights\"].astype(int)\n",
    "df"
   ]
  },
  {
   "cell_type": "code",
   "execution_count": 8,
   "id": "accepting-associate",
   "metadata": {},
   "outputs": [
    {
     "data": {
      "image/png": "[encoded data removed]",
      "text/plain": [
       "<Figure size 432x288 with 1 Axes>"
      ]
     },
     "metadata": {},
     "output_type": "display_data"
    }
   ],
   "source": [
    "sns.set(font_scale=1.5, font=\"Arial\")\n",
    "sns.scatterplot(data=df, x=\"Number of Weights\", y=\"Time (seconds)\")\n",
    "\n",
    "plt.xticks(df[\"Number of Weights\"])\n",
    "plt.title(\"CMGDB Run Time using Different Numbers of Weights\")\n",
    "\n",
    "plt.show()"
   ]
  }
 ],
 "metadata": {
  "kernelspec": {
   "display_name": "Python [conda env:deep_chaos] *",
   "language": "python",
   "name": "conda-env-deep_chaos-py"
  },
  "language_info": {
   "codemirror_mode": {
    "name": "ipython",
    "version": 3
   },
   "file_extension": ".py",
   "mimetype": "text/x-python",
   "name": "python",
   "nbconvert_exporter": "python",
   "pygments_lexer": "ipython3",
   "version": "3.6.12"
  }
 },
 "nbformat": 4,
 "nbformat_minor": 5
}
